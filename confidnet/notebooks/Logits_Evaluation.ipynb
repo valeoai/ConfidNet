{
 "cells": [
  {
   "cell_type": "markdown",
   "metadata": {},
   "source": [
    "# Logits\n",
    "\n",
    "To study the logits of neural network models"
   ]
  },
  {
   "cell_type": "code",
   "execution_count": 1,
   "metadata": {},
   "outputs": [
    {
     "name": "stdout",
     "output_type": "stream",
     "text": [
      "No module named 'structured_map_ranking_loss'\n"
     ]
    }
   ],
   "source": [
    "import os\n",
    "import argparse\n",
    "import yaml\n",
    "import numpy as np\n",
    "from sklearn.metrics import average_precision_score\n",
    "from tqdm import tqdm_notebook as tqdm\n",
    "import matplotlib.pyplot as plt\n",
    "import matplotlib.gridspec as gridspec\n",
    "import torch\n",
    "from torch import nn, optim\n",
    "import torch.nn.functional as F\n",
    "%matplotlib inline\n",
    "\n",
    "import sys\n",
    "sys.path.insert(0, '../')\n",
    "from loaders import get_loader\n",
    "from learners import get_learner\n",
    "from models import get_model\n",
    "from utils import trust_scores\n",
    "from metrics import Metrics\n",
    "import utils.logger\n",
    "LOGGER = utils.logger.get_logger(__name__, level='DEBUG')"
   ]
  },
  {
   "cell_type": "markdown",
   "metadata": {},
   "source": [
    "## Load normal model"
   ]
  },
  {
   "cell_type": "code",
   "execution_count": 138,
   "metadata": {},
   "outputs": [],
   "source": [
    "# 20, 200, 490"
   ]
  },
  {
   "cell_type": "code",
   "execution_count": 146,
   "metadata": {},
   "outputs": [
    {
     "name": "stderr",
     "output_type": "stream",
     "text": [
      "2019-07-24 16:32:50,521 mustang __main__[39157] INFO Loading dataset cifar100\n",
      "2019-07-24 16:32:50,523 mustang loaders.loader[39157] INFO --- Augmentations ---\n",
      "2019-07-24 16:32:50,523 mustang augmentations[39157] INFO Using hflip aug with params True\n",
      "2019-07-24 16:32:50,524 mustang augmentations[39157] INFO Using random_crop aug with params 32\n",
      "2019-07-24 16:32:50,525 mustang augmentations[39157] INFO Using No Augmentations\n"
     ]
    },
    {
     "name": "stdout",
     "output_type": "stream",
     "text": [
      "Files already downloaded and verified\n",
      "Files already downloaded and verified\n"
     ]
    },
    {
     "name": "stderr",
     "output_type": "stream",
     "text": [
      "2019-07-24 16:32:55,500 mustang loaders.loader[39157] WARNING Loading existing train-val split indices\n",
      "2019-07-24 16:32:55,514 mustang __main__[39157] WARNING Learning type: default\n",
      "2019-07-24 16:32:56,504 mustang learners.learner[39157] INFO Using optimizer sgd\n",
      "2019-07-24 16:32:56,883 mustang __main__[39157] INFO Inference mode: normal\n"
     ]
    }
   ],
   "source": [
    "config_path = '/home/docker_user/shared/ccorbiere/logs/cifar100/logits/cifar100_calibration_resnet50_lr1/config_1.yaml'\n",
    "epoch = 490\n",
    "mode = 'normal'\n",
    "start_epoch = 1\n",
    "\n",
    "# Dataloader\n",
    "with open(config_path, 'r') as f:\n",
    "    config_args = yaml.load(f, Loader=yaml.SafeLoader)\n",
    "    config_args['training']['metrics'] = ['accuracy', 'auc', 'ap_success', 'ap_errors']\n",
    "\n",
    "config_args['data']['is_test'] = True\n",
    "config_args['model']['feature_dim'] = 512\n",
    "   \n",
    "# Device configuration\n",
    "device = torch.device('cuda' if torch.cuda.is_available() else 'cpu')\n",
    "\n",
    "# Load dataset\n",
    "LOGGER.info('Loading dataset {}'.format(config_args['data']['dataset']))\n",
    "dloader = get_loader(config_args, generating=True)\n",
    "\n",
    "# Make loaders\n",
    "dloader.make_loaders()\n",
    "\n",
    "# Set learner\n",
    "LOGGER.warning('Learning type: {}'.format(config_args['training']['learner']))\n",
    "learner_normal = get_learner(config_args, dloader.train_loader, dloader.val_loader, \n",
    "                             dloader.test_loader, start_epoch, device)\n",
    "\n",
    "# Load model\n",
    "# Initialize and load model\n",
    "ckpt_path = os.path.join(config_args['training']['output_folder'], 'model_epoch_{:03d}.ckpt'.format(epoch))\n",
    "checkpoint = torch.load(ckpt_path)\n",
    "learner_normal.model.load_state_dict(checkpoint['model_state_dict'])\n",
    "\n",
    "# Get scores\n",
    "LOGGER.info('Inference mode: {}'.format(mode))\n",
    "\n",
    "if not hasattr(checkpoint, 'prod_test_len'):\n",
    "    learner_normal.prod_test_len = learner_normal.nsamples_test"
   ]
  },
  {
   "cell_type": "markdown",
   "metadata": {},
   "source": [
    "## Compute predictions"
   ]
  },
  {
   "cell_type": "code",
   "execution_count": 147,
   "metadata": {},
   "outputs": [],
   "source": [
    "def predict_model(test_loader, model):\n",
    "    accuracy = 0\n",
    "    accurate, proba_pred = [], []\n",
    "    alpha_0, max_alpha, u1, entropy, logits = [], [], [], [], []\n",
    "\n",
    "    model.eval()\n",
    "    with torch.no_grad():\n",
    "        loop = tqdm(test_loader)\n",
    "        for j, (data,target) in enumerate(loop):\n",
    "            data, target = data.to(device), target.to(device)\n",
    "            output = learner_normal.model(data)\n",
    "            if isinstance(output,tuple):\n",
    "                output = output[0]\n",
    "            alpha_0.extend(output.sum(dim=1))\n",
    "            max_alpha.extend(output.max(dim=1)[0])\n",
    "            u1.extend((output.max(dim=1, keepdim=True)[0]-output).mean(dim=1))\n",
    "            logits.extend(output)\n",
    "            proba = F.softmax(output, dim=1)\n",
    "            entropy.extend((-proba*torch.log(proba)).sum(dim=1))\n",
    "            confidence, pred = proba.max(dim=1, keepdim=True)\n",
    "            accuracy += pred.eq(target.view_as(pred)).sum()\n",
    "            accurate.extend(pred.eq(target.view_as(pred)))\n",
    "            proba_pred.extend(confidence)\n",
    "\n",
    "    alpha_0 = torch.stack(alpha_0).detach().to('cpu')\n",
    "    max_alpha = torch.stack(max_alpha).detach().to('cpu')\n",
    "    u1 = torch.stack(u1).detach().to('cpu')\n",
    "    entropy = torch.stack(entropy).detach().to('cpu')\n",
    "    logits = torch.stack(logits).detach().to('cpu')\n",
    "    \n",
    "    proba_pred = torch.stack(proba_pred).detach().to('cpu') #.numpy()   \n",
    "    accurate = torch.cat(accurate).detach().to('cpu') #.numpy()\n",
    "\n",
    "    len_test_set = len(dloader.test_loader.dataset)\n",
    "    accuracy = accuracy.item() / float(len_test_set)\n",
    "    print('Test set: Accuracy: {}/{} ({:.2f}%)'.format(\n",
    "        int(accuracy*len_test_set), len_test_set, 100*accuracy))\n",
    "    \n",
    "    return proba_pred, accurate, accuracy, alpha_0, max_alpha, u1, entropy, logits"
   ]
  },
  {
   "cell_type": "code",
   "execution_count": 148,
   "metadata": {},
   "outputs": [
    {
     "data": {
      "application/vnd.jupyter.widget-view+json": {
       "model_id": "280bf23073944ee08fa2607bfa63fba6",
       "version_major": 2,
       "version_minor": 0
      },
      "text/plain": [
       "HBox(children=(IntProgress(value=0, max=79), HTML(value='')))"
      ]
     },
     "metadata": {},
     "output_type": "display_data"
    },
    {
     "name": "stdout",
     "output_type": "stream",
     "text": [
      "\n",
      "Test set: Accuracy: 7453/10000 (74.53%)\n"
     ]
    }
   ],
   "source": [
    "proba_pred_normal, accurate_normal, accuracy_normal, alpha_0, max_alpha, u1, entropy, logits = predict_model(dloader.test_loader, learner_normal.model)"
   ]
  },
  {
   "cell_type": "code",
   "execution_count": 149,
   "metadata": {},
   "outputs": [],
   "source": [
    "other_logits = ((logits != max_alpha.unsqueeze(1)).float()*logits)"
   ]
  },
  {
   "cell_type": "code",
   "execution_count": null,
   "metadata": {},
   "outputs": [],
   "source": []
  },
  {
   "cell_type": "code",
   "execution_count": 139,
   "metadata": {},
   "outputs": [],
   "source": [
    "maxz, logitz, other_logitz, alpha_0z = [], [], [], []"
   ]
  },
  {
   "cell_type": "code",
   "execution_count": 150,
   "metadata": {},
   "outputs": [],
   "source": [
    "maxz.append(max_alpha[idx].numpy())\n",
    "logitz.append(logits[idx].flatten().numpy())\n",
    "other_logitz.append(other_logits[idx].flatten().numpy())\n",
    "alpha_0z.append(alpha_0[idx].flatten().numpy())"
   ]
  },
  {
   "cell_type": "code",
   "execution_count": 151,
   "metadata": {},
   "outputs": [
    {
     "data": {
      "image/png": "[encoded data removed]",
      "text/plain": [
       "<Figure size 1080x720 with 4 Axes>"
      ]
     },
     "metadata": {
      "needs_background": "light"
     },
     "output_type": "display_data"
    }
   ],
   "source": [
    "plt.figure(figsize=(15,10))\n",
    "plt.subplot(221)\n",
    "plt.title('Maxz')\n",
    "plt.boxplot(maxz)\n",
    "plt.subplot(222)\n",
    "plt.title('logitz')\n",
    "plt.boxplot(logitz)\n",
    "plt.subplot(223)\n",
    "plt.title('other_logitz')\n",
    "plt.boxplot(logitz)\n",
    "plt.subplot(224)\n",
    "plt.title('alpha_0z')\n",
    "plt.boxplot(alpha_0z)\n",
    "plt.show()"
   ]
  },
  {
   "cell_type": "code",
   "execution_count": null,
   "metadata": {},
   "outputs": [],
   "source": []
  },
  {
   "cell_type": "code",
   "execution_count": null,
   "metadata": {},
   "outputs": [],
   "source": []
  },
  {
   "cell_type": "code",
   "execution_count": 107,
   "metadata": {},
   "outputs": [],
   "source": [
    "k = 1000\n",
    "perm = torch.randperm(logits.size(0))\n",
    "idx = perm[:k]"
   ]
  },
  {
   "cell_type": "code",
   "execution_count": 88,
   "metadata": {},
   "outputs": [
    {
     "data": {
      "image/png": "[encoded data removed]",
      "text/plain": [
       "<Figure size 720x360 with 1 Axes>"
      ]
     },
     "metadata": {
      "needs_background": "light"
     },
     "output_type": "display_data"
    }
   ],
   "source": [
    "plt.figure(figsize=(10,5))\n",
    "plt.boxplot([max_alpha[idx], logits[idx].flatten().numpy(), other_logits[idx].flatten().numpy(), alpha_0[idx]], labels=['Max_logits','All_Logits','Other_Logits', 'Alpha_0'])\n",
    "plt.show()"
   ]
  },
  {
   "cell_type": "code",
   "execution_count": 90,
   "metadata": {},
   "outputs": [
    {
     "data": {
      "text/plain": [
       "tensor([-0.0301, -0.0352, -0.0314, -0.0307, -0.0219])"
      ]
     },
     "execution_count": 90,
     "metadata": {},
     "output_type": "execute_result"
    }
   ],
   "source": [
    "alpha_0[:5]"
   ]
  },
  {
   "cell_type": "code",
   "execution_count": 100,
   "metadata": {},
   "outputs": [
    {
     "data": {
      "text/plain": [
       "(tensor([-3.9543, -3.2889, -2.7324, -2.6051, -2.4979, -2.4542, -2.4370, -2.3842,\n",
       "         -2.3483, -2.3270, -2.3210, -2.3055, -2.2476, -2.2445, -2.1872, -2.0586,\n",
       "         -2.0306, -2.0109, -1.9425, -1.8785, -1.7398, -1.7027, -1.6769, -1.6503,\n",
       "         -1.5660, -1.4373, -1.3619, -1.3476, -1.3391, -1.3365, -1.3330, -1.3262,\n",
       "         -1.2841, -1.2653, -1.2622, -1.2439, -1.1845, -1.1744, -1.1374, -1.0306,\n",
       "         -1.0113, -0.9607, -0.9605, -0.9603, -0.9260, -0.8584, -0.8370, -0.6197,\n",
       "         -0.5838, -0.5712, -0.3241, -0.3079, -0.3029, -0.2864, -0.1901, -0.1036,\n",
       "         -0.0968, -0.0846, -0.0360,  0.0281,  0.0840,  0.1950,  0.2407,  0.2530,\n",
       "          0.2772,  0.2947,  0.3236,  0.3437,  0.3706,  0.4200,  0.4478,  0.6141,\n",
       "          0.7295,  0.7430,  0.7562,  0.8040,  0.9025,  0.9313,  1.0125,  1.0532,\n",
       "          1.3824,  1.4566,  1.5070,  1.5267,  1.5554,  1.7003,  2.0701,  2.4385,\n",
       "          2.4392,  2.4685,  2.5336,  2.7437,  2.9214,  3.1306,  3.7581,  4.7786,\n",
       "          4.8706,  6.2536,  8.1598, 17.1358]),\n",
       " tensor([14, 98, 65, 20, 13, 22, 18,  6, 75,  7, 86, 41, 97, 96, 44, 89, 91,  5,\n",
       "         93, 27, 42, 50, 58,  8, 26, 54, 63, 83, 34, 74, 62, 80, 43, 35,  4, 64,\n",
       "         61,  1, 21, 38, 84, 30, 36, 19, 78, 37, 17, 45,  3, 94, 31, 11, 77, 67,\n",
       "         48, 92, 79,  2, 16, 32, 59, 66, 72, 85, 47, 24, 70, 51, 88, 90, 81, 53,\n",
       "         39, 29, 55,  9, 46, 10, 73, 28, 82, 76, 25, 99, 57,  0, 87, 52, 40, 33,\n",
       "         12, 95, 68, 56, 15, 49, 69, 60, 23, 71]))"
      ]
     },
     "execution_count": 100,
     "metadata": {},
     "output_type": "execute_result"
    }
   ],
   "source": [
    "logits[4].sort()"
   ]
  },
  {
   "cell_type": "code",
   "execution_count": 101,
   "metadata": {},
   "outputs": [
    {
     "data": {
      "text/plain": [
       "(tensor([1.9173e-02, 3.7294e-02, 6.5061e-02, 7.3896e-02, 8.2258e-02, 8.5933e-02,\n",
       "         8.7424e-02, 9.2164e-02, 9.5530e-02, 9.7589e-02, 9.8177e-02, 9.9707e-02,\n",
       "         1.0565e-01, 1.0598e-01, 1.1224e-01, 1.2763e-01, 1.3125e-01, 1.3387e-01,\n",
       "         1.4335e-01, 1.5282e-01, 1.7556e-01, 1.8220e-01, 1.8695e-01, 1.9199e-01,\n",
       "         2.0888e-01, 2.3756e-01, 2.5618e-01, 2.5986e-01, 2.6209e-01, 2.6276e-01,\n",
       "         2.6369e-01, 2.6549e-01, 2.7690e-01, 2.8215e-01, 2.8303e-01, 2.8827e-01,\n",
       "         3.0589e-01, 3.0902e-01, 3.2064e-01, 3.5678e-01, 3.6374e-01, 3.8264e-01,\n",
       "         3.8271e-01, 3.8278e-01, 3.9615e-01, 4.2386e-01, 4.3299e-01, 5.3809e-01,\n",
       "         5.5778e-01, 5.6485e-01, 7.2317e-01, 7.3500e-01, 7.3864e-01, 7.5093e-01,\n",
       "         8.2687e-01, 9.0155e-01, 9.0777e-01, 9.1884e-01, 9.6464e-01, 1.0285e+00,\n",
       "         1.0876e+00, 1.2153e+00, 1.2722e+00, 1.2879e+00, 1.3195e+00, 1.3427e+00,\n",
       "         1.3821e+00, 1.4101e+00, 1.4486e+00, 1.5220e+00, 1.5648e+00, 1.8480e+00,\n",
       "         2.0741e+00, 2.1023e+00, 2.1301e+00, 2.2346e+00, 2.4658e+00, 2.5378e+00,\n",
       "         2.7526e+00, 2.8668e+00, 3.9844e+00, 4.2912e+00, 4.5134e+00, 4.6030e+00,\n",
       "         4.7368e+00, 5.4754e+00, 7.9258e+00, 1.1456e+01, 1.1463e+01, 1.1804e+01,\n",
       "         1.2598e+01, 1.5545e+01, 1.8566e+01, 2.2887e+01, 4.2869e+01, 1.1893e+02,\n",
       "         1.3039e+02, 5.1989e+02, 3.4975e+03, 2.7670e+07]),\n",
       " tensor([14, 98, 65, 20, 13, 22, 18,  6, 75,  7, 86, 41, 97, 96, 44, 89, 91,  5,\n",
       "         93, 27, 42, 50, 58,  8, 26, 54, 63, 83, 34, 74, 62, 80, 43, 35,  4, 64,\n",
       "         61,  1, 21, 38, 84, 30, 36, 19, 78, 37, 17, 45,  3, 94, 31, 11, 77, 67,\n",
       "         48, 92, 79,  2, 16, 32, 59, 66, 72, 85, 47, 24, 70, 51, 88, 90, 81, 53,\n",
       "         39, 29, 55,  9, 46, 10, 73, 28, 82, 76, 25, 99, 57,  0, 87, 52, 40, 33,\n",
       "         12, 95, 68, 56, 15, 49, 69, 60, 23, 71]))"
      ]
     },
     "execution_count": 101,
     "metadata": {},
     "output_type": "execute_result"
    }
   ],
   "source": [
    "torch.exp(logits[4]).sort()"
   ]
  },
  {
   "cell_type": "code",
   "execution_count": 102,
   "metadata": {},
   "outputs": [
    {
     "name": "stderr",
     "output_type": "stream",
     "text": [
      "/home/docker_user/miniconda/lib/python3.7/site-packages/ipykernel_launcher.py:1: UserWarning: Implicit dimension choice for softmax has been deprecated. Change the call to include dim=X as an argument.\n",
      "  \"\"\"Entry point for launching an IPython kernel.\n"
     ]
    },
    {
     "data": {
      "text/plain": [
       "(tensor([6.9281e-10, 1.3476e-09, 2.3510e-09, 2.6702e-09, 2.9724e-09, 3.1052e-09,\n",
       "         3.1591e-09, 3.3303e-09, 3.4520e-09, 3.5264e-09, 3.5476e-09, 3.6029e-09,\n",
       "         3.8177e-09, 3.8295e-09, 4.0556e-09, 4.6118e-09, 4.7428e-09, 4.8372e-09,\n",
       "         5.1799e-09, 5.5223e-09, 6.3437e-09, 6.5837e-09, 6.7553e-09, 6.9376e-09,\n",
       "         7.5478e-09, 8.5842e-09, 9.2570e-09, 9.3901e-09, 9.4707e-09, 9.4949e-09,\n",
       "         9.5284e-09, 9.5935e-09, 1.0006e-08, 1.0196e-08, 1.0227e-08, 1.0416e-08,\n",
       "         1.1053e-08, 1.1166e-08, 1.1586e-08, 1.2892e-08, 1.3144e-08, 1.3827e-08,\n",
       "         1.3829e-08, 1.3832e-08, 1.4315e-08, 1.5316e-08, 1.5646e-08, 1.9444e-08,\n",
       "         2.0155e-08, 2.0411e-08, 2.6132e-08, 2.6559e-08, 2.6691e-08, 2.7135e-08,\n",
       "         2.9879e-08, 3.2578e-08, 3.2802e-08, 3.3202e-08, 3.4857e-08, 3.7166e-08,\n",
       "         3.9300e-08, 4.3913e-08, 4.5970e-08, 4.6538e-08, 4.7680e-08, 4.8519e-08,\n",
       "         4.9943e-08, 5.0954e-08, 5.2345e-08, 5.4996e-08, 5.6545e-08, 6.6779e-08,\n",
       "         7.4949e-08, 7.5967e-08, 7.6970e-08, 8.0745e-08, 8.9100e-08, 9.1704e-08,\n",
       "         9.9464e-08, 1.0359e-07, 1.4397e-07, 1.5506e-07, 1.6309e-07, 1.6633e-07,\n",
       "         1.7116e-07, 1.9785e-07, 2.8640e-07, 4.1398e-07, 4.1423e-07, 4.2654e-07,\n",
       "         4.5524e-07, 5.6171e-07, 6.7089e-07, 8.2704e-07, 1.5491e-06, 4.2976e-06,\n",
       "         4.7117e-06, 1.8786e-05, 1.2638e-04, 9.9984e-01]),\n",
       " tensor([14, 98, 65, 20, 13, 22, 18,  6, 75,  7, 86, 41, 97, 96, 44, 89, 91,  5,\n",
       "         93, 27, 42, 50, 58,  8, 26, 54, 63, 83, 34, 74, 62, 80, 43, 35,  4, 64,\n",
       "         61,  1, 21, 38, 84, 30, 36, 19, 78, 37, 17, 45,  3, 94, 31, 11, 77, 67,\n",
       "         48, 92, 79,  2, 16, 32, 59, 66, 72, 85, 47, 24, 70, 51, 88, 90, 81, 53,\n",
       "         39, 29, 55,  9, 46, 10, 73, 28, 82, 76, 25, 99, 57,  0, 87, 52, 40, 33,\n",
       "         12, 95, 68, 56, 15, 49, 69, 60, 23, 71]))"
      ]
     },
     "execution_count": 102,
     "metadata": {},
     "output_type": "execute_result"
    }
   ],
   "source": [
    "F.softmax(logits[4]).sort()"
   ]
  },
  {
   "cell_type": "code",
   "execution_count": null,
   "metadata": {},
   "outputs": [],
   "source": []
  }
 ],
 "metadata": {
  "kernelspec": {
   "display_name": "Python 3",
   "language": "python",
   "name": "python3"
  },
  "language_info": {
   "codemirror_mode": {
    "name": "ipython",
    "version": 3
   },
   "file_extension": ".py",
   "mimetype": "text/x-python",
   "name": "python",
   "nbconvert_exporter": "python",
   "pygments_lexer": "ipython3",
   "version": "3.7.3"
  }
 },
 "nbformat": 4,
 "nbformat_minor": 2
}
