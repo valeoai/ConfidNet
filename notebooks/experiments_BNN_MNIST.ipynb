{
 "cells": [
  {
   "cell_type": "markdown",
   "metadata": {},
   "source": [
    "# Precision-recall evaluation on MNIST\n",
    "Deterministic NN vs Bayesian NN with Gaussian posterior"
   ]
  },
  {
   "cell_type": "code",
   "execution_count": 73,
   "metadata": {},
   "outputs": [],
   "source": [
    "import torch\n",
    "import torch.nn as nn\n",
    "import torch.nn.functional as F\n",
    "import torch.optim as optim\n",
    "import torchvision\n",
    "from torchvision import datasets, transforms\n",
    "from torch.utils.data import DataLoader"
   ]
  },
  {
   "cell_type": "code",
   "execution_count": 150,
   "metadata": {},
   "outputs": [
    {
     "data": {
      "text/plain": [
       "tensor([[1., 1., 1., 1., 1.],\n",
       "        [1., 1., 1., 1., 1.],\n",
       "        [1., 1., 1., 1., 1.],\n",
       "        [1., 1., 1., 1., 1.],\n",
       "        [1., 1., 1., 1., 1.],\n",
       "        [1., 1., 1., 1., 1.],\n",
       "        [1., 1., 1., 1., 1.],\n",
       "        [1., 1., 1., 1., 1.],\n",
       "        [1., 1., 1., 1., 1.],\n",
       "        [1., 1., 1., 1., 1.]])"
      ]
     },
     "execution_count": 150,
     "metadata": {},
     "output_type": "execute_result"
    }
   ],
   "source": [
    "torch.ones(10,5)"
   ]
  },
  {
   "cell_type": "code",
   "execution_count": 168,
   "metadata": {},
   "outputs": [],
   "source": [
    "a= torch.Tensor([[1,2,3],[4,5,6]])"
   ]
  },
  {
   "cell_type": "code",
   "execution_count": 169,
   "metadata": {},
   "outputs": [
    {
     "data": {
      "text/plain": [
       "tensor([[1., 2., 3.],\n",
       "        [4., 5., 6.]])"
      ]
     },
     "execution_count": 169,
     "metadata": {},
     "output_type": "execute_result"
    }
   ],
   "source": [
    "a"
   ]
  },
  {
   "cell_type": "code",
   "execution_count": 184,
   "metadata": {},
   "outputs": [],
   "source": [
    "b = torch.Tensor([0,0,1])"
   ]
  },
  {
   "cell_type": "code",
   "execution_count": 186,
   "metadata": {},
   "outputs": [],
   "source": [
    "c = b.type(torch.long)"
   ]
  },
  {
   "cell_type": "code",
   "execution_count": 187,
   "metadata": {},
   "outputs": [
    {
     "data": {
      "text/plain": [
       "tensor([[1., 2., 6.]])"
      ]
     },
     "execution_count": 187,
     "metadata": {},
     "output_type": "execute_result"
    }
   ],
   "source": [
    "torch.gather(a, 0, c.view(1,-1))"
   ]
  },
  {
   "cell_type": "code",
   "execution_count": 149,
   "metadata": {},
   "outputs": [
    {
     "data": {
      "text/plain": [
       "tensor([[ 1.8311,  0.1458,  2.0655, -0.4303,  1.2895],\n",
       "        [ 1.4148, -0.5620, -0.3313,  0.9851, -1.3295],\n",
       "        [-0.6995, -2.2081,  0.4201,  0.2110,  1.7627],\n",
       "        [ 1.3140, -0.4039,  1.2590,  1.0897, -0.2447],\n",
       "        [ 0.9169, -0.0683, -0.6836,  1.2091, -0.3573],\n",
       "        [-0.7761, -0.9458, -0.2724, -0.4928, -0.0967],\n",
       "        [-0.2763,  0.2776,  0.3435,  0.5475, -2.1465],\n",
       "        [ 0.6272, -0.5613,  2.1313, -1.0119, -0.8237],\n",
       "        [ 0.0293,  1.3530,  1.9810,  1.2320, -0.7161],\n",
       "        [-0.4561,  0.2082, -0.0090,  1.0315, -0.2779]])"
      ]
     },
     "execution_count": 149,
     "metadata": {},
     "output_type": "execute_result"
    }
   ],
   "source": [
    "torch.distributions.Normal(0,1).sample(torch.zeros(10,5).shape)"
   ]
  },
  {
   "cell_type": "code",
   "execution_count": 106,
   "metadata": {},
   "outputs": [],
   "source": [
    "class ScaleMixtureGaussian(object):\n",
    "    def __init__(self, pi, mu1, mu2, sigma1, sigma2, device):\n",
    "        super().__init__()\n",
    "        self.pi = pi\n",
    "        self.sigma1 = torch.FloatTensor([np.exp(-sigma1)]).to(device)\n",
    "        self.sigma2 = torch.FloatTensor([np.exp(-sigma2)]).to(device)\n",
    "        print (self.sigma1)\n",
    "        print (self.sigma2)\n",
    "        self.gaussian1 = torch.distributions.Normal(mu1,self.sigma1)\n",
    "        self.gaussian2 = torch.distributions.Normal(mu2,self.sigma2)\n",
    "    \n",
    "    def log_prob(self, input):\n",
    "        prob1 = torch.exp(self.gaussian1.log_prob(input))\n",
    "        prob2 = torch.exp(self.gaussian2.log_prob(input))\n",
    "        return (torch.log(self.pi * prob1 + (1-self.pi) * prob2)) #.sum()"
   ]
  },
  {
   "cell_type": "code",
   "execution_count": 117,
   "metadata": {},
   "outputs": [],
   "source": [
    "class Gaussian(object):\n",
    "    def __init__(self, mu, rho, device):\n",
    "        super().__init__()\n",
    "        self.mu = mu\n",
    "        self.rho = rho\n",
    "        self.normal = torch.distributions.Normal(0,1)\n",
    "        self.device=device\n",
    "    \n",
    "    @property\n",
    "    def sigma(self):\n",
    "        if self.rho.sum()==0:\n",
    "            return torch.ones_like(self.rho)\n",
    "        else:\n",
    "            return torch.log1p(torch.exp(self.rho))\n",
    "    \n",
    "    def sample(self):\n",
    "        print (self.sigma)\n",
    "        epsilon = self.normal.sample(self.rho.size()).to(self.device)\n",
    "        print (epsilon)\n",
    "        return self.mu + self.sigma * epsilon\n",
    "    \n",
    "    def log_prob(self, input):\n",
    "        print (self.sigma)\n",
    "        return (-np.log(np.sqrt(2 * np.pi))\n",
    "                - torch.log(self.sigma)\n",
    "                - ((input - self.mu) ** 2) / (2 * self.sigma ** 2)) #.sum()\n"
   ]
  },
  {
   "cell_type": "code",
   "execution_count": 124,
   "metadata": {},
   "outputs": [],
   "source": [
    "class GaussianPrior(object):\n",
    "    def __init__(self, mu, rho, device):\n",
    "        super().__init__()\n",
    "        self.mu = mu\n",
    "        self.rho = rho\n",
    "        self.device=device\n",
    "        \n",
    "    def log_prob(self, input):\n",
    "        print (self.rho)\n",
    "        return (-np.log(np.sqrt(2 * np.pi))\n",
    "                - torch.log(self.rho)\n",
    "                - ((input - self.mu) ** 2) / (2 * self.rho ** 2)) #.sum()\n"
   ]
  },
  {
   "cell_type": "code",
   "execution_count": 119,
   "metadata": {},
   "outputs": [
    {
     "name": "stdout",
     "output_type": "stream",
     "text": [
      "tensor([1.], device='cuda:0')\n",
      "tensor([0.0025], device='cuda:0')\n"
     ]
    },
    {
     "data": {
      "text/plain": [
       "tensor([[-2.1121, -2.1121, -2.1121, -2.1121, -2.1121],\n",
       "        [-2.1121, -2.1121, -2.1121, -2.1121, -2.1121],\n",
       "        [-2.1121, -2.1121, -2.1121, -2.1121, -2.1121],\n",
       "        [-2.1121, -2.1121, -2.1121, -2.1121, -2.1121],\n",
       "        [-2.1121, -2.1121, -2.1121, -2.1121, -2.1121],\n",
       "        [-2.1121, -2.1121, -2.1121, -2.1121, -2.1121],\n",
       "        [-2.1121, -2.1121, -2.1121, -2.1121, -2.1121],\n",
       "        [-2.1121, -2.1121, -2.1121, -2.1121, -2.1121],\n",
       "        [-2.1121, -2.1121, -2.1121, -2.1121, -2.1121],\n",
       "        [-2.1121, -2.1121, -2.1121, -2.1121, -2.1121]], device='cuda:0')"
      ]
     },
     "execution_count": 119,
     "metadata": {},
     "output_type": "execute_result"
    }
   ],
   "source": [
    "ScaleMixtureGaussian(0.5, 0, 0, 0, 6, device=device).log_prob(torch.ones(10,5).to(device))"
   ]
  },
  {
   "cell_type": "code",
   "execution_count": 120,
   "metadata": {},
   "outputs": [
    {
     "name": "stdout",
     "output_type": "stream",
     "text": [
      "tensor([[1., 1., 1., 1., 1.],\n",
      "        [1., 1., 1., 1., 1.],\n",
      "        [1., 1., 1., 1., 1.],\n",
      "        [1., 1., 1., 1., 1.],\n",
      "        [1., 1., 1., 1., 1.],\n",
      "        [1., 1., 1., 1., 1.],\n",
      "        [1., 1., 1., 1., 1.],\n",
      "        [1., 1., 1., 1., 1.],\n",
      "        [1., 1., 1., 1., 1.],\n",
      "        [1., 1., 1., 1., 1.]])\n"
     ]
    },
    {
     "data": {
      "text/plain": [
       "tensor([[-1.4189, -1.4189, -1.4189, -1.4189, -1.4189],\n",
       "        [-1.4189, -1.4189, -1.4189, -1.4189, -1.4189],\n",
       "        [-1.4189, -1.4189, -1.4189, -1.4189, -1.4189],\n",
       "        [-1.4189, -1.4189, -1.4189, -1.4189, -1.4189],\n",
       "        [-1.4189, -1.4189, -1.4189, -1.4189, -1.4189],\n",
       "        [-1.4189, -1.4189, -1.4189, -1.4189, -1.4189],\n",
       "        [-1.4189, -1.4189, -1.4189, -1.4189, -1.4189],\n",
       "        [-1.4189, -1.4189, -1.4189, -1.4189, -1.4189],\n",
       "        [-1.4189, -1.4189, -1.4189, -1.4189, -1.4189],\n",
       "        [-1.4189, -1.4189, -1.4189, -1.4189, -1.4189]])"
      ]
     },
     "execution_count": 120,
     "metadata": {},
     "output_type": "execute_result"
    }
   ],
   "source": [
    "Gaussian(torch.zeros(10,5),torch.zeros(10,5),device).log_prob(torch.ones(10,5))"
   ]
  },
  {
   "cell_type": "code",
   "execution_count": 132,
   "metadata": {},
   "outputs": [
    {
     "name": "stdout",
     "output_type": "stream",
     "text": [
      "tensor([[1., 1., 1., 1., 1.],\n",
      "        [1., 1., 1., 1., 1.],\n",
      "        [1., 1., 1., 1., 1.],\n",
      "        [1., 1., 1., 1., 1.],\n",
      "        [1., 1., 1., 1., 1.],\n",
      "        [1., 1., 1., 1., 1.],\n",
      "        [1., 1., 1., 1., 1.],\n",
      "        [1., 1., 1., 1., 1.],\n",
      "        [1., 1., 1., 1., 1.],\n",
      "        [1., 1., 1., 1., 1.]])\n"
     ]
    },
    {
     "data": {
      "text/plain": [
       "tensor([[-1.4189, -1.4189, -1.4189, -1.4189, -1.4189],\n",
       "        [-1.4189, -1.4189, -1.4189, -1.4189, -1.4189],\n",
       "        [-1.4189, -1.4189, -1.4189, -1.4189, -1.4189],\n",
       "        [-1.4189, -1.4189, -1.4189, -1.4189, -1.4189],\n",
       "        [-1.4189, -1.4189, -1.4189, -1.4189, -1.4189],\n",
       "        [-1.4189, -1.4189, -1.4189, -1.4189, -1.4189],\n",
       "        [-1.4189, -1.4189, -1.4189, -1.4189, -1.4189],\n",
       "        [-1.4189, -1.4189, -1.4189, -1.4189, -1.4189],\n",
       "        [-1.4189, -1.4189, -1.4189, -1.4189, -1.4189],\n",
       "        [-1.4189, -1.4189, -1.4189, -1.4189, -1.4189]])"
      ]
     },
     "execution_count": 132,
     "metadata": {},
     "output_type": "execute_result"
    }
   ],
   "source": [
    "GaussianPrior(torch.zeros(10,5),torch.ones(10,5),device).log_prob(torch.ones(10,5))"
   ]
  },
  {
   "cell_type": "code",
   "execution_count": 134,
   "metadata": {},
   "outputs": [
    {
     "data": {
      "text/plain": [
       "tensor([0.6931])"
      ]
     },
     "execution_count": 134,
     "metadata": {},
     "output_type": "execute_result"
    }
   ],
   "source": [
    "torch.log1p(torch.exp(torch.Tensor([0])))"
   ]
  },
  {
   "cell_type": "code",
   "execution_count": 138,
   "metadata": {},
   "outputs": [
    {
     "data": {
      "text/plain": [
       "tensor(0.6150)"
      ]
     },
     "execution_count": 138,
     "metadata": {},
     "output_type": "execute_result"
    }
   ],
   "source": [
    "torch.distributions.Normal(0,1).sample()"
   ]
  },
  {
   "cell_type": "code",
   "execution_count": 141,
   "metadata": {},
   "outputs": [
    {
     "data": {
      "text/plain": [
       "tensor([0.6931])"
      ]
     },
     "execution_count": 141,
     "metadata": {},
     "output_type": "execute_result"
    }
   ],
   "source": [
    "torch.nn.Softplus()(torch.Tensor([0]))"
   ]
  },
  {
   "cell_type": "code",
   "execution_count": 122,
   "metadata": {},
   "outputs": [
    {
     "name": "stdout",
     "output_type": "stream",
     "text": [
      "tensor([[24.0000,  0.6931,  0.6931,  0.6931,  0.6931],\n",
      "        [ 0.6931, 24.0000,  0.6931,  0.6931,  0.6931],\n",
      "        [ 0.6931,  0.6931, 24.0000,  0.6931,  0.6931],\n",
      "        [ 0.6931,  0.6931,  0.6931, 24.0000,  0.6931],\n",
      "        [ 0.6931,  0.6931,  0.6931,  0.6931, 24.0000],\n",
      "        [ 0.6931,  0.6931,  0.6931,  0.6931,  0.6931],\n",
      "        [ 0.6931,  0.6931,  0.6931,  0.6931,  0.6931],\n",
      "        [ 0.6931,  0.6931,  0.6931,  0.6931,  0.6931],\n",
      "        [ 0.6931,  0.6931,  0.6931,  0.6931,  0.6931],\n",
      "        [ 0.6931,  0.6931,  0.6931,  0.6931,  0.6931]])\n"
     ]
    },
    {
     "data": {
      "text/plain": [
       "tensor([[-4.0979, -1.5931, -1.5931, -1.5931, -1.5931],\n",
       "        [-1.5931, -4.0979, -1.5931, -1.5931, -1.5931],\n",
       "        [-1.5931, -1.5931, -4.0979, -1.5931, -1.5931],\n",
       "        [-1.5931, -1.5931, -1.5931, -4.0979, -1.5931],\n",
       "        [-1.5931, -1.5931, -1.5931, -1.5931, -4.0979],\n",
       "        [-1.5931, -1.5931, -1.5931, -1.5931, -1.5931],\n",
       "        [-1.5931, -1.5931, -1.5931, -1.5931, -1.5931],\n",
       "        [-1.5931, -1.5931, -1.5931, -1.5931, -1.5931],\n",
       "        [-1.5931, -1.5931, -1.5931, -1.5931, -1.5931],\n",
       "        [-1.5931, -1.5931, -1.5931, -1.5931, -1.5931]])"
      ]
     },
     "execution_count": 122,
     "metadata": {},
     "output_type": "execute_result"
    }
   ],
   "source": [
    "Gaussian(torch.zeros(10,5),24*torch.eye(10,5),device).log_prob(torch.ones(10,5))"
   ]
  },
  {
   "cell_type": "code",
   "execution_count": 123,
   "metadata": {},
   "outputs": [
    {
     "name": "stdout",
     "output_type": "stream",
     "text": [
      "tensor([[24.,  0.,  0.,  0.,  0.],\n",
      "        [ 0., 24.,  0.,  0.,  0.],\n",
      "        [ 0.,  0., 24.,  0.,  0.],\n",
      "        [ 0.,  0.,  0., 24.,  0.],\n",
      "        [ 0.,  0.,  0.,  0., 24.],\n",
      "        [ 0.,  0.,  0.,  0.,  0.],\n",
      "        [ 0.,  0.,  0.,  0.,  0.],\n",
      "        [ 0.,  0.,  0.,  0.,  0.],\n",
      "        [ 0.,  0.,  0.,  0.,  0.],\n",
      "        [ 0.,  0.,  0.,  0.,  0.]])\n"
     ]
    },
    {
     "data": {
      "text/plain": [
       "tensor([[-4.0979,     nan,     nan,     nan,     nan],\n",
       "        [    nan, -4.0979,     nan,     nan,     nan],\n",
       "        [    nan,     nan, -4.0979,     nan,     nan],\n",
       "        [    nan,     nan,     nan, -4.0979,     nan],\n",
       "        [    nan,     nan,     nan,     nan, -4.0979],\n",
       "        [    nan,     nan,     nan,     nan,     nan],\n",
       "        [    nan,     nan,     nan,     nan,     nan],\n",
       "        [    nan,     nan,     nan,     nan,     nan],\n",
       "        [    nan,     nan,     nan,     nan,     nan],\n",
       "        [    nan,     nan,     nan,     nan,     nan]])"
      ]
     },
     "execution_count": 123,
     "metadata": {},
     "output_type": "execute_result"
    }
   ],
   "source": [
    "GaussianPrior(torch.zeros(10,5),24*torch.eye(10,5),device).log_prob(torch.ones(10,5))"
   ]
  },
  {
   "cell_type": "code",
   "execution_count": null,
   "metadata": {},
   "outputs": [],
   "source": []
  },
  {
   "cell_type": "code",
   "execution_count": 11,
   "metadata": {},
   "outputs": [],
   "source": [
    "import numpy as np\n",
    "import matplotlib.pyplot as plt\n",
    "from matplotlib import colors\n",
    "from IPython import display\n",
    "import os\n",
    "from PIL import Image\n",
    "from torch.utils.data.dataset import Dataset\n",
    "from scipy.misc import imread\n",
    "import math"
   ]
  },
  {
   "cell_type": "code",
   "execution_count": 3,
   "metadata": {},
   "outputs": [],
   "source": [
    "%matplotlib inline\n",
    "from tqdm import tqdm_notebook as tqdm\n",
    "from collections import OrderedDict"
   ]
  },
  {
   "cell_type": "code",
   "execution_count": 13,
   "metadata": {},
   "outputs": [],
   "source": [
    "# Device configuration\n",
    "device = torch.device('cuda' if torch.cuda.is_available() else 'cpu')"
   ]
  },
  {
   "cell_type": "code",
   "execution_count": 5,
   "metadata": {},
   "outputs": [],
   "source": [
    "# Global parameters\n",
    "NUM_EPOCHS = 5\n",
    "STEP = 0.1\n",
    "THRESHOLDS = np.concatenate((np.arange(0,1, step=STEP),np.array([0.99])))\n",
    "NUM_SAMPLES = [1, 3, 5, 10, 30, 100]\n",
    "\n",
    "PI = 0.5\n",
    "SIGMA_1 = torch.cuda.FloatTensor([np.exp(-0)])\n",
    "SIGMA_2 = torch.cuda.FloatTensor([np.exp(-6)])\n",
    "\n",
    "BATCH_SIZE = 128\n",
    "CLASSES = 10\n",
    "TRAIN_EPOCHS = 20\n",
    "SAMPLES = 2\n",
    "TEST_SAMPLES = 10"
   ]
  },
  {
   "cell_type": "code",
   "execution_count": 6,
   "metadata": {},
   "outputs": [],
   "source": [
    "# Loading MNIST dataset\n",
    "train_loader = torch.utils.data.DataLoader(\n",
    "    datasets.MNIST('../data/mnist-data/', train=True, download=True,\n",
    "                   transform=transforms.Compose([transforms.ToTensor(),])),\n",
    "    batch_size=BATCH_SIZE, shuffle=True)\n",
    "\n",
    "test_loader = torch.utils.data.DataLoader(\n",
    "        datasets.MNIST('../data/mnist-data/', train=False, \n",
    "                       transform=transforms.Compose([transforms.ToTensor(),])),\n",
    "    batch_size=BATCH_SIZE, shuffle=True)"
   ]
  },
  {
   "cell_type": "code",
   "execution_count": 69,
   "metadata": {},
   "outputs": [],
   "source": [
    "class Gaussian(object):\n",
    "    def __init__(self, mu, rho, device):\n",
    "        super().__init__()\n",
    "        self.mu = mu\n",
    "        self.rho = rho\n",
    "        self.normal = torch.distributions.Normal(0,1)\n",
    "        self.device=device\n",
    "    \n",
    "    @property\n",
    "    def sigma(self):\n",
    "        if self.rho.sum()==0:\n",
    "            return torch.ones_like(self.rho)\n",
    "        else:\n",
    "            return torch.log1p(torch.exp(self.rho))\n",
    "    \n",
    "    def sample(self):\n",
    "        epsilon = self.normal.sample(self.rho.size()).to(self.device)\n",
    "        print (epsilon)\n",
    "        print (self.sigma)\n",
    "        return self.mu + self.sigma * epsilon\n",
    "    \n",
    "    def log_prob(self, input):\n",
    "        return (-np.log(np.sqrt(2 * np.pi))\n",
    "                - torch.log(self.sigma)\n",
    "                - ((input - self.mu) ** 2) / (2 * self.sigma ** 2)).sum()"
   ]
  },
  {
   "cell_type": "code",
   "execution_count": 7,
   "metadata": {},
   "outputs": [],
   "source": [
    "NUM_BATCHES = len(train_loader)\n",
    "NUM_TEST_BATCHES = len(test_loader)"
   ]
  },
  {
   "cell_type": "code",
   "execution_count": 70,
   "metadata": {},
   "outputs": [
    {
     "name": "stdout",
     "output_type": "stream",
     "text": [
      "tensor([[-0.7074,  0.0238, -0.5096,  0.4280, -0.2471],\n",
      "        [ 0.6005, -1.4848,  0.2246, -0.6367, -0.0538],\n",
      "        [ 0.4300,  0.7798,  0.9468,  2.8998, -0.7613],\n",
      "        [ 0.3018, -2.5107,  0.5776, -1.5420,  0.2517],\n",
      "        [-1.1560, -1.6205,  0.5913, -0.3128,  0.7030],\n",
      "        [-0.4545, -0.4205, -0.9062,  0.3098,  1.2142],\n",
      "        [ 0.7501, -0.0930, -0.7028,  0.6399,  0.4814],\n",
      "        [ 0.0479, -1.4405,  0.3817,  0.2518, -1.4852],\n",
      "        [ 0.2891, -1.3646,  1.1017,  0.1238,  0.2827],\n",
      "        [-0.6365,  0.6707, -0.4309, -0.2197, -0.0843]], device='cuda:0')\n",
      "tensor([[1., 1., 1., 1., 1.],\n",
      "        [1., 1., 1., 1., 1.],\n",
      "        [1., 1., 1., 1., 1.],\n",
      "        [1., 1., 1., 1., 1.],\n",
      "        [1., 1., 1., 1., 1.],\n",
      "        [1., 1., 1., 1., 1.],\n",
      "        [1., 1., 1., 1., 1.],\n",
      "        [1., 1., 1., 1., 1.],\n",
      "        [1., 1., 1., 1., 1.],\n",
      "        [1., 1., 1., 1., 1.]], device='cuda:0')\n"
     ]
    },
    {
     "data": {
      "text/plain": [
       "tensor([[-0.7074,  0.0238, -0.5096,  0.4280, -0.2471],\n",
       "        [ 0.6005, -1.4848,  0.2246, -0.6367, -0.0538],\n",
       "        [ 0.4300,  0.7798,  0.9468,  2.8998, -0.7613],\n",
       "        [ 0.3018, -2.5107,  0.5776, -1.5420,  0.2517],\n",
       "        [-1.1560, -1.6205,  0.5913, -0.3128,  0.7030],\n",
       "        [-0.4545, -0.4205, -0.9062,  0.3098,  1.2142],\n",
       "        [ 0.7501, -0.0930, -0.7028,  0.6399,  0.4814],\n",
       "        [ 0.0479, -1.4405,  0.3817,  0.2518, -1.4852],\n",
       "        [ 0.2891, -1.3646,  1.1017,  0.1238,  0.2827],\n",
       "        [-0.6365,  0.6707, -0.4309, -0.2197, -0.0843]], device='cuda:0')"
      ]
     },
     "execution_count": 70,
     "metadata": {},
     "output_type": "execute_result"
    }
   ],
   "source": [
    "Gaussian(torch.zeros(10,5).to(device),torch.zeros(10,5).to(device),device).sample()"
   ]
  },
  {
   "cell_type": "markdown",
   "metadata": {},
   "source": [
    "### Part 1 : Training a small Bayesian Neural Network"
   ]
  },
  {
   "cell_type": "code",
   "execution_count": 72,
   "metadata": {},
   "outputs": [
    {
     "name": "stdout",
     "output_type": "stream",
     "text": [
      "tensor([[ 0.8938,  1.2704,  0.7868, -0.0239, -0.9429],\n",
      "        [ 0.3263, -1.1971,  0.6011, -0.1440, -1.0917],\n",
      "        [ 0.6155,  0.9346,  0.6669,  0.6839,  0.1167],\n",
      "        [-0.0323, -0.2152,  0.3089,  0.2264, -0.7507],\n",
      "        [ 0.1055,  0.9479, -1.7207,  0.6047,  0.3411],\n",
      "        [ 0.8335,  0.8973, -0.7506, -0.8907, -0.0982],\n",
      "        [ 0.2402,  1.7435,  0.4182,  0.7371,  0.2697],\n",
      "        [-0.5172,  0.3135, -0.5919, -0.9341,  0.7163],\n",
      "        [ 0.1418,  0.8340, -0.5174,  0.5734, -1.3324],\n",
      "        [ 0.3684, -0.3596,  1.7246,  0.8911,  1.9378]], device='cuda:0')\n",
      "tensor([[1.3133, 0.6931, 0.6931, 0.6931, 0.6931],\n",
      "        [0.6931, 1.3133, 0.6931, 0.6931, 0.6931],\n",
      "        [0.6931, 0.6931, 1.3133, 0.6931, 0.6931],\n",
      "        [0.6931, 0.6931, 0.6931, 1.3133, 0.6931],\n",
      "        [0.6931, 0.6931, 0.6931, 0.6931, 1.3133],\n",
      "        [0.6931, 0.6931, 0.6931, 0.6931, 0.6931],\n",
      "        [0.6931, 0.6931, 0.6931, 0.6931, 0.6931],\n",
      "        [0.6931, 0.6931, 0.6931, 0.6931, 0.6931],\n",
      "        [0.6931, 0.6931, 0.6931, 0.6931, 0.6931],\n",
      "        [0.6931, 0.6931, 0.6931, 0.6931, 0.6931]], device='cuda:0')\n"
     ]
    },
    {
     "data": {
      "text/plain": [
       "tensor([[ 1.1738,  0.8805,  0.5453, -0.0165, -0.6536],\n",
       "        [ 0.2262, -1.5721,  0.4166, -0.0998, -0.7567],\n",
       "        [ 0.4266,  0.6478,  0.8758,  0.4740,  0.0809],\n",
       "        [-0.0224, -0.1491,  0.2141,  0.2973, -0.5203],\n",
       "        [ 0.0731,  0.6570, -1.1927,  0.4192,  0.4479],\n",
       "        [ 0.5777,  0.6220, -0.5203, -0.6174, -0.0681],\n",
       "        [ 0.1665,  1.2085,  0.2899,  0.5109,  0.1869],\n",
       "        [-0.3585,  0.2173, -0.4103, -0.6474,  0.4965],\n",
       "        [ 0.0983,  0.5781, -0.3587,  0.3975, -0.9235],\n",
       "        [ 0.2554, -0.2493,  1.1954,  0.6177,  1.3432]], device='cuda:0')"
      ]
     },
     "execution_count": 72,
     "metadata": {},
     "output_type": "execute_result"
    }
   ],
   "source": [
    "Gaussian(torch.zeros(10,5).to(device),torch.eye(10,5).to(device),device).sample()"
   ]
  },
  {
   "cell_type": "code",
   "execution_count": 14,
   "metadata": {},
   "outputs": [],
   "source": [
    "class Gaussian(object):\n",
    "    def __init__(self, mu, rho):\n",
    "        super().__init__()\n",
    "        self.mu = mu\n",
    "        self.rho = rho\n",
    "        self.normal = torch.distributions.Normal(0,1)\n",
    "    \n",
    "    @property\n",
    "    def sigma(self):\n",
    "        return torch.log1p(torch.exp(self.rho))\n",
    "    \n",
    "    def sample(self):\n",
    "        epsilon = self.normal.sample(self.rho.size()).to(device)\n",
    "        return self.mu + self.sigma * epsilon\n",
    "    \n",
    "    def log_prob(self, input):\n",
    "        return (-np.log(np.sqrt(2 * np.pi))\n",
    "                - torch.log(self.sigma)\n",
    "                - ((input - self.mu) ** 2) / (2 * self.sigma ** 2)).sum()"
   ]
  },
  {
   "cell_type": "code",
   "execution_count": 15,
   "metadata": {},
   "outputs": [],
   "source": [
    "class ScaleMixtureGaussian(object):\n",
    "    def __init__(self, pi, sigma1, sigma2):\n",
    "        super().__init__()\n",
    "        self.pi = pi\n",
    "        self.sigma1 = sigma1\n",
    "        self.sigma2 = sigma2\n",
    "        self.gaussian1 = torch.distributions.Normal(0,sigma1)\n",
    "        self.gaussian2 = torch.distributions.Normal(0,sigma2)\n",
    "    \n",
    "    def log_prob(self, input):\n",
    "        prob1 = torch.exp(self.gaussian1.log_prob(input))\n",
    "        prob2 = torch.exp(self.gaussian2.log_prob(input))\n",
    "        return (torch.log(self.pi * prob1 + (1-self.pi) * prob2)).sum()"
   ]
  },
  {
   "cell_type": "code",
   "execution_count": 16,
   "metadata": {},
   "outputs": [],
   "source": [
    "class BayesianLinear(nn.Module):\n",
    "    def __init__(self, in_features, out_features):\n",
    "        super().__init__()\n",
    "        self.in_features = in_features\n",
    "        self.out_features = out_features\n",
    "        # Weight parameters\n",
    "        self.weight_mu = nn.Parameter(torch.Tensor(out_features, in_features).uniform_(-0.2, 0.2))\n",
    "        self.weight_rho = nn.Parameter(torch.Tensor(out_features, in_features).uniform_(-5,-4))\n",
    "        self.weight = Gaussian(self.weight_mu, self.weight_rho)\n",
    "        # Bias parameters\n",
    "        self.bias_mu = nn.Parameter(torch.Tensor(out_features).uniform_(-0.2, 0.2))\n",
    "        self.bias_rho = nn.Parameter(torch.Tensor(out_features).uniform_(-5,-4))\n",
    "        self.bias = Gaussian(self.bias_mu, self.bias_rho)\n",
    "        # Prior distributions\n",
    "        self.weight_prior = ScaleMixtureGaussian(PI, SIGMA_1, SIGMA_2)\n",
    "        self.bias_prior = ScaleMixtureGaussian(PI, SIGMA_1, SIGMA_2)\n",
    "        self.log_prior = 0\n",
    "        self.log_variational_posterior = 0\n",
    "\n",
    "    def forward(self, input, sample=False, calculate_log_probs=False):\n",
    "        if self.training or sample:\n",
    "            weight = self.weight.sample()\n",
    "            bias = self.bias.sample()\n",
    "        else:\n",
    "            weight = self.weight.mu\n",
    "            bias = self.bias.mu\n",
    "        if self.training or calculate_log_probs:\n",
    "            self.log_prior = self.weight_prior.log_prob(weight) + self.bias_prior.log_prob(bias)\n",
    "            self.log_variational_posterior = self.weight.log_prob(weight) + self.bias.log_prob(bias)\n",
    "        else:\n",
    "            self.log_prior, self.log_variational_posterior = 0, 0\n",
    "\n",
    "        return F.linear(input, weight, bias)"
   ]
  },
  {
   "cell_type": "code",
   "execution_count": 21,
   "metadata": {},
   "outputs": [],
   "source": [
    "class BayesianNetwork(nn.Module):\n",
    "    def __init__(self):\n",
    "        super().__init__()\n",
    "        self.l1 = BayesianLinear(28*28, 400)\n",
    "        self.l2 = BayesianLinear(400, 400)\n",
    "        self.l3 = BayesianLinear(400, 10)\n",
    "    \n",
    "    def forward(self, x, sample=False):\n",
    "        x = x.view(-1, 28*28)\n",
    "        x = F.relu(self.l1(x, sample))\n",
    "        x = F.relu(self.l2(x, sample))\n",
    "        x = F.log_softmax(self.l3(x, sample), dim=1)\n",
    "        return x\n",
    "    \n",
    "    def log_prior(self):\n",
    "        return self.l1.log_prior \\\n",
    "               + self.l2.log_prior \\\n",
    "               + self.l3.log_prior\n",
    "    \n",
    "    def log_variational_posterior(self):\n",
    "        return self.l1.log_variational_posterior \\\n",
    "               + self.l2.log_variational_posterior \\\n",
    "               + self.l2.log_variational_posterior\n",
    "    \n",
    "    def sample_elbo(self, input, target, samples=SAMPLES):\n",
    "        outputs = torch.zeros(samples, BATCH_SIZE, CLASSES).to(device)\n",
    "        log_priors = torch.zeros(samples).to(device)\n",
    "        log_variational_posteriors = torch.zeros(samples).to(device)\n",
    "        for i in range(samples):\n",
    "            outputs[i] = self(input, sample=True)\n",
    "            log_priors[i] = self.log_prior()\n",
    "            log_variational_posteriors[i] = self.log_variational_posterior()\n",
    "        output = outputs.mean(0)\n",
    "        log_prior = log_priors.mean()\n",
    "        log_variational_posterior = log_variational_posteriors.mean()\n",
    "        negative_log_likelihood = F.nll_loss(output, target, reduction='sum')\n",
    "        print (log_variational_posterior)\n",
    "        print (log_prior)\n",
    "        print (NUM_BATCHES)\n",
    "        print (negative_log_likelihood)\n",
    "        loss = (log_variational_posterior - log_prior)/NUM_BATCHES + negative_log_likelihood\n",
    "        return output, loss, log_prior, log_variational_posterior, negative_log_likelihood\n",
    "\n"
   ]
  },
  {
   "cell_type": "code",
   "execution_count": 27,
   "metadata": {},
   "outputs": [],
   "source": [
    "net = BayesianNetwork().to(device)\n",
    "optimizer_bnn = optim.Adam(net.parameters(), lr=0.001)"
   ]
  },
  {
   "cell_type": "code",
   "execution_count": 28,
   "metadata": {},
   "outputs": [
    {
     "data": {
      "application/vnd.jupyter.widget-view+json": {
       "model_id": "3183787eac8449e98eacc6cf13d0da7b",
       "version_major": 2,
       "version_minor": 0
      },
      "text/plain": [
       "HBox(children=(IntProgress(value=0, max=469), HTML(value='')))"
      ]
     },
     "metadata": {},
     "output_type": "display_data"
    },
    {
     "name": "stdout",
     "output_type": "stream",
     "text": [
      "tensor(1961157.7500, device='cuda:0', grad_fn=<MeanBackward1>)\n",
      "tensor(-689677.8750, device='cuda:0', grad_fn=<MeanBackward1>)\n",
      "469\n",
      "tensor(665.9767, device='cuda:0', grad_fn=<NllLossBackward>)\n",
      "tensor(6318.0781, device='cuda:0', grad_fn=<AddBackward0>)\n",
      "-----\n",
      "tensor(1959909., device='cuda:0', grad_fn=<MeanBackward1>)\n",
      "tensor(-687829.0625, device='cuda:0', grad_fn=<MeanBackward1>)\n",
      "469\n",
      "tensor(465.1894, device='cuda:0', grad_fn=<NllLossBackward>)\n",
      "tensor(12428.7646, device='cuda:0', grad_fn=<AddBackward0>)\n",
      "-----\n",
      "tensor(1959892., device='cuda:0', grad_fn=<MeanBackward1>)\n",
      "tensor(-685676.5000, device='cuda:0', grad_fn=<MeanBackward1>)\n",
      "469\n",
      "tensor(360.4101, device='cuda:0', grad_fn=<NllLossBackward>)\n",
      "tensor(18430.0469, device='cuda:0', grad_fn=<AddBackward0>)\n",
      "-----\n"
     ]
    }
   ],
   "source": [
    "# Training our BNN model \n",
    "for epoch in range(NUM_EPOCHS):\n",
    "    net.train()\n",
    "    loss, nll, acc = 0, 0, 0\n",
    "    len_steps = 0\n",
    "    i=0\n",
    "    loop = tqdm(train_loader)\n",
    "    for batch_id, (data, target) in enumerate(loop):\n",
    "        data, target = data.to(device), target.to(device)\n",
    "        optimizer_bnn.zero_grad()\n",
    "        output, cur_loss, log_prior, log_variational_posterior, cur_nll = net.sample_elbo(data, target)\n",
    "        cur_loss.backward()\n",
    "        loss += cur_loss\n",
    "        nll += cur_nll\n",
    "        optimizer_bnn.step()\n",
    "        len_steps += len(data)\n",
    "        \n",
    "        pred = output.argmax(dim=1, keepdim=True) # get the index of the max log-probability\n",
    "        acc += pred.eq(target.view_as(pred)).sum().item()\n",
    "        \n",
    "        #update the average loss\n",
    "        loop.set_description('Epoch {}/{}'.format(epoch + 1, NUM_EPOCHS))\n",
    "        loop.set_postfix(OrderedDict({'loss':'{:05.3f}'.format(loss / float(len_steps)), \n",
    "                                      'acc':'{:05.3f}'.format(acc / float(len_steps))}))\n",
    "        loop.update()\n",
    "        \n",
    "        print (loss)\n",
    "        print('-----')\n",
    "        i+=1\n",
    "        if i>2:\n",
    "            break\n",
    "    break    \n",
    "    # Eval on epoch end\n",
    "    net.eval()\n",
    "    test_loss, test_nll, accuracy_test = 0, 0, 0 \n",
    "            \n",
    "    with torch.no_grad():\n",
    "        for data_test, target_test in test_loader:\n",
    "            data_test, target_test = data_test.to(device), target_test.to(device)\n",
    "            output_test, cur_test_loss, _, _, cur_test_nll = net.sample_elbo(data_test, target_test)\n",
    "            test_loss += cur_test_loss\n",
    "            test_nll += cur_test_nll\n",
    "            pred_test = output_test.argmax(dim=1, keepdim=True)\n",
    "            accuracy_test += pred_test.eq(target_test.view_as(pred_test)).sum().item()\n",
    "\n",
    "    print('Epoch {}/{}: train_loss={:05.4g}, train_nll={:05.4g}, train_acc={:05.3f}, test_loss={:05.4g}, test_nll={:05.3f}, test_acc={:05.3f}'\n",
    "          .format(epoch, NUM_EPOCHS, loss / float(len_steps), acc / float(len_steps), nll / float(len_steps), \n",
    "                  test_loss.item() / float(len(test_loader.dataset)), accuracy_test / float(len(test_loader.dataset)), \n",
    "                  test_nll.item() / float(len(test_loader.dataset))))"
   ]
  },
  {
   "cell_type": "code",
   "execution_count": 155,
   "metadata": {},
   "outputs": [],
   "source": [
    "def predict_bnn(x, num_s):\n",
    "    outputs = torch.zeros(num_s+1, x.shape[0], CLASSES).to(device)\n",
    "    for i in range(num_s):\n",
    "        outputs[i] = net(x, sample=True)\n",
    "    outputs[num_s] = net(x, sample=False)\n",
    "    output = outputs.mean(0)\n",
    "    return output"
   ]
  },
  {
   "cell_type": "markdown",
   "metadata": {},
   "source": [
    "### Part 2 : Training a deterministic Neural Network"
   ]
  },
  {
   "cell_type": "code",
   "execution_count": 91,
   "metadata": {},
   "outputs": [],
   "source": [
    "class DeterministicNN(nn.Module):\n",
    "    \n",
    "    def __init__(self, input_size, hidden_size, output_size):\n",
    "        super(DeterministicNN, self).__init__()\n",
    "        self.fc1 = nn.Linear(input_size, hidden_size)\n",
    "        self.fc2 = nn.Linear(hidden_size, hidden_size)\n",
    "        self.out = nn.Linear(hidden_size, output_size)\n",
    "        \n",
    "    def forward(self, x):\n",
    "        output = F.relu(self.fc1(x))\n",
    "        output = F.relu(self.fc2(output))\n",
    "        output = self.out(output)\n",
    "        return F.log_softmax(output, dim=1)"
   ]
  },
  {
   "cell_type": "code",
   "execution_count": 92,
   "metadata": {},
   "outputs": [],
   "source": [
    "deterministic_model = DeterministicNN(28*28, 1200, 10).to(device)\n",
    "optimizer_deter = optim.Adam(deterministic_model.parameters(), lr=0.001)"
   ]
  },
  {
   "cell_type": "code",
   "execution_count": 93,
   "metadata": {},
   "outputs": [
    {
     "name": "stdout",
     "output_type": "stream",
     "text": [
      "----------------------------------------------------------------\n",
      "        Layer (type)               Output Shape         Param #\n",
      "================================================================\n",
      "            Linear-1           [-1, 1, 1, 1200]         942,000\n",
      "            Linear-2           [-1, 1, 1, 1200]       1,441,200\n",
      "            Linear-3             [-1, 1, 1, 10]          12,010\n",
      "================================================================\n",
      "Total params: 2,395,210\n",
      "Trainable params: 2,395,210\n",
      "Non-trainable params: 0\n",
      "----------------------------------------------------------------\n",
      "Input size (MB): 0.00\n",
      "Forward/backward pass size (MB): 0.02\n",
      "Params size (MB): 9.14\n",
      "Estimated Total Size (MB): 9.16\n",
      "----------------------------------------------------------------\n"
     ]
    }
   ],
   "source": [
    "summary(deterministic_model, input_size=(1,1,28*28))"
   ]
  },
  {
   "cell_type": "code",
   "execution_count": 94,
   "metadata": {},
   "outputs": [
    {
     "data": {
      "application/vnd.jupyter.widget-view+json": {
       "model_id": "780fd94b84e147309ffa72b4d5e76b03",
       "version_major": 2,
       "version_minor": 0
      },
      "text/plain": [
       "HBox(children=(IntProgress(value=0, max=600), HTML(value='')))"
      ]
     },
     "metadata": {},
     "output_type": "display_data"
    },
    {
     "name": "stdout",
     "output_type": "stream",
     "text": [
      "Epoch 0/5: train_loss=0.002055, train_acc=0.937, test_loss=0.001014, test_acc=0.971\n"
     ]
    },
    {
     "data": {
      "application/vnd.jupyter.widget-view+json": {
       "model_id": "0cea136b6b8c4c77801adeccdb65dfa9",
       "version_major": 2,
       "version_minor": 0
      },
      "text/plain": [
       "HBox(children=(IntProgress(value=0, max=600), HTML(value='')))"
      ]
     },
     "metadata": {},
     "output_type": "display_data"
    },
    {
     "name": "stdout",
     "output_type": "stream",
     "text": [
      "Epoch 1/5: train_loss=0.0008098, train_acc=0.975, test_loss=0.0008279, test_acc=0.975\n"
     ]
    },
    {
     "data": {
      "application/vnd.jupyter.widget-view+json": {
       "model_id": "b171282031b549d9ab92549585aef542",
       "version_major": 2,
       "version_minor": 0
      },
      "text/plain": [
       "HBox(children=(IntProgress(value=0, max=600), HTML(value='')))"
      ]
     },
     "metadata": {},
     "output_type": "display_data"
    },
    {
     "name": "stdout",
     "output_type": "stream",
     "text": [
      "Epoch 2/5: train_loss=0.0005146, train_acc=0.984, test_loss=0.0006937, test_acc=0.979\n"
     ]
    },
    {
     "data": {
      "application/vnd.jupyter.widget-view+json": {
       "model_id": "aa136cdb71634e7fad36189145539d83",
       "version_major": 2,
       "version_minor": 0
      },
      "text/plain": [
       "HBox(children=(IntProgress(value=0, max=600), HTML(value='')))"
      ]
     },
     "metadata": {},
     "output_type": "display_data"
    },
    {
     "name": "stdout",
     "output_type": "stream",
     "text": [
      "Epoch 3/5: train_loss=0.0003872, train_acc=0.987, test_loss=0.0007594, test_acc=0.978\n"
     ]
    },
    {
     "data": {
      "application/vnd.jupyter.widget-view+json": {
       "model_id": "f47f81c5079149bea53350c78bcf3501",
       "version_major": 2,
       "version_minor": 0
      },
      "text/plain": [
       "HBox(children=(IntProgress(value=0, max=600), HTML(value='')))"
      ]
     },
     "metadata": {},
     "output_type": "display_data"
    },
    {
     "name": "stdout",
     "output_type": "stream",
     "text": [
      "Epoch 4/5: train_loss=0.0003232, train_acc=0.989, test_loss=0.0007727, test_acc=0.979\n"
     ]
    }
   ],
   "source": [
    "# Training our deterministic model \n",
    "for epoch in range(NUM_EPOCHS):\n",
    "    deterministic_model.train()\n",
    "    loss = 0\n",
    "    acc = 0\n",
    "    len_steps = 0\n",
    "    \n",
    "    loop = tqdm(train_loader)\n",
    "    for batch_id, (data, target) in enumerate(loop):\n",
    "        data, target = data.to(device), target.to(device)\n",
    "        optimizer_deter.zero_grad()\n",
    "        output = deterministic_model(data.view(-1,28*28))\n",
    "        current_loss = F.nll_loss(output, target)\n",
    "        current_loss.backward()\n",
    "        loss += current_loss\n",
    "        optimizer_deter.step()\n",
    "        len_steps += len(data)\n",
    "        \n",
    "        pred = output.argmax(dim=1, keepdim=True) # get the index of the max log-probability\n",
    "        acc += pred.eq(target.view_as(pred)).sum().item()\n",
    "\n",
    "        #update the average loss\n",
    "        loop.set_description('Epoch {}/{}'.format(epoch + 1, NUM_EPOCHS))\n",
    "        loop.set_postfix(OrderedDict({'loss':'{:05.3f}'.format(loss / float(len_steps)), \n",
    "                                      'acc':'{:05.3f}'.format(acc / float(len_steps))}))\n",
    "        loop.update()\n",
    "        \n",
    "    # Eval on epoch end\n",
    "    deterministic_model.eval()\n",
    "    test_loss = 0\n",
    "    accuracy_test = 0\n",
    "    with torch.no_grad():\n",
    "        for data_test, target_test in test_loader:\n",
    "            data_test, target_test = data_test.to(device), target_test.to(device)\n",
    "            output_test = deterministic_model(data_test.view(-1,28*28))\n",
    "            test_loss += F.nll_loss(output_test, target_test)\n",
    "            pred_test = output_test.argmax(dim=1, keepdim=True)\n",
    "            accuracy_test += pred_test.eq(target_test.view_as(pred_test)).sum()\n",
    "    print('Epoch {}/{}: train_loss={:05.4g}, train_acc={:05.3f}, test_loss={:05.4g}, test_acc={:05.3f}'\n",
    "          .format(epoch, NUM_EPOCHS, loss / float(len_steps), acc / float(len_steps), \n",
    "                  test_loss.item() / float(len(test_loader.dataset)), accuracy_test.item() / float(len(test_loader.dataset))))"
   ]
  },
  {
   "cell_type": "code",
   "execution_count": 95,
   "metadata": {},
   "outputs": [],
   "source": [
    "def predict_determ(x):\n",
    "    output = torch.exp(deterministic_model(x))\n",
    "    return output"
   ]
  },
  {
   "cell_type": "markdown",
   "metadata": {},
   "source": [
    "## Part 3: plot precision-recall curves"
   ]
  },
  {
   "cell_type": "code",
   "execution_count": 96,
   "metadata": {},
   "outputs": [],
   "source": [
    "from sklearn.metrics import precision_recall_curve\n",
    "from sklearn.metrics import average_precision_score"
   ]
  },
  {
   "cell_type": "code",
   "execution_count": 97,
   "metadata": {},
   "outputs": [],
   "source": [
    "def one_hot_embedding(labels, num_classes):\n",
    "    \"\"\"Embedding labels to one-hot form.\n",
    "\n",
    "    Args:\n",
    "      labels: (LongTensor) class labels, sized [N,].\n",
    "      num_classes: (int) number of classes.\n",
    "\n",
    "    Returns:\n",
    "      (tensor) encoded labels, sized [N, #classes].\n",
    "    \"\"\"\n",
    "    y = torch.eye(num_classes) \n",
    "    return y[labels] "
   ]
  },
  {
   "cell_type": "code",
   "execution_count": 156,
   "metadata": {},
   "outputs": [],
   "source": [
    "def predict_test_set(bnn=False, num_s=1, verbose=True):\n",
    "    Y_test = []\n",
    "    proba_pred = []\n",
    "    correct = 0\n",
    "    with torch.no_grad():\n",
    "        loop = tqdm(test_loader, disable=not verbose)\n",
    "        for j, (data,labels) in enumerate(loop):\n",
    "            data, labels = data.to(device), labels.to(device)\n",
    "            if bnn:\n",
    "                output = predict_bnn(data, num_s)\n",
    "            else:\n",
    "                output = predict_determ(data.view(-1,28*28))\n",
    "            Y_test.extend(labels)\n",
    "            proba_pred.extend(output)\n",
    "            pred = output.argmax(dim=1, keepdim=True) # get the index of the max log-probability\n",
    "            correct += pred.eq(labels.view_as(pred)).sum().item()\n",
    "    Y_test = one_hot_embedding(Y_test,10).numpy()\n",
    "    proba_pred = torch.stack(proba_pred).to('cpu').numpy()\n",
    "    \n",
    "    print('Test set: Accuracy: {}/{} ({:.0f}%)'.format(\n",
    "        correct, len(test_loader.dataset), 100. * correct / len(test_loader.dataset)))\n",
    "    \n",
    "    return Y_test, proba_pred"
   ]
  },
  {
   "cell_type": "code",
   "execution_count": 107,
   "metadata": {},
   "outputs": [],
   "source": [
    "def compute_precision_recall(Y_test, proba_pred):\n",
    "    precision = dict()\n",
    "    recall = dict()\n",
    "    average_precision = dict()\n",
    "    for i in range(10):\n",
    "        precision[i], recall[i], _ = precision_recall_curve(Y_test[:, i],\n",
    "                                                            proba_pred[:, i])\n",
    "        average_precision[i] = average_precision_score(Y_test[:, i], proba_pred[:, i])\n",
    "\n",
    "    # A \"micro-average\": quantifying score on all classes jointly\n",
    "    precision[\"micro\"], recall[\"micro\"], _ = precision_recall_curve(Y_test.ravel(),\n",
    "        proba_pred.ravel())\n",
    "    average_precision[\"micro\"] = average_precision_score(Y_test, proba_pred,\n",
    "                                                         average=\"micro\")\n",
    "    print('Average precision score, micro-averaged over all classes: {0:0.2f}'\n",
    "          .format(average_precision[\"micro\"]))\n",
    "\n",
    "    return precision, recall, average_precision"
   ]
  },
  {
   "cell_type": "code",
   "execution_count": 108,
   "metadata": {},
   "outputs": [
    {
     "data": {
      "application/vnd.jupyter.widget-view+json": {
       "model_id": "281eae7fb24f4e4ba8dbb84be7a8fb72",
       "version_major": 2,
       "version_minor": 0
      },
      "text/plain": [
       "HBox(children=(IntProgress(value=0), HTML(value='')))"
      ]
     },
     "metadata": {},
     "output_type": "display_data"
    },
    {
     "name": "stdout",
     "output_type": "stream",
     "text": [
      "Test set: Accuracy: 9787/10000 (98%)\n"
     ]
    }
   ],
   "source": [
    "Y_test_determ, proba_pred_determ = predict_test_set(bnn=False)"
   ]
  },
  {
   "cell_type": "code",
   "execution_count": 109,
   "metadata": {},
   "outputs": [
    {
     "name": "stdout",
     "output_type": "stream",
     "text": [
      "Average precision score, micro-averaged over all classes: 1.00\n"
     ]
    }
   ],
   "source": [
    "precision_determ, recall_determ, average_precision_determ = compute_precision_recall(Y_test_determ, proba_pred_determ)"
   ]
  },
  {
   "cell_type": "code",
   "execution_count": 157,
   "metadata": {},
   "outputs": [
    {
     "name": "stdout",
     "output_type": "stream",
     "text": [
      "============================\n",
      "CHECKING FOR NUM_SAMPLES=1\n",
      "Test set: Accuracy: 9744/10000 (97%)\n",
      "Average precision score, micro-averaged over all classes: 1.00\n",
      "============================\n",
      "CHECKING FOR NUM_SAMPLES=3\n",
      "Test set: Accuracy: 9754/10000 (98%)\n",
      "Average precision score, micro-averaged over all classes: 1.00\n",
      "============================\n",
      "CHECKING FOR NUM_SAMPLES=5\n",
      "Test set: Accuracy: 9747/10000 (97%)\n",
      "Average precision score, micro-averaged over all classes: 1.00\n",
      "============================\n",
      "CHECKING FOR NUM_SAMPLES=10\n",
      "Test set: Accuracy: 9749/10000 (97%)\n",
      "Average precision score, micro-averaged over all classes: 1.00\n",
      "============================\n",
      "CHECKING FOR NUM_SAMPLES=30\n",
      "Test set: Accuracy: 9748/10000 (97%)\n",
      "Average precision score, micro-averaged over all classes: 1.00\n",
      "============================\n",
      "CHECKING FOR NUM_SAMPLES=100\n",
      "Test set: Accuracy: 9739/10000 (97%)\n",
      "Average precision score, micro-averaged over all classes: 1.00\n"
     ]
    }
   ],
   "source": [
    "Y_test_bnn, proba_pred_bnn = [], []\n",
    "precision_bnn, recall_bnn, average_precision_bnn = [], [], []\n",
    "for i,S in enumerate(NUM_SAMPLES):\n",
    "    print('============================')\n",
    "    print ('CHECKING FOR NUM_SAMPLES={}'.format(S))\n",
    "    Y_test, proba_pred = predict_test_set(bnn=True, verbose=False)\n",
    "    Y_test_bnn.append(Y_test)\n",
    "    proba_pred_bnn.append(proba_pred)\n",
    "    \n",
    "    precision, recall, average_precision = compute_precision_recall(Y_test, proba_pred)\n",
    "    precision_bnn.append(precision)\n",
    "    recall_bnn.append(recall)\n",
    "    average_precision_bnn.append(average_precision)"
   ]
  },
  {
   "cell_type": "code",
   "execution_count": 119,
   "metadata": {},
   "outputs": [
    {
     "data": {
      "image/png": "[encoded data removed]",
      "text/plain": [
       "<Figure size 1080x720 with 1 Axes>"
      ]
     },
     "metadata": {
      "needs_background": "light"
     },
     "output_type": "display_data"
    }
   ],
   "source": [
    "plt.figure(figsize=(15,10))\n",
    "for i in range(len(NUM_SAMPLES)):\n",
    "    plt.plot(recall_bnn[i]['micro'], precision_bnn[i]['micro'], \n",
    "             label='BNN_{}, AP={:.3f}'.format(NUM_SAMPLES[i],average_precision_bnn[i]['micro']))\n",
    "plt.plot(recall_determ['micro'], precision_determ['micro'], \n",
    "         label='Determ, AP={:.3f}'.format(average_precision_determ['micro']))\n",
    "plt.xlabel('Recall')\n",
    "plt.ylabel('Precision')\n",
    "plt.ylim([0.0, 1.05])\n",
    "plt.xlim([0.0, 1.0])\n",
    "plt.legend()\n",
    "plt.grid()\n",
    "plt.show()"
   ]
  },
  {
   "cell_type": "markdown",
   "metadata": {},
   "source": [
    "## Part 4: Compute ROC curve"
   ]
  },
  {
   "cell_type": "code",
   "execution_count": 122,
   "metadata": {},
   "outputs": [],
   "source": [
    "def get_accuracy_threshold(Y_test, proba_pred, threshold):\n",
    "    proba_above_threshold = np.max(proba_pred, axis=1)>=threshold\n",
    "    correct_predictions = np.argmax(proba_pred, axis=1)==np.argmax(Y_test, axis=1)\n",
    "    \n",
    "    predicted_for_images = np.sum(proba_above_threshold)\n",
    "    correct_predictions_above_threshold = np.sum(proba_above_threshold*correct_predictions)\n",
    "\n",
    "    return (correct_predictions_above_threshold / predicted_for_images)"
   ]
  },
  {
   "cell_type": "code",
   "execution_count": 123,
   "metadata": {},
   "outputs": [],
   "source": [
    "accuracies_determ = []\n",
    "for t in THRESHOLDS:\n",
    "    cur_acc = get_accuracy_threshold(Y_test_determ, proba_pred_determ, t)\n",
    "    accuracies_determ.append(cur_acc)"
   ]
  },
  {
   "cell_type": "code",
   "execution_count": 124,
   "metadata": {},
   "outputs": [],
   "source": [
    "accuracies_bnn = [[] for i in NUM_SAMPLES]\n",
    "for i,S in enumerate(NUM_SAMPLES):\n",
    "    for t in THRESHOLDS:\n",
    "        cur_acc = get_accuracy_threshold(Y_test_bnn[i], proba_pred_bnn[i], t)\n",
    "        accuracies_bnn[i].append(cur_acc)"
   ]
  },
  {
   "cell_type": "code",
   "execution_count": 171,
   "metadata": {},
   "outputs": [
    {
     "data": {
      "image/png": "[encoded data removed]",
      "text/plain": [
       "<Figure size 1080x720 with 1 Axes>"
      ]
     },
     "metadata": {
      "needs_background": "light"
     },
     "output_type": "display_data"
    }
   ],
   "source": [
    "plt.figure(figsize=(15,10))\n",
    "for i,acc in enumerate(accuracies_bnn):\n",
    "    plt.scatter(THRESHOLDS, acc)\n",
    "    plt.plot(THRESHOLDS, acc, label='BNN_{}, area={:.3f}'.format(NUM_SAMPLES[i], np.trapz(acc, dx=STEP)))\n",
    "plt.scatter(THRESHOLDS, accuracies_determ)\n",
    "plt.plot(THRESHOLDS, accuracies_determ, label='Determ, area={:.3f}'.format(np.trapz(accuracies_determ, dx=STEP)))\n",
    "plt.legend()\n",
    "plt.xlabel('Confidence threshold')\n",
    "plt.ylabel('Accuracy')\n",
    "plt.title('Accuracy vs Confidences curves')\n",
    "plt.grid()\n",
    "plt.show()"
   ]
  },
  {
   "cell_type": "markdown",
   "metadata": {},
   "source": [
    "## Part 4: Compute calibration plot"
   ]
  },
  {
   "cell_type": "code",
   "execution_count": 88,
   "metadata": {},
   "outputs": [],
   "source": [
    "from sklearn.calibration import calibration_curve"
   ]
  },
  {
   "cell_type": "code",
   "execution_count": 95,
   "metadata": {},
   "outputs": [
    {
     "data": {
      "image/png": "[encoded data removed]",
      "text/plain": [
       "<Figure size 720x720 with 2 Axes>"
      ]
     },
     "metadata": {
      "needs_background": "light"
     },
     "output_type": "display_data"
    }
   ],
   "source": [
    "plt.figure(figsize=(10, 10))\n",
    "ax1 = plt.subplot2grid((3, 1), (0, 0), rowspan=2)\n",
    "ax2 = plt.subplot2grid((3, 1), (2, 0))\n",
    "ax1.plot([0, 1], [0, 1], \"k:\", label=\"Perfectly calibrated\")\n",
    "\n",
    "#Determ\n",
    "correct_predictions = np.argmax(proba_pred_determ, axis=1)==np.argmax(Y_test_determ, axis=1)\n",
    "proba_associated_to_gt = np.max(proba_pred_determ*Y_test_determ, axis=1)\n",
    "fraction_of_positives, mean_predicted_value = calibration_curve(correct_predictions, proba_associated_to_gt, n_bins=10)\n",
    "ax1.plot(mean_predicted_value, fraction_of_positives, \"s-\", label='Determ')\n",
    "ax2.hist(np.max(proba_pred_determ, axis=1), range=(0, 1), bins=10, label='Determ', histtype=\"step\", lw=2)\n",
    "\n",
    "# BNN\n",
    "for i,S in enumerate(NUM_SAMPLES):\n",
    "    correct_predictions = np.argmax(proba_pred_bnn[i], axis=1)==np.argmax(Y_test_bnn[i], axis=1)\n",
    "    proba_associated_to_gt = np.max(proba_pred_bnn[i]*Y_test_bnn[i], axis=1)\n",
    "    fraction_of_positives, mean_predicted_value = calibration_curve(correct_predictions, \n",
    "                                                                    proba_associated_to_gt, n_bins=10)\n",
    "    ax1.plot(mean_predicted_value, fraction_of_positives, \"s-\", label='BNN_{}'.format(NUM_SAMPLES[i]))\n",
    "    ax2.hist(np.max(proba_pred_bnn[i], axis=1), range=(0, 1), bins=10, \n",
    "             label='BNN_{}'.format(NUM_SAMPLES[i]), histtype=\"step\", lw=2)\n",
    "\n",
    "ax1.set_ylabel(\"Fraction of positives\")\n",
    "ax1.set_ylim([-0.05, 1.05])\n",
    "ax1.legend(loc=\"lower right\")\n",
    "ax1.set_title('Calibration plots  (reliability curve)')\n",
    "\n",
    "ax2.set_xlabel(\"Mean predicted value\")\n",
    "ax2.set_ylabel(\"Count\")\n",
    "ax2.legend(loc=\"upper center\", ncol=2)\n",
    "\n",
    "plt.tight_layout()\n",
    "plt.show()"
   ]
  },
  {
   "cell_type": "code",
   "execution_count": null,
   "metadata": {},
   "outputs": [],
   "source": []
  },
  {
   "cell_type": "markdown",
   "metadata": {},
   "source": [
    "### Part 6 : Deterministic Dropout vs MC Dropout"
   ]
  },
  {
   "cell_type": "code",
   "execution_count": 33,
   "metadata": {},
   "outputs": [],
   "source": [
    "class DropoutNN(nn.Module):\n",
    "    \n",
    "    def __init__(self, input_size, hidden_size, output_size, p=0.1):\n",
    "        super(DropoutNN, self).__init__()\n",
    "        self.dropout_p = p\n",
    "        self.fc1 = nn.Linear(input_size, hidden_size)\n",
    "        self.fc2 = nn.Linear(hidden_size, output_size)\n",
    "        self.dropout = nn.Dropout(p=self.dropout_p)\n",
    "        \n",
    "    def forward(self, x):\n",
    "        output = F.relu(self.fc1(x))\n",
    "        output = self.dropout(output)\n",
    "        output = self.fc2(output)\n",
    "        output = self.dropout(output)\n",
    "        return F.log_softmax(output, dim=1)"
   ]
  },
  {
   "cell_type": "code",
   "execution_count": 34,
   "metadata": {},
   "outputs": [],
   "source": [
    "dropout_model = DropoutNN(28*28, 1024, 10, p=0.1).to(device)\n",
    "optimizer_dropout = optim.SGD(dropout_model.parameters(), lr=0.01, momentum=0., weight_decay=1e-6)"
   ]
  },
  {
   "cell_type": "code",
   "execution_count": 35,
   "metadata": {},
   "outputs": [
    {
     "data": {
      "application/vnd.jupyter.widget-view+json": {
       "model_id": "29208e0f4e204a4ea0719e1abe58a2d7",
       "version_major": 2,
       "version_minor": 0
      },
      "text/plain": [
       "HBox(children=(IntProgress(value=0, max=469), HTML(value='')))"
      ]
     },
     "metadata": {},
     "output_type": "display_data"
    },
    {
     "name": "stdout",
     "output_type": "stream",
     "text": [
      "\n"
     ]
    },
    {
     "data": {
      "application/vnd.jupyter.widget-view+json": {
       "model_id": "9b9129233e43425e9b227bbd6cbb2adb",
       "version_major": 2,
       "version_minor": 0
      },
      "text/plain": [
       "HBox(children=(IntProgress(value=0, max=469), HTML(value='')))"
      ]
     },
     "metadata": {},
     "output_type": "display_data"
    },
    {
     "name": "stdout",
     "output_type": "stream",
     "text": [
      "\n"
     ]
    },
    {
     "data": {
      "application/vnd.jupyter.widget-view+json": {
       "model_id": "53b31869b4784bdeba30bfbef50bf8df",
       "version_major": 2,
       "version_minor": 0
      },
      "text/plain": [
       "HBox(children=(IntProgress(value=0, max=469), HTML(value='')))"
      ]
     },
     "metadata": {},
     "output_type": "display_data"
    },
    {
     "name": "stdout",
     "output_type": "stream",
     "text": [
      "\n"
     ]
    },
    {
     "data": {
      "application/vnd.jupyter.widget-view+json": {
       "model_id": "51559802a48b43109eed041e15ba4578",
       "version_major": 2,
       "version_minor": 0
      },
      "text/plain": [
       "HBox(children=(IntProgress(value=0, max=469), HTML(value='')))"
      ]
     },
     "metadata": {},
     "output_type": "display_data"
    },
    {
     "name": "stdout",
     "output_type": "stream",
     "text": [
      "\n"
     ]
    },
    {
     "data": {
      "application/vnd.jupyter.widget-view+json": {
       "model_id": "9f5347fe56e545c498af8d70d24133c7",
       "version_major": 2,
       "version_minor": 0
      },
      "text/plain": [
       "HBox(children=(IntProgress(value=0, max=469), HTML(value='')))"
      ]
     },
     "metadata": {},
     "output_type": "display_data"
    },
    {
     "name": "stdout",
     "output_type": "stream",
     "text": [
      "\n"
     ]
    }
   ],
   "source": [
    "# Training our deterministic model \n",
    "for epoch in range(NUM_EPOCHS):\n",
    "    loss = 0\n",
    "    acc = 0\n",
    "    len_steps = 0\n",
    "    \n",
    "    loop = tqdm(train_loader)\n",
    "    for batch_id, (data, target) in enumerate(loop):\n",
    "        data, target = data.to(device), target.to(device)\n",
    "        optimizer_dropout.zero_grad()\n",
    "        output = dropout_model(data.view(-1,28*28))\n",
    "        current_loss = F.nll_loss(output, target)\n",
    "        current_loss.backward()\n",
    "        loss += current_loss\n",
    "        optimizer_dropout.step()\n",
    "        len_steps += len(data)\n",
    "        \n",
    "        pred = output.argmax(dim=1, keepdim=True) # get the index of the max log-probability\n",
    "        acc += pred.eq(target.view_as(pred)).sum().item()\n",
    "\n",
    "        #update the average loss\n",
    "        loop.set_description('Epoch {}/{}'.format(epoch + 1, NUM_EPOCHS))\n",
    "        loop.set_postfix(OrderedDict({'loss':'{:05.3f}'.format(loss / float(len_steps)), \n",
    "                                      'acc':'{:05.3f}'.format(acc / float(len_steps))}))\n",
    "        loop.update()"
   ]
  },
  {
   "cell_type": "code",
   "execution_count": 37,
   "metadata": {},
   "outputs": [],
   "source": [
    "def uncertainity_estimate(X, model, iters, l2):\n",
    "    outputs = np.hstack([model(X[:, np.newaxis]).data.numpy() for i in trange(iters)])\n",
    "    y_mean = outputs.mean(axis=1)\n",
    "    y_std = np.sqrt(outputs.var(axis=1))\n",
    "    return y_mean, y_std"
   ]
  },
  {
   "cell_type": "code",
   "execution_count": null,
   "metadata": {},
   "outputs": [],
   "source": [
    "def predict_MCdropout(x, num_s):\n",
    "    yhats = [torch.exp(dropout_model(x)) for s in num_s]\n",
    "    mean = torch.mean(torch.stack(yhats), 0)\n",
    "    y_mean = outputs.mean(axis=1)\n",
    "    y_std = np.sqrt(outputs.var(axis=1))\n",
    "    return mean.max(dim = 1)\n",
    "    output = torch.exp(deterministic_model(x))\n",
    "    return output.max(dim=1)"
   ]
  },
  {
   "cell_type": "code",
   "execution_count": null,
   "metadata": {},
   "outputs": [],
   "source": [
    "    total = 0\n",
    "    predicted_for_images = 0\n",
    "    correct_predictions=0\n",
    "            \n",
    "    with torch.no_grad():\n",
    "        loop = tqdm(test_loader, disable=not verbose)\n",
    "        for j, (data,labels) in enumerate(loop):\n",
    "            data, labels = data.to(device), labels.to(device)\n",
    "            if bnn:\n",
    "                y = predict_bnn(data.view(-1,28*28), num_s)\n",
    "            else:\n",
    "                y = predict_determ(data.view(-1,28*28))\n",
    "                \n",
    "            for i in range(len(labels)):\n",
    "                prob = y[0][i]\n",
    "                pred = y[1][i]\n",
    "                if prob>threshold:\n",
    "                    predicted_for_images+=1\n",
    "                    correct_predictions += (pred == labels[i]).item()"
   ]
  },
  {
   "cell_type": "code",
   "execution_count": null,
   "metadata": {},
   "outputs": [],
   "source": []
  }
 ],
 "metadata": {
  "kernelspec": {
   "display_name": "Python 3",
   "language": "python",
   "name": "python3"
  },
  "language_info": {
   "codemirror_mode": {
    "name": "ipython",
    "version": 3
   },
   "file_extension": ".py",
   "mimetype": "text/x-python",
   "name": "python",
   "nbconvert_exporter": "python",
   "pygments_lexer": "ipython3",
   "version": "3.7.2"
  }
 },
 "nbformat": 4,
 "nbformat_minor": 2
}
