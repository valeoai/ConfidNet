{
 "cells": [
  {
   "cell_type": "markdown",
   "metadata": {},
   "source": [
    "# Results\n",
    "\n",
    "A notebook summary to save some results obtained."
   ]
  },
  {
   "cell_type": "markdown",
   "metadata": {},
   "source": [
    "### Small Conv on MNIST, similar to Trust Score\n",
    "\n",
    "###### Run 1\n",
    "|                  Model                 | epoch | Accuracy_train | Accuracy_test | AP_test_errors | AP_test_success | AUC |\n",
    "|:--------------------------------------:|------:|---------------|---------|---------|---------|---------|\n",
    "| mnist_trustscore_baseline_run1 (*normal*)    | 096   | 99.49\\%       | 99.29\\% | 28.39\\% | 99.99\\% | 98.33\\% |\n",
    "| mnist_trustscore_baseline_run1 (*mcdropout*)    | 096   | XX   | 99.37\\% | 33.53\\% | 99.99\\% | 98.38\\% |\n",
    "| mnist_trustscore_baseline_run1 (*trustscore*)   | 096   | 99.49\\%       | 99.29\\% | **39.16\\%** | **99.99\\%** | **98.64\\%** |\n",
    "| mnist_trustscore_selfconfid_ft_mse_w1_lr4_run1 | 153   | 99.49\\%       | 99.29\\% | 37.84\\% | 99.99\\% | 98.41\\% |\n",
    "\n",
    "###### Run 2\n",
    "|                  Model                 | epoch | Accuracy_train | Accuracy_test | AP_test_errors | AP_test_success | AUC |\n",
    "|:--------------------------------------:|------:|---------------|---------|---------|---------|---------|\n",
    "| mnist_trustscore_baseline_run2 (*normal*)    | 091   | 99.44\\%       | 99.30\\% | 31.91\\% | 99.99\\% | 98.56\\% |\n",
    "| mnist_trustscore_baseline_run2 (*mcdropout*)    | 091   | XX   | 99.27\\% | **37.99\\%** | 99.99\\% | 98.57\\% |\n",
    "| mnist_trustscore_baseline_run2 (*trustscore*)    | 091   | 99.44\\%  | 99.30\\% | 29.95\\% | 99.99\\% | 98.06\\% |\n",
    "| mnist_trustscore_selfconfid_ft_mse_w1_lr4_run2 | 492   | 99.44\\%       | 99.30\\% | 34.51\\% | **99.99\\%** | **98.74\\%** |\n",
    "\n",
    "###### Run 3\n",
    "|                  Model                 | epoch | Accuracy_train | Accuracy_test | AP_test_errors | AP_test_success | AUC |\n",
    "|:--------------------------------------:|------:|---------------|---------|---------|---------|---------|\n",
    "| mnist_trustscore_baseline_run3 (*normal*)    | 100   | 99.52\\%       | 99.36\\% | 30.77\\% | 99.99\\% | 98.08\\% |\n",
    "| mnist_trustscore_baseline_run3 (*mcdropout*)    | 100   | XX       | 99.32\\% | **33.80\\%** | 99.99\\% | 98.27\\% |\n",
    "| mnist_trustscore_baseline_run3 (*trustscore*)    | 100   | 99.52\\%       | 99.36\\% | 29.23\\% | 99.98\\% | 97.67\\% |\n",
    "| mnist_trustscore_selfconfid_ft_mse_w1_lr4_run3 | 286   | 99.52\\%       | 99.36\\% | 32.83\\% | **99.99\\%** | **98.71\\%** |\n",
    "\n",
    "###### Run 4\n",
    "|                  Model                 | epoch | Accuracy_train | Accuracy_test | AP_test_errors | AP_test_success | AUC |\n",
    "|:--------------------------------------:|------:|---------------|---------|---------|---------|---------|\n",
    "| mnist_trustscore_baseline_run4 (*normal*)    | 099   | 99.49\\%       | 99.30\\% | 27.35\\% | 99.99\\% | 98.21\\% |\n",
    "| mnist_trustscore_baseline_run4 (*mcdropout*)    | 099   | XX       | 99.25\\% | 33.88\\% | 99.99\\% | **98.35\\%** |\n",
    "| mnist_trustscore_baseline_run4 (*trustscore*)    | 099  | 99.49\\%       | 99.30\\% | 31.73\\% | 99.99\\% | 98.02\\% |\n",
    "| mnist_trustscore_selfconfid_ft_mse_w1_lr4_run4 | 358   | 99.49\\%       | 99.30\\% | **33.89\\%** | **99.99\\%** | 98.20\\% |\n",
    "\n",
    "###### Run 5\n",
    "|                  Model                 | epoch | Accuracy_train | Accuracy_test | AP_test_errors | AP_test_success | AUC |\n",
    "|:--------------------------------------:|------:|---------------|---------|---------|---------|---------|\n",
    "| mnist_trustscore_baseline_run5 (*normal*)    | 091   | 99.47\\%       | 99.32\\% | 28.31\\% | 99.99\\% | 98.37\\% |\n",
    "| mnist_trustscore_baseline_run5 (*mcdropout*)    | 091   | XX   | 99.29\\% | 29.01\\% | 99.99\\% | 98.36\\% |\n",
    "| mnist_trustscore_baseline_run5 (*trustscore*)    | 091   | 99.47\\%       | 99.32\\% | 37.59\\% | 99.99\\% | 98.12\\% |\n",
    "| mnist_trustscore_selfconfid_ft_mse_w1_lr4_run5 | 447   | 99.47\\%       | 99.32\\% | **38.00\\%** | **99.99\\%** | **98.52\\%** |"
   ]
  },
  {
   "cell_type": "markdown",
   "metadata": {},
   "source": [
    "###### Mean\n",
    "|                  Model                 |  Accuracy_train | Accuracy_test | AP_test_errors | AP_test_success | AUC |\n",
    "|:--------------------------------------:|---------------|---------|---------|---------|---------|\n",
    "| mnist_trustscore_baseline_mean (*normal*)    |  99.48\\% (±0.03) | 99.31\\% (±0.02) | 29.36\\% (±1.71) | 99.99\\% (±0.00) | 98.31\\% (±0.16) |\n",
    "| mnist_trustscore_baseline_mean (*mcdropout*)  |  XX | 99.30\\% (±0.04) | 33.64\\% (±2.84) | 99.99\\% (±0.00) | 98.39\\% (±0.10) |\n",
    "| mnist_trustscore_baseline_mean (*trustscore*)    |  99.48\\% (±0.03) | 99.31\\% (±0.02) | 33.53\\% (±4.07) | 99.99\\% (±0.00) | 98.10\\% (±0.31) |\n",
    "| mnist_trustscore_selfconfid_ft_mse_w1_lr4_mean | 99.48\\% (±0.03) | 99.31\\% (±0.02) | **35.41\\%** (±2.12) | **99.99\\%** (±0.00) | **98.52\\%** (±0.20) |"
   ]
  },
  {
   "cell_type": "markdown",
   "metadata": {},
   "source": [
    "### Small Conv on SVHN, similar to Trust Score\n",
    "\n",
    "###### Run 1\n",
    "|                  Model                 | epoch | Accuracy_train | Accuracy_test | AP_test_errors | AP_test_success | AUC |\n",
    "|:--------------------------------------:|------:|---------------|---------|---------|---------|---------|\n",
    "| svhn_trustscore_baseline_run1 (*normal*)    | 049   | 97.73\\%       | 95.78\\% | 45.36\\% | 99.53\\% | 92.61\\% |\n",
    "| svhn_trustscore_baseline_run1 (*mcdropout*)    | 049   | XX   | 95.90\\% | 40.84\\% | **99.55\\%** | 92.45\\% |\n",
    "| svhn_trustscore_baseline_run1 (*trustscore*)   | 049   | 97.73\\%       | 95.78\\% | 36.05\\% | 99.48\\% | 91.42\\% |\n",
    "| svhn_trustscore_selfconfid_ft_mse_w1_lr4_run1 | 453   | 97.73\\%       | 95.78\\% | **46.99\\%** | 99.52\\% | **92.67\\%** |\n",
    "\n",
    "###### Run 2\n",
    "|                  Model                 | epoch | Accuracy_train | Accuracy_test | AP_test_errors | AP_test_success | AUC |\n",
    "|:--------------------------------------:|------:|---------------|---------|---------|---------|---------|\n",
    "| svhn_trustscore_baseline_run2 (*normal*)    | 049   | 97.78\\%       | 95.72\\% | 42.38\\% | 99.55\\% | 92.59\\% |\n",
    "| svhn_trustscore_baseline_run2 (*mcdropout*)    | 049   | XX   | 95.76\\% | 42.61\\% | 99.57\\% | 92.72\\% |\n",
    "| svhn_trustscore_baseline_run2 (*trustscore*)    | 049   | 97.78\\%       | 95.72\\% | 35.71\\% | 99.51\\% | 91.65\\% |\n",
    "| svhn_trustscore_selfconfid_ft_mse_w1_lr4_run2 | 419   | 97.78\\%       | 95.72\\% | **45.71\\%** | **99.57\\%** | **92.86\\%** |\n",
    "\n",
    "###### Run 3\n",
    "|                  Model                 | epoch | Accuracy_train | Accuracy_test | AP_test_errors | AP_test_success | AUC |\n",
    "|:--------------------------------------:|------:|---------------|---------|---------|---------|---------|\n",
    "| svhn_trustscore_baseline_run3 (*normal*)    | 045   | 97.48\\%       | 95.82\\% | 46.09\\% | 99.56\\% | 92.96\\% |\n",
    "| svhn_trustscore_baseline_run3 (*mcdropout*)    | 045   | XX       | 95.70\\% | 47.61\\% | **99.58\\%** | **93.28\\%** |\n",
    "| svhn_trustscore_baseline_run3 (*trustscore*)    | 045   | 97.48\\%       | 95.82\\% | 37.50\\% | 99.52\\% | 91.86\\% |\n",
    "| svhn_trustscore_selfconfid_ft_mse_w1_lr4_run3 | 379   | 97.48\\%       | 95.82\\% | **49.37\\%** | 99.56\\% | 93.11\\% |\n",
    "\n",
    "###### Run 4\n",
    "|                  Model                 | epoch | Accuracy_train | Accuracy_test | AP_test_errors | AP_test_success | AUC |\n",
    "|:--------------------------------------:|------:|---------------|---------|---------|---------|---------|\n",
    "| svhn_trustscore_baseline_run4 (*normal*)    | 031   | 96.57\\%       | 95.74\\% | 44.11\\% | 99.50\\% | 92.27\\% |\n",
    "| svhn_trustscore_baseline_run4 (*mcdropout*)    | 031   | XX       | 95.48\\% | 44.96\\% | 99.53\\% | 92.84\\% |\n",
    "| svhn_trustscore_baseline_run4 (*trustscore*)    | 031  | 96.57\\%       | 95.74\\% | 37.54\\% | 99.44\\% | 91.40\\% |\n",
    "| svhn_trustscore_selfconfid_ft_mse_w1_lr4_run4 | 353   | 96.57\\%       | 95.74\\%| **47.65\\%** | **99.53\\%** | 92.64\\% |\n",
    "\n",
    "###### Run 5\n",
    "|                  Model                 | epoch | Accuracy_train | Accuracy_test | AP_test_errors | AP_test_success | AUC |\n",
    "|:--------------------------------------:|------:|---------------|---------|---------|---------|---------|\n",
    "| svhn_trustscore_baseline_run5 (*normal*)    | 049   | 97.71\\%       | 95.76\\% | 44.26\\% | 99.54\\% | 92.64\\% |\n",
    "| svhn_trustscore_baseline_run5 (*mcdropout*)    | 049   | XX   | 95.79\\% | 42.88\\% | 99.55\\% | 92.64\\% |\n",
    "| svhn_trustscore_baseline_run5 (*trustscore*)    | 049   | 97.71\\%       | 95.76\\% | 37.62\\% | 99.48\\% | 91.56\\% |\n",
    "| svhn_trustscore_selfconfid_ft_mse_w1_lr4_run5 | 099   | 97.71\\%       | 95.76\\% | **46.76\\%** | **99.56\\%** | **92.90\\%** |"
   ]
  },
  {
   "cell_type": "markdown",
   "metadata": {},
   "source": [
    "###### Mean\n",
    "|                  Model                 |  Accuracy_train | Accuracy_test | AP_test_errors | AP_test_success | AUC |\n",
    "|:--------------------------------------:|---------------|---------|---------|---------|---------|\n",
    "| svhn_trustscore_baseline_mean (*normal*)    |  97.45\\% (±0.45) | 95.76\\% (±0.03) | 44.44\\% (±1.26) | 99.54\\% (±0.02) | 92.61\\% (±0.22) |\n",
    "| svhn_trustscore_baseline_mean (*mcdropout*)  |  XX | 95.73\\% (±0.14) | 43.78\\% (±2.32) | 99.56\\% (±0.02) | 92.79\\% (±0.28) |\n",
    "| svhn_trustscore_baseline_mean (*trustscore*)    |  97.45\\% (±0.45) | 95.76\\% (±0.03) | 36.88\\% (±0.82) | 99.49\\% (±0.03) | 91.57\\% (±0.16) |\n",
    "| svhn_trustscore_selfconfid_ft_mse_w1_lr4_mean | 97.45\\% (±0.45) | 95.76\\% (±0.03) | **47.30\\%** (±1.21) | **99.55\\%** (±0.02) | **92.84\\%** (±0.17) |"
   ]
  },
  {
   "cell_type": "code",
   "execution_count": null,
   "metadata": {},
   "outputs": [],
   "source": []
  },
  {
   "cell_type": "code",
   "execution_count": null,
   "metadata": {},
   "outputs": [],
   "source": []
  },
  {
   "cell_type": "code",
   "execution_count": 8,
   "metadata": {},
   "outputs": [
    {
     "name": "stdout",
     "output_type": "stream",
     "text": [
      "['acc_train', 'metric']\n",
      "97.454\n",
      "0.45389866710533794\n",
      "['acc_test', 'metric']\n",
      "95.72600000000001\n",
      "0.13908270920571042\n",
      "['ap_success', 'metric']\n",
      "99.54799999999999\n",
      "0.01939071942966527\n",
      "['ap_errors', 'metric']\n",
      "47.296\n",
      "1.2102165095552107\n",
      "['auc', 'metric']\n",
      "92.83599999999998\n",
      "0.17071613866298616\n"
     ]
    }
   ],
   "source": [
    "import numpy as np\n",
    "acc_train = np.array([97.73,97.78,97.48,96.57,97.71])\n",
    "acc_test = np.array([95.90,95.76,95.70,95.48,95.79])\n",
    "ap_errors = np.array([46.99,45.71,49.37,47.65,46.76])\n",
    "ap_success = np.array([99.52,99.57,99.56,99.53,99.56])\n",
    "auc = np.array([92.67,92.86,93.11,92.64,92.90])\n",
    "\n",
    "def namestr(obj, namespace):\n",
    "    return [name for name in namespace if namespace[name] is obj]\n",
    "\n",
    "for metric in [acc_train, acc_test, ap_success, ap_errors, auc]:\n",
    "    print(namestr(metric, globals()))\n",
    "    print (metric.mean())\n",
    "    print (metric.std())"
   ]
  },
  {
   "cell_type": "code",
   "execution_count": null,
   "metadata": {},
   "outputs": [],
   "source": []
  },
  {
   "cell_type": "markdown",
   "metadata": {},
   "source": [
    "## Distributions"
   ]
  },
  {
   "cell_type": "code",
   "execution_count": 1,
   "metadata": {},
   "outputs": [],
   "source": [
    "import os\n",
    "import yaml\n",
    "import torch\n",
    "import torch.nn.functional as F\n",
    "import numpy as np\n",
    "from tqdm import tqdm_notebook as tqdm\n",
    "from sklearn.metrics import average_precision_score\n",
    "from sklearn.metrics import roc_auc_score\n",
    "import matplotlib.pyplot as plt\n",
    "%matplotlib inline\n",
    "\n",
    "import sys\n",
    "sys.path.insert(0, '../')\n",
    "from loaders import get_loader\n",
    "from models import get_model\n",
    "from utils import utils, trust_scores\n",
    "from metrics import Metrics\n",
    "\n",
    "# Device configuration\n",
    "device = torch.device('cuda' if torch.cuda.is_available() else 'cpu')"
   ]
  },
  {
   "cell_type": "code",
   "execution_count": 52,
   "metadata": {},
   "outputs": [],
   "source": [
    "MODELS = {'mnist_baseline':{'config_path':'/home/docker_user/shared/ccorbiere/logs/mnist/new/mnist_logreg_baseline_val01/config_1.yaml', \n",
    "                   'ckpt_path':'/home/docker_user/shared/ccorbiere/logs/mnist/new/mnist_logreg_baseline_val01/model_epoch_094.ckpt',\n",
    "                   'mode':[]}, \n",
    "          'mnist_selfconfid_mse':{'config_path':'/home/docker_user/shared/ccorbiere/logs/mnist/new/mnist_logreg_selfconfid_normal_ft_mse_w1_adam_lr3/config_1.yaml', \n",
    "                   'ckpt_path':'/home/docker_user/shared/ccorbiere/logs/mnist/new/mnist_logreg_selfconfid_normal_ft_mse_w1_adam_lr3/model_epoch_030.ckpt',\n",
    "                   'mode':['self_confid']}}"
   ]
  },
  {
   "cell_type": "code",
   "execution_count": 5,
   "metadata": {},
   "outputs": [],
   "source": [
    "MODELS = {'lenet_baseline':{'config_path':'/share/DEEPLEARNING/ccorbiere/logs/cifar10/new/cifar_lenet_baseline_val01/config_1.yaml', \n",
    "                   'ckpt_path':'/share/DEEPLEARNING/ccorbiere/logs/cifar10/new/cifar_lenet_baseline_val01/model_epoch_438.ckpt',\n",
    "                   'mode':[]}, \n",
    "          'lenet_selfconfid_mse':{'config_path':'/share/DEEPLEARNING/ccorbiere/logs/cifar10/new/cifar_lenet_selfconfid_ft_w1_lr4_adam_010/config_1.yaml', \n",
    "                   'ckpt_path':'/share/DEEPLEARNING/ccorbiere/logs/cifar10/new/cifar_lenet_selfconfid_ft_w1_lr4_adam_010/model_epoch_328.ckpt',\n",
    "                   'mode':['self_confid']},\n",
    "          'lenet_selfconfid_bce':{'config_path':'/share/DEEPLEARNING/ccorbiere/logs/cifar10/new/cifar10_lenet_selfconfid_ft_bce_w1_adam_lr4/config_1.yaml', \n",
    "                   'ckpt_path':'/share/DEEPLEARNING/ccorbiere/logs/cifar10/new/cifar10_lenet_selfconfid_ft_bce_w1_adam_lr4/model_epoch_094.ckpt',\n",
    "                   'mode':['self_confid']}}"
   ]
  },
  {
   "cell_type": "code",
   "execution_count": 2,
   "metadata": {},
   "outputs": [],
   "source": [
    "MODELS = {'resnet50_baseline':{'config_path':'/home/docker_user/shared/ccorbiere/logs/cifar10/new/cifar_resnet50_baseline_val01/config_1.yaml', \n",
    "                   'ckpt_path':'/home/docker_user/shared/ccorbiere/logs/cifar10/new/cifar_resnet50_baseline_val01/model_epoch_476.ckpt',\n",
    "                   'mode':[]}, \n",
    "          'resnet50_selfconfid_mse':{'config_path':'/home/docker_user/shared/ccorbiere/logs/cifar10/new/cifar10_resnet50_selfconfid_ft_mse_w1_val_adam_lr4/config_1.yaml', \n",
    "                   'ckpt_path':'/home/docker_user/shared/ccorbiere/logs/cifar10/new/cifar10_resnet50_selfconfid_ft_mse_w1_val_adam_lr4/model_epoch_147.ckpt',\n",
    "                   'mode':['self_confid']}}"
   ]
  },
  {
   "cell_type": "code",
   "execution_count": 78,
   "metadata": {},
   "outputs": [],
   "source": [
    "MODELS = {'resnet50_baseline':{'config_path':'/home/docker_user/shared/ccorbiere/logs/cifar100/cifar100_resnet50_baseline_val01/config_1.yaml', \n",
    "                   'ckpt_path':'/home/docker_user/shared/ccorbiere/logs/cifar100/cifar100_resnet50_baseline_val01/model_epoch_495.ckpt',\n",
    "                   'mode':[]}, \n",
    "          'resnet50_selfconfid_mse':{'config_path':'/home/docker_user/shared/ccorbiere/logs/cifar100/cifar100_resnet50_selfconfid_ft_w1_lr4_adam_010/config_1.yaml', \n",
    "                   'ckpt_path':'/home/docker_user/shared/ccorbiere/logs/cifar100/cifar100_resnet50_selfconfid_ft_w1_lr4_adam_010/model_epoch_058.ckpt',\n",
    "                   'mode':['self_confid']}}"
   ]
  },
  {
   "cell_type": "code",
   "execution_count": 62,
   "metadata": {},
   "outputs": [],
   "source": [
    "MODELS = {'lenet_baseline':{'config_path':'/home/docker_user/shared/ccorbiere/logs/mnist/lenet/mnist_lenet_baseline_val01/config_1.yaml', \n",
    "                   'ckpt_path':'/home/docker_user/shared/ccorbiere/logs/mnist/lenet/mnist_lenet_baseline_val01/model_epoch_091.ckpt',\n",
    "                   'mode':[]}, \n",
    "          'lenet_selfconfid_mse':{'config_path':'/home/docker_user/shared/ccorbiere/logs/mnist/lenet/mnist_lenet_selfconfid_ft_mse_w1_adam_lr4/config_1.yaml', \n",
    "                   'ckpt_path':'/home/docker_user/shared/ccorbiere/logs/mnist/lenet/mnist_lenet_selfconfid_ft_mse_w1_adam_lr4/model_epoch_383.ckpt',\n",
    "                   'mode':['self_confid']}}"
   ]
  },
  {
   "cell_type": "code",
   "execution_count": 2,
   "metadata": {},
   "outputs": [],
   "source": [
    "MODELS = {'lenet_baseline':{'config_path':'/home/docker_user/shared/ccorbiere/logs/cifar10/new/cifar10_lenet_baseline_val01/config_1.yaml', \n",
    "                   'ckpt_path':'/home/docker_user/shared/ccorbiere/logs/cifar10/new/cifar10_lenet_baseline_val01/model_epoch_482.ckpt',\n",
    "                   'mode':[]}}"
   ]
  },
  {
   "cell_type": "code",
   "execution_count": null,
   "metadata": {},
   "outputs": [],
   "source": []
  },
  {
   "cell_type": "code",
   "execution_count": null,
   "metadata": {},
   "outputs": [],
   "source": []
  },
  {
   "cell_type": "code",
   "execution_count": 78,
   "metadata": {},
   "outputs": [],
   "source": [
    "MODELS = {'mnist_baseline':{'config_path':'/share/DEEPLEARNING/ccorbiere/logs/mnist/trustscore/mnist_trustscore_baseline_val01/config_1.yaml', \n",
    "                   'ckpt_path':'/share/DEEPLEARNING/ccorbiere/logs/mnist/trustscore/mnist_trustscore_baseline_val01/model_epoch_029.ckpt',\n",
    "                   'mode':[]},\n",
    "          'mnist_selfconfid':{'config_path':'/share/DEEPLEARNING/ccorbiere/logs/mnist/trustscore/mnist_trustscore_selfconfid_adam_lr4/config_1.yaml', \n",
    "                   'ckpt_path':'/share/DEEPLEARNING/ccorbiere/logs/mnist/trustscore/mnist_trustscore_selfconfid_adam_lr4/model_epoch_125.ckpt',\n",
    "                   'mode':['self_confid']},}"
   ]
  },
  {
   "cell_type": "code",
   "execution_count": 124,
   "metadata": {},
   "outputs": [],
   "source": [
    "MODELS = {'mlp_baseline':{'config_path':'/share/DEEPLEARNING/ccorbiere/logs/mnist/paper/mnist_mlp_baseline_dropout/config_1.yaml', \n",
    "                   'ckpt_path':'/share/DEEPLEARNING/ccorbiere/logs/mnist/paper/mnist_mlp_baseline_dropout/model_epoch_130.ckpt',\n",
    "                   'mode':[]}}"
   ]
  },
  {
   "cell_type": "code",
   "execution_count": 115,
   "metadata": {},
   "outputs": [],
   "source": [
    "MODELS = {'mnist_baseline':{'config_path':'/share/DEEPLEARNING/ccorbiere/logs/mnist/paper/mnist_trustscore_baseline/config_1.yaml', \n",
    "                   'ckpt_path':'/share/DEEPLEARNING/ccorbiere/logs/mnist/paper/mnist_trustscore_baseline/model_epoch_056.ckpt',\n",
    "                   'mode':[]}}"
   ]
  },
  {
   "cell_type": "code",
   "execution_count": 106,
   "metadata": {},
   "outputs": [],
   "source": [
    "MODELS = {'svhn_baseline':{'config_path':'/share/DEEPLEARNING/ccorbiere/logs/svhn/trustscore/svhn_trustscore_baseline/config_1.yaml', \n",
    "                   'ckpt_path':'/share/DEEPLEARNING/ccorbiere/logs/svhn/trustscore/svhn_trustscore_baseline/model_epoch_017.ckpt',\n",
    "                   'mode':[]}}"
   ]
  },
  {
   "cell_type": "code",
   "execution_count": 2,
   "metadata": {},
   "outputs": [],
   "source": [
    "MODELS = {'cifar10_baseline':{'config_path':'/share/DEEPLEARNING/ccorbiere/logs/cifar10/trustscore/cifar10_trustscore_baseline_pretrained/config_1.yaml', \n",
    "                   'ckpt_path':'/share/DEEPLEARNING/ccorbiere/logs/cifar10/trustscore/cifar10_trustscore_baseline_pretrained/model_epoch_197.ckpt',\n",
    "                   'mode':[]}}"
   ]
  },
  {
   "cell_type": "code",
   "execution_count": 105,
   "metadata": {},
   "outputs": [],
   "source": [
    "MODELS = {'cifar10_lenet':{'config_path':'/share/DEEPLEARNING/ccorbiere/logs/cifar10/cifar10_lenet_baseline/config_1.yaml', \n",
    "                   'ckpt_path':'/share/DEEPLEARNING/ccorbiere/logs/cifar10/cifar10_lenet_baseline/model_epoch_123.ckpt',\n",
    "                   'mode':[]}}"
   ]
  },
  {
   "cell_type": "code",
   "execution_count": 81,
   "metadata": {},
   "outputs": [],
   "source": [
    "MODELS = {'cifar100_baseline':{'config_path':'/share/DEEPLEARNING/ccorbiere/logs/cifar100/trustscore/cifar100_trustscore_baseline/config_1.yaml', \n",
    "                   'ckpt_path':'/share/DEEPLEARNING/ccorbiere/logs/cifar100/trustscore/cifar100_trustscore_baseline/model_epoch_270.ckpt',\n",
    "                   'mode':[]}}"
   ]
  },
  {
   "cell_type": "code",
   "execution_count": 2,
   "metadata": {},
   "outputs": [],
   "source": [
    "MODELS = {'camvid_baseline':{'config_path':'/share/DEEPLEARNING/ccorbiere/logs/camvid/camvid_segnet_baseline_pretrained_dropout/config_1.yaml', \n",
    "                   'ckpt_path':'/share/DEEPLEARNING/ccorbiere/logs/camvid/camvid_segnet_baseline_pretrained_dropout/model_epoch_326.ckpt',\n",
    "                   'mode':[]}}"
   ]
  },
  {
   "cell_type": "code",
   "execution_count": 8,
   "metadata": {},
   "outputs": [],
   "source": [
    "MODELS = {'cityscapes_baseline':{'config_path':'/share/DEEPLEARNING/ccorbiere/logs/cityscapes/camvid_segnet_selfconfid_k3_adam_lr4/config_1.yaml', \n",
    "                   'ckpt_path':'/share/DEEPLEARNING/ccorbiere/logs/cityscapes/camvid_segnet_selfconfid_k3_adam_lr4/model_epoch_285.ckpt',\n",
    "                   'mode':[]}}"
   ]
  },
  {
   "cell_type": "code",
   "execution_count": null,
   "metadata": {},
   "outputs": [],
   "source": [
    "import torch.utils.model_zoo as model_zoo\n",
    "\n",
    "MODELS = {'imagenet_baseline':{'config_path':'/home/docker_user/shared/ccorbiere/logs/imagenet/imagenet_resnet50_baseline/config_1.yaml', \n",
    "                   'ckpt_path':'https://download.pytorch.org/models/resnet50-19c8e357.pth',\n",
    "                   'mode':[]}}"
   ]
  },
  {
   "cell_type": "code",
   "execution_count": null,
   "metadata": {},
   "outputs": [],
   "source": []
  },
  {
   "cell_type": "code",
   "execution_count": null,
   "metadata": {},
   "outputs": [],
   "source": []
  },
  {
   "cell_type": "code",
   "execution_count": 3,
   "metadata": {},
   "outputs": [
    {
     "name": "stdout",
     "output_type": "stream",
     "text": [
      "MODEL 0: trustscore_cifar10_vgg16\n"
     ]
    }
   ],
   "source": [
    "models = []\n",
    "for i,m in enumerate(MODELS):\n",
    "    with open(MODELS[m]['config_path'], 'r') as f:\n",
    "        config_args = yaml.load(f)\n",
    "        config_args['model']['feature_dim'] = 512\n",
    "        config_args['data']['data_dir']= os.path.join('..',config_args['data']['data_dir'])\n",
    "             \n",
    "    # Initialize and load model\n",
    "    model = get_model(config_args, device).to(device)\n",
    "    print('MODEL {}: {}'.format(i,config_args['model']['name']))\n",
    "    if 'https' in MODELS[m]['ckpt_path']:\n",
    "        model.load_state_dict(model_zoo.load_url(MODELS[m]['ckpt_path']))\n",
    "    else:\n",
    "        checkpoint = torch.load('{}'.format(MODELS[m]['ckpt_path']))\n",
    "        model.load_state_dict(checkpoint['model_state_dict'])\n",
    "    MODELS[m]['model'] = model"
   ]
  },
  {
   "cell_type": "code",
   "execution_count": 4,
   "metadata": {},
   "outputs": [
    {
     "name": "stderr",
     "output_type": "stream",
     "text": [
      "2019-05-23 18:45:11,952 gpuserver2 loaders.loader[8954] INFO --- Augmentations ---\n",
      "2019-05-23 18:45:11,954 gpuserver2 augmentations[8954] INFO Using No Augmentations\n"
     ]
    },
    {
     "name": "stdout",
     "output_type": "stream",
     "text": [
      "Loading dataset cifar10\n",
      "Augmentations: {'normalize': [[0.4914, 0.4822, 0.4465], [0.2023, 0.1994, 0.201]]}\n",
      "Files already downloaded and verified\n",
      "Files already downloaded and verified\n"
     ]
    },
    {
     "name": "stderr",
     "output_type": "stream",
     "text": [
      "2019-05-23 18:45:14,274 gpuserver2 loaders.loader[8954] WARNING Loading existing train-val split indices\n"
     ]
    }
   ],
   "source": [
    "# Get data loader\n",
    "print('Loading dataset {}'.format(config_args['data']['dataset']))\n",
    "\n",
    "# Set to null augmentations\n",
    "config_args['training']['ft_on_val'] = False\n",
    "config_args['training']['augmentations'] = {key:config_args['training']['augmentations'][key] \n",
    "                                            for key in config_args['training']['augmentations'] \n",
    "                                            if key in ['normalize', 'resize']}\n",
    "print('Augmentations: {}'.format(config_args['training']['augmentations']))\n",
    "\n",
    "dloader = get_loader(config_args)\n",
    "dloader.make_loaders()"
   ]
  },
  {
   "cell_type": "markdown",
   "metadata": {},
   "source": [
    "### Prepare Trust score"
   ]
  },
  {
   "cell_type": "code",
   "execution_count": 23,
   "metadata": {},
   "outputs": [],
   "source": [
    "import torch.nn as nn\n",
    "import torch.nn.functional as F\n",
    "\n",
    "class TrustScoreMNISTConvExtractor(nn.Module):\n",
    "    def __init__(self, config_args, device):\n",
    "        super(TrustScoreMNISTConvExtractor, self).__init__()\n",
    "        self.conv1 = nn.Conv2d(config_args['data']['input_channels'], 32, 3)\n",
    "        self.conv2 = nn.Conv2d(32, 64, 3)\n",
    "        self.maxpool = nn.MaxPool2d(2)\n",
    "        self.dropout1 = nn.Dropout(0.25)\n",
    "        self.fc1 = nn.Linear(9216, 128)\n",
    "        self.dropout2 = nn.Dropout(0.5)\n",
    "\n",
    "    def forward(self, x):\n",
    "        out = F.relu(self.conv1(x))\n",
    "        out = F.relu(self.conv2(out))\n",
    "        out = self.maxpool(out)\n",
    "        out = self.dropout1(out)\n",
    "        out = out.view(out.size(0), -1)\n",
    "        out = F.relu(self.fc1(out))\n",
    "        out = self.dropout2(out)\n",
    "        return out\n",
    "\n",
    "features_extractor = TrustScoreMNISTConvExtractor(config_args,device).to(device)"
   ]
  },
  {
   "cell_type": "code",
   "execution_count": 33,
   "metadata": {},
   "outputs": [],
   "source": [
    "import torch.nn as nn\n",
    "import torch.nn.functional as F\n",
    "\n",
    "class TrustScoreMNISTConvMCDropout(nn.Module):\n",
    "    def __init__(self, config_args, device):\n",
    "        super(TrustScoreMNISTConvMCDropout, self).__init__()\n",
    "        self.conv1 = nn.Conv2d(config_args['data']['input_channels'], 32, 3)\n",
    "        self.conv2 = nn.Conv2d(32, 64, 3)\n",
    "        self.maxpool = nn.MaxPool2d(2)\n",
    "        self.dropout1 = nn.Dropout(0.25)\n",
    "        self.fc1 = nn.Linear(9216, 128)\n",
    "        self.dropout2 = nn.Dropout(0.5)\n",
    "        self.fc2 = nn.Linear(128, config_args['data']['num_classes'])\n",
    "\n",
    "    def forward(self, x):\n",
    "        out = F.relu(self.conv1(x))\n",
    "        out = F.relu(self.conv2(out))\n",
    "        out = self.maxpool(out)\n",
    "        out = F.dropout(out, 0.5, training=True)\n",
    "        out = self.dropout1(out)\n",
    "        out = out.view(out.size(0), -1)\n",
    "        out = F.relu(self.fc1(out))\n",
    "        out = F.dropout(out, 0.5, training=True)\n",
    "        out = self.fc2(out)\n",
    "        return out\n",
    "    \n",
    "mcdropout_model = TrustScoreMNISTConvMCDropout(config_args,device).to(device)\n",
    "mcdropout_model.load_state_dict(MODELS['mnist_baseline']['model'].state_dict(), strict=True)"
   ]
  },
  {
   "cell_type": "code",
   "execution_count": 21,
   "metadata": {},
   "outputs": [],
   "source": [
    "from torch import nn\n",
    "\n",
    "class Conv2dSame(nn.Module):\n",
    "    def __init__(self, in_channels, out_channels, kernel_size, bias=True, padding_layer=nn.ReflectionPad2d):\n",
    "        super().__init__()\n",
    "        ka = kernel_size // 2\n",
    "        kb = ka - 1 if kernel_size % 2 == 0 else ka\n",
    "        self.net = nn.Sequential(\n",
    "            padding_layer((ka,kb,ka,kb)),\n",
    "            nn.Conv2d(in_channels, out_channels, kernel_size, bias=bias)\n",
    "        )\n",
    "    def forward(self, x):\n",
    "        return self.net(x)\n",
    "\n",
    "class TrustScoreSVHNConvExtractor(nn.Module):\n",
    "    def __init__(self, config_args, device):\n",
    "        super(TrustScoreSVHNConvExtractor, self).__init__()\n",
    "        self.conv1 = Conv2dSame(config_args['data']['input_channels'], 32, 3)\n",
    "        self.conv1_bn = nn.BatchNorm2d(32)\n",
    "        self.conv2 = Conv2dSame(32, 32, 3)\n",
    "        self.conv2_bn = nn.BatchNorm2d(32)\n",
    "        self.maxpool1 = nn.MaxPool2d(2)\n",
    "        self.dropout1 = nn.Dropout(0.3)\n",
    "\n",
    "        self.conv3 = Conv2dSame(32, 64, 3)\n",
    "        self.conv3_bn = nn.BatchNorm2d(64)\n",
    "        self.conv4 = Conv2dSame(64, 64, 3)\n",
    "        self.conv4_bn = nn.BatchNorm2d(64)\n",
    "        self.maxpool2 = nn.MaxPool2d(2)\n",
    "        self.dropout2 = nn.Dropout(0.3)\n",
    "\n",
    "        self.conv5 = Conv2dSame(64, 128, 3)\n",
    "        self.conv5_bn = nn.BatchNorm2d(128)\n",
    "        self.conv6 = Conv2dSame(128, 128, 3)\n",
    "        self.conv6_bn = nn.BatchNorm2d(128)\n",
    "        self.maxpool3 = nn.MaxPool2d(2)\n",
    "        self.dropout3 = nn.Dropout(0.3)\n",
    "\n",
    "        self.fc1 = nn.Linear(2048, 512)\n",
    "        self.dropout4 = nn.Dropout(0.3)\n",
    "\n",
    "    def forward(self, x):\n",
    "        out = F.relu(self.conv1(x))\n",
    "        out = self.conv1_bn(out)\n",
    "        out = F.relu(self.conv2(out))\n",
    "        out = self.conv2_bn(out)\n",
    "        out = self.maxpool1(out)\n",
    "        out = self.dropout1(out)\n",
    "\n",
    "        out = F.relu(self.conv3(out))\n",
    "        out = self.conv3_bn(out)\n",
    "        out = F.relu(self.conv4(out))\n",
    "        out = self.conv4_bn(out)\n",
    "        out = self.maxpool2(out)\n",
    "        out = self.dropout2(out)\n",
    "\n",
    "        out = F.relu(self.conv5(out))\n",
    "        out = self.conv5_bn(out)\n",
    "        out = F.relu(self.conv6(out))\n",
    "        out = self.conv6_bn(out)\n",
    "        out = self.maxpool3(out)\n",
    "        out = self.dropout3(out)\n",
    "\n",
    "        out = out.view(out.size(0), -1)\n",
    "        out = F.relu(self.fc1(out))\n",
    "        out = self.dropout4(out)\n",
    "        return out\n",
    "    \n",
    "features_extractor = TrustScoreSVHNConvExtractor(config_args,device).to(device)"
   ]
  },
  {
   "cell_type": "code",
   "execution_count": 5,
   "metadata": {},
   "outputs": [],
   "source": [
    "from torch import nn\n",
    "from models.segnet import segnetDown2, segnetDown3, segnetUp2, segnetUp3, conv2DBatchNormRelu\n",
    "\n",
    "class SegnetExtractor(nn.Module):\n",
    "    def __init__(self, config_args, device):\n",
    "        super(SegnetExtractor, self).__init__()\n",
    "        self.in_channels = config_args['data']['input_channels']\n",
    "        self.n_classes = config_args['data']['num_classes']\n",
    "        self.is_unpooling = True\n",
    "\n",
    "        self.down1 = segnetDown2(self.in_channels, 64)\n",
    "        self.down2 = segnetDown2(64, 128)\n",
    "        self.down3 = segnetDown3(128, 256)\n",
    "        self.down4 = segnetDown3(256, 512)\n",
    "        self.down5 = segnetDown3(512, 512)\n",
    "\n",
    "        self.up5 = segnetUp3(512, 512)\n",
    "        self.up4 = segnetUp3(512, 256)\n",
    "        self.up3 = segnetUp3(256, 128)\n",
    "        self.up2 = segnetUp2(128, 64)\n",
    "        self.up1 = segnetUp2(64, self.n_classes)\n",
    "        self.unpool = nn.MaxUnpool2d(2, 2)\n",
    "        self.conv1 = conv2DBatchNormRelu(64, 64, 3, 1, 1)\n",
    "\n",
    "    def forward(self, inputs):\n",
    "        down1, indices_1, unpool_shape1 = self.down1(inputs)\n",
    "        down2, indices_2, unpool_shape2 = self.down2(down1)\n",
    "        down3, indices_3, unpool_shape3 = self.down3(down2)\n",
    "        down4, indices_4, unpool_shape4 = self.down4(down3)\n",
    "        down5, indices_5, unpool_shape5 = self.down5(down4)\n",
    "\n",
    "        up5 = self.up5(down5, indices_5, unpool_shape5)\n",
    "        up4 = self.up4(up5, indices_4, unpool_shape4)\n",
    "        up3 = self.up3(up4, indices_3, unpool_shape3)\n",
    "        up2 = self.up2(up3, indices_2, unpool_shape2)\n",
    "        out = self.unpool(up2, indices_1, unpool_shape1)\n",
    "        out = self.conv1(out)\n",
    "        return out\n",
    "    \n",
    "features_extractor = SegnetExtractor(config_args,device).to(device)"
   ]
  },
  {
   "cell_type": "code",
   "execution_count": 6,
   "metadata": {},
   "outputs": [],
   "source": [
    "#features_extractor = torch.nn.Sequential(*(list(MODELS['lenet_baseline']['model'].children())[:-1])).to(device)\n",
    "\n",
    "features_extractor.load_state_dict(MODELS['camvid_baseline']['model'].state_dict(), strict=False)"
   ]
  },
  {
   "cell_type": "code",
   "execution_count": 9,
   "metadata": {
    "scrolled": true
   },
   "outputs": [
    {
     "data": {
      "application/vnd.jupyter.widget-view+json": {
       "model_id": "56a89f9169004274a34c696781b21258",
       "version_major": 2,
       "version_minor": 0
      },
      "text/plain": [
       "HBox(children=(IntProgress(value=0, max=46), HTML(value='')))"
      ]
     },
     "metadata": {},
     "output_type": "display_data"
    },
    {
     "ename": "KeyboardInterrupt",
     "evalue": "",
     "output_type": "error",
     "traceback": [
      "\u001b[0;31m---------------------------------------------------------------------------\u001b[0m",
      "\u001b[0;31mKeyboardInterrupt\u001b[0m                         Traceback (most recent call last)",
      "\u001b[0;32m<ipython-input-9-149e26408584>\u001b[0m in \u001b[0;36m<module>\u001b[0;34m()\u001b[0m\n\u001b[1;32m      6\u001b[0m     \u001b[0;32mfor\u001b[0m \u001b[0mj\u001b[0m\u001b[0;34m,\u001b[0m \u001b[0;34m(\u001b[0m\u001b[0mdata\u001b[0m\u001b[0;34m,\u001b[0m\u001b[0mtarget\u001b[0m\u001b[0;34m)\u001b[0m \u001b[0;32min\u001b[0m \u001b[0menumerate\u001b[0m\u001b[0;34m(\u001b[0m\u001b[0mloop\u001b[0m\u001b[0;34m)\u001b[0m\u001b[0;34m:\u001b[0m\u001b[0;34m\u001b[0m\u001b[0;34m\u001b[0m\u001b[0m\n\u001b[1;32m      7\u001b[0m         \u001b[0mdata\u001b[0m\u001b[0;34m,\u001b[0m \u001b[0mtarget\u001b[0m \u001b[0;34m=\u001b[0m \u001b[0mdata\u001b[0m\u001b[0;34m.\u001b[0m\u001b[0mto\u001b[0m\u001b[0;34m(\u001b[0m\u001b[0mdevice\u001b[0m\u001b[0;34m)\u001b[0m\u001b[0;34m,\u001b[0m \u001b[0mtarget\u001b[0m\u001b[0;34m.\u001b[0m\u001b[0mto\u001b[0m\u001b[0;34m(\u001b[0m\u001b[0mdevice\u001b[0m\u001b[0;34m)\u001b[0m\u001b[0;34m\u001b[0m\u001b[0;34m\u001b[0m\u001b[0m\n\u001b[0;32m----> 8\u001b[0;31m         \u001b[0moutput\u001b[0m \u001b[0;34m=\u001b[0m \u001b[0mfeatures_extractor\u001b[0m\u001b[0;34m(\u001b[0m\u001b[0mdata\u001b[0m\u001b[0;34m)\u001b[0m\u001b[0;34m\u001b[0m\u001b[0;34m\u001b[0m\u001b[0m\n\u001b[0m\u001b[1;32m      9\u001b[0m         \u001b[0;31m#output = F.avg_pool2d(output, 4)\u001b[0m\u001b[0;34m\u001b[0m\u001b[0;34m\u001b[0m\u001b[0;34m\u001b[0m\u001b[0m\n\u001b[1;32m     10\u001b[0m         \u001b[0;31m#output = data\u001b[0m\u001b[0;34m\u001b[0m\u001b[0;34m\u001b[0m\u001b[0;34m\u001b[0m\u001b[0m\n",
      "\u001b[0;32m~/anaconda3/lib/python3.7/site-packages/torch/nn/modules/module.py\u001b[0m in \u001b[0;36m__call__\u001b[0;34m(self, *input, **kwargs)\u001b[0m\n\u001b[1;32m    487\u001b[0m             \u001b[0mresult\u001b[0m \u001b[0;34m=\u001b[0m \u001b[0mself\u001b[0m\u001b[0;34m.\u001b[0m\u001b[0m_slow_forward\u001b[0m\u001b[0;34m(\u001b[0m\u001b[0;34m*\u001b[0m\u001b[0minput\u001b[0m\u001b[0;34m,\u001b[0m \u001b[0;34m**\u001b[0m\u001b[0mkwargs\u001b[0m\u001b[0;34m)\u001b[0m\u001b[0;34m\u001b[0m\u001b[0;34m\u001b[0m\u001b[0m\n\u001b[1;32m    488\u001b[0m         \u001b[0;32melse\u001b[0m\u001b[0;34m:\u001b[0m\u001b[0;34m\u001b[0m\u001b[0;34m\u001b[0m\u001b[0m\n\u001b[0;32m--> 489\u001b[0;31m             \u001b[0mresult\u001b[0m \u001b[0;34m=\u001b[0m \u001b[0mself\u001b[0m\u001b[0;34m.\u001b[0m\u001b[0mforward\u001b[0m\u001b[0;34m(\u001b[0m\u001b[0;34m*\u001b[0m\u001b[0minput\u001b[0m\u001b[0;34m,\u001b[0m \u001b[0;34m**\u001b[0m\u001b[0mkwargs\u001b[0m\u001b[0;34m)\u001b[0m\u001b[0;34m\u001b[0m\u001b[0;34m\u001b[0m\u001b[0m\n\u001b[0m\u001b[1;32m    490\u001b[0m         \u001b[0;32mfor\u001b[0m \u001b[0mhook\u001b[0m \u001b[0;32min\u001b[0m \u001b[0mself\u001b[0m\u001b[0;34m.\u001b[0m\u001b[0m_forward_hooks\u001b[0m\u001b[0;34m.\u001b[0m\u001b[0mvalues\u001b[0m\u001b[0;34m(\u001b[0m\u001b[0;34m)\u001b[0m\u001b[0;34m:\u001b[0m\u001b[0;34m\u001b[0m\u001b[0;34m\u001b[0m\u001b[0m\n\u001b[1;32m    491\u001b[0m             \u001b[0mhook_result\u001b[0m \u001b[0;34m=\u001b[0m \u001b[0mhook\u001b[0m\u001b[0;34m(\u001b[0m\u001b[0mself\u001b[0m\u001b[0;34m,\u001b[0m \u001b[0minput\u001b[0m\u001b[0;34m,\u001b[0m \u001b[0mresult\u001b[0m\u001b[0;34m)\u001b[0m\u001b[0;34m\u001b[0m\u001b[0;34m\u001b[0m\u001b[0m\n",
      "\u001b[0;32m<ipython-input-5-1f02aaec6be9>\u001b[0m in \u001b[0;36mforward\u001b[0;34m(self, inputs)\u001b[0m\n\u001b[1;32m     24\u001b[0m \u001b[0;34m\u001b[0m\u001b[0m\n\u001b[1;32m     25\u001b[0m     \u001b[0;32mdef\u001b[0m \u001b[0mforward\u001b[0m\u001b[0;34m(\u001b[0m\u001b[0mself\u001b[0m\u001b[0;34m,\u001b[0m \u001b[0minputs\u001b[0m\u001b[0;34m)\u001b[0m\u001b[0;34m:\u001b[0m\u001b[0;34m\u001b[0m\u001b[0;34m\u001b[0m\u001b[0m\n\u001b[0;32m---> 26\u001b[0;31m         \u001b[0mdown1\u001b[0m\u001b[0;34m,\u001b[0m \u001b[0mindices_1\u001b[0m\u001b[0;34m,\u001b[0m \u001b[0munpool_shape1\u001b[0m \u001b[0;34m=\u001b[0m \u001b[0mself\u001b[0m\u001b[0;34m.\u001b[0m\u001b[0mdown1\u001b[0m\u001b[0;34m(\u001b[0m\u001b[0minputs\u001b[0m\u001b[0;34m)\u001b[0m\u001b[0;34m\u001b[0m\u001b[0;34m\u001b[0m\u001b[0m\n\u001b[0m\u001b[1;32m     27\u001b[0m         \u001b[0mdown2\u001b[0m\u001b[0;34m,\u001b[0m \u001b[0mindices_2\u001b[0m\u001b[0;34m,\u001b[0m \u001b[0munpool_shape2\u001b[0m \u001b[0;34m=\u001b[0m \u001b[0mself\u001b[0m\u001b[0;34m.\u001b[0m\u001b[0mdown2\u001b[0m\u001b[0;34m(\u001b[0m\u001b[0mdown1\u001b[0m\u001b[0;34m)\u001b[0m\u001b[0;34m\u001b[0m\u001b[0;34m\u001b[0m\u001b[0m\n\u001b[1;32m     28\u001b[0m         \u001b[0mdown3\u001b[0m\u001b[0;34m,\u001b[0m \u001b[0mindices_3\u001b[0m\u001b[0;34m,\u001b[0m \u001b[0munpool_shape3\u001b[0m \u001b[0;34m=\u001b[0m \u001b[0mself\u001b[0m\u001b[0;34m.\u001b[0m\u001b[0mdown3\u001b[0m\u001b[0;34m(\u001b[0m\u001b[0mdown2\u001b[0m\u001b[0;34m)\u001b[0m\u001b[0;34m\u001b[0m\u001b[0;34m\u001b[0m\u001b[0m\n",
      "\u001b[0;32m~/anaconda3/lib/python3.7/site-packages/torch/nn/modules/module.py\u001b[0m in \u001b[0;36m__call__\u001b[0;34m(self, *input, **kwargs)\u001b[0m\n\u001b[1;32m    487\u001b[0m             \u001b[0mresult\u001b[0m \u001b[0;34m=\u001b[0m \u001b[0mself\u001b[0m\u001b[0;34m.\u001b[0m\u001b[0m_slow_forward\u001b[0m\u001b[0;34m(\u001b[0m\u001b[0;34m*\u001b[0m\u001b[0minput\u001b[0m\u001b[0;34m,\u001b[0m \u001b[0;34m**\u001b[0m\u001b[0mkwargs\u001b[0m\u001b[0;34m)\u001b[0m\u001b[0;34m\u001b[0m\u001b[0;34m\u001b[0m\u001b[0m\n\u001b[1;32m    488\u001b[0m         \u001b[0;32melse\u001b[0m\u001b[0;34m:\u001b[0m\u001b[0;34m\u001b[0m\u001b[0;34m\u001b[0m\u001b[0m\n\u001b[0;32m--> 489\u001b[0;31m             \u001b[0mresult\u001b[0m \u001b[0;34m=\u001b[0m \u001b[0mself\u001b[0m\u001b[0;34m.\u001b[0m\u001b[0mforward\u001b[0m\u001b[0;34m(\u001b[0m\u001b[0;34m*\u001b[0m\u001b[0minput\u001b[0m\u001b[0;34m,\u001b[0m \u001b[0;34m**\u001b[0m\u001b[0mkwargs\u001b[0m\u001b[0;34m)\u001b[0m\u001b[0;34m\u001b[0m\u001b[0;34m\u001b[0m\u001b[0m\n\u001b[0m\u001b[1;32m    490\u001b[0m         \u001b[0;32mfor\u001b[0m \u001b[0mhook\u001b[0m \u001b[0;32min\u001b[0m \u001b[0mself\u001b[0m\u001b[0;34m.\u001b[0m\u001b[0m_forward_hooks\u001b[0m\u001b[0;34m.\u001b[0m\u001b[0mvalues\u001b[0m\u001b[0;34m(\u001b[0m\u001b[0;34m)\u001b[0m\u001b[0;34m:\u001b[0m\u001b[0;34m\u001b[0m\u001b[0;34m\u001b[0m\u001b[0m\n\u001b[1;32m    491\u001b[0m             \u001b[0mhook_result\u001b[0m \u001b[0;34m=\u001b[0m \u001b[0mhook\u001b[0m\u001b[0;34m(\u001b[0m\u001b[0mself\u001b[0m\u001b[0;34m,\u001b[0m \u001b[0minput\u001b[0m\u001b[0;34m,\u001b[0m \u001b[0mresult\u001b[0m\u001b[0;34m)\u001b[0m\u001b[0;34m\u001b[0m\u001b[0;34m\u001b[0m\u001b[0m\n",
      "\u001b[0;32m~/charles-work/code/bayesian-nn/models/segnet.py\u001b[0m in \u001b[0;36mforward\u001b[0;34m(self, inputs)\u001b[0m\n\u001b[1;32m     47\u001b[0m     \u001b[0;32mdef\u001b[0m \u001b[0mforward\u001b[0m\u001b[0;34m(\u001b[0m\u001b[0mself\u001b[0m\u001b[0;34m,\u001b[0m \u001b[0minputs\u001b[0m\u001b[0;34m)\u001b[0m\u001b[0;34m:\u001b[0m\u001b[0;34m\u001b[0m\u001b[0;34m\u001b[0m\u001b[0m\n\u001b[1;32m     48\u001b[0m         \u001b[0moutputs\u001b[0m \u001b[0;34m=\u001b[0m \u001b[0mself\u001b[0m\u001b[0;34m.\u001b[0m\u001b[0mconv1\u001b[0m\u001b[0;34m(\u001b[0m\u001b[0minputs\u001b[0m\u001b[0;34m)\u001b[0m\u001b[0;34m\u001b[0m\u001b[0;34m\u001b[0m\u001b[0m\n\u001b[0;32m---> 49\u001b[0;31m         \u001b[0moutputs\u001b[0m \u001b[0;34m=\u001b[0m \u001b[0mself\u001b[0m\u001b[0;34m.\u001b[0m\u001b[0mconv2\u001b[0m\u001b[0;34m(\u001b[0m\u001b[0moutputs\u001b[0m\u001b[0;34m)\u001b[0m\u001b[0;34m\u001b[0m\u001b[0;34m\u001b[0m\u001b[0m\n\u001b[0m\u001b[1;32m     50\u001b[0m         \u001b[0munpooled_shape\u001b[0m \u001b[0;34m=\u001b[0m \u001b[0moutputs\u001b[0m\u001b[0;34m.\u001b[0m\u001b[0msize\u001b[0m\u001b[0;34m(\u001b[0m\u001b[0;34m)\u001b[0m\u001b[0;34m\u001b[0m\u001b[0;34m\u001b[0m\u001b[0m\n\u001b[1;32m     51\u001b[0m         \u001b[0moutputs\u001b[0m\u001b[0;34m,\u001b[0m \u001b[0mindices\u001b[0m \u001b[0;34m=\u001b[0m \u001b[0mself\u001b[0m\u001b[0;34m.\u001b[0m\u001b[0mmaxpool_with_argmax\u001b[0m\u001b[0;34m(\u001b[0m\u001b[0moutputs\u001b[0m\u001b[0;34m)\u001b[0m\u001b[0;34m\u001b[0m\u001b[0;34m\u001b[0m\u001b[0m\n",
      "\u001b[0;32m~/anaconda3/lib/python3.7/site-packages/torch/nn/modules/module.py\u001b[0m in \u001b[0;36m__call__\u001b[0;34m(self, *input, **kwargs)\u001b[0m\n\u001b[1;32m    487\u001b[0m             \u001b[0mresult\u001b[0m \u001b[0;34m=\u001b[0m \u001b[0mself\u001b[0m\u001b[0;34m.\u001b[0m\u001b[0m_slow_forward\u001b[0m\u001b[0;34m(\u001b[0m\u001b[0;34m*\u001b[0m\u001b[0minput\u001b[0m\u001b[0;34m,\u001b[0m \u001b[0;34m**\u001b[0m\u001b[0mkwargs\u001b[0m\u001b[0;34m)\u001b[0m\u001b[0;34m\u001b[0m\u001b[0;34m\u001b[0m\u001b[0m\n\u001b[1;32m    488\u001b[0m         \u001b[0;32melse\u001b[0m\u001b[0;34m:\u001b[0m\u001b[0;34m\u001b[0m\u001b[0;34m\u001b[0m\u001b[0m\n\u001b[0;32m--> 489\u001b[0;31m             \u001b[0mresult\u001b[0m \u001b[0;34m=\u001b[0m \u001b[0mself\u001b[0m\u001b[0;34m.\u001b[0m\u001b[0mforward\u001b[0m\u001b[0;34m(\u001b[0m\u001b[0;34m*\u001b[0m\u001b[0minput\u001b[0m\u001b[0;34m,\u001b[0m \u001b[0;34m**\u001b[0m\u001b[0mkwargs\u001b[0m\u001b[0;34m)\u001b[0m\u001b[0;34m\u001b[0m\u001b[0;34m\u001b[0m\u001b[0m\n\u001b[0m\u001b[1;32m    490\u001b[0m         \u001b[0;32mfor\u001b[0m \u001b[0mhook\u001b[0m \u001b[0;32min\u001b[0m \u001b[0mself\u001b[0m\u001b[0;34m.\u001b[0m\u001b[0m_forward_hooks\u001b[0m\u001b[0;34m.\u001b[0m\u001b[0mvalues\u001b[0m\u001b[0;34m(\u001b[0m\u001b[0;34m)\u001b[0m\u001b[0;34m:\u001b[0m\u001b[0;34m\u001b[0m\u001b[0;34m\u001b[0m\u001b[0m\n\u001b[1;32m    491\u001b[0m             \u001b[0mhook_result\u001b[0m \u001b[0;34m=\u001b[0m \u001b[0mhook\u001b[0m\u001b[0;34m(\u001b[0m\u001b[0mself\u001b[0m\u001b[0;34m,\u001b[0m \u001b[0minput\u001b[0m\u001b[0;34m,\u001b[0m \u001b[0mresult\u001b[0m\u001b[0;34m)\u001b[0m\u001b[0;34m\u001b[0m\u001b[0;34m\u001b[0m\u001b[0m\n",
      "\u001b[0;32m~/charles-work/code/bayesian-nn/models/segnet.py\u001b[0m in \u001b[0;36mforward\u001b[0;34m(self, inputs)\u001b[0m\n\u001b[1;32m     35\u001b[0m \u001b[0;34m\u001b[0m\u001b[0m\n\u001b[1;32m     36\u001b[0m     \u001b[0;32mdef\u001b[0m \u001b[0mforward\u001b[0m\u001b[0;34m(\u001b[0m\u001b[0mself\u001b[0m\u001b[0;34m,\u001b[0m \u001b[0minputs\u001b[0m\u001b[0;34m)\u001b[0m\u001b[0;34m:\u001b[0m\u001b[0;34m\u001b[0m\u001b[0;34m\u001b[0m\u001b[0m\n\u001b[0;32m---> 37\u001b[0;31m         \u001b[0moutputs\u001b[0m \u001b[0;34m=\u001b[0m \u001b[0mself\u001b[0m\u001b[0;34m.\u001b[0m\u001b[0mcbr_unit\u001b[0m\u001b[0;34m(\u001b[0m\u001b[0minputs\u001b[0m\u001b[0;34m)\u001b[0m\u001b[0;34m\u001b[0m\u001b[0;34m\u001b[0m\u001b[0m\n\u001b[0m\u001b[1;32m     38\u001b[0m         \u001b[0;32mreturn\u001b[0m \u001b[0moutputs\u001b[0m\u001b[0;34m\u001b[0m\u001b[0;34m\u001b[0m\u001b[0m\n\u001b[1;32m     39\u001b[0m \u001b[0;34m\u001b[0m\u001b[0m\n",
      "\u001b[0;32m~/anaconda3/lib/python3.7/site-packages/torch/nn/modules/module.py\u001b[0m in \u001b[0;36m__call__\u001b[0;34m(self, *input, **kwargs)\u001b[0m\n\u001b[1;32m    487\u001b[0m             \u001b[0mresult\u001b[0m \u001b[0;34m=\u001b[0m \u001b[0mself\u001b[0m\u001b[0;34m.\u001b[0m\u001b[0m_slow_forward\u001b[0m\u001b[0;34m(\u001b[0m\u001b[0;34m*\u001b[0m\u001b[0minput\u001b[0m\u001b[0;34m,\u001b[0m \u001b[0;34m**\u001b[0m\u001b[0mkwargs\u001b[0m\u001b[0;34m)\u001b[0m\u001b[0;34m\u001b[0m\u001b[0;34m\u001b[0m\u001b[0m\n\u001b[1;32m    488\u001b[0m         \u001b[0;32melse\u001b[0m\u001b[0;34m:\u001b[0m\u001b[0;34m\u001b[0m\u001b[0;34m\u001b[0m\u001b[0m\n\u001b[0;32m--> 489\u001b[0;31m             \u001b[0mresult\u001b[0m \u001b[0;34m=\u001b[0m \u001b[0mself\u001b[0m\u001b[0;34m.\u001b[0m\u001b[0mforward\u001b[0m\u001b[0;34m(\u001b[0m\u001b[0;34m*\u001b[0m\u001b[0minput\u001b[0m\u001b[0;34m,\u001b[0m \u001b[0;34m**\u001b[0m\u001b[0mkwargs\u001b[0m\u001b[0;34m)\u001b[0m\u001b[0;34m\u001b[0m\u001b[0;34m\u001b[0m\u001b[0m\n\u001b[0m\u001b[1;32m    490\u001b[0m         \u001b[0;32mfor\u001b[0m \u001b[0mhook\u001b[0m \u001b[0;32min\u001b[0m \u001b[0mself\u001b[0m\u001b[0;34m.\u001b[0m\u001b[0m_forward_hooks\u001b[0m\u001b[0;34m.\u001b[0m\u001b[0mvalues\u001b[0m\u001b[0;34m(\u001b[0m\u001b[0;34m)\u001b[0m\u001b[0;34m:\u001b[0m\u001b[0;34m\u001b[0m\u001b[0;34m\u001b[0m\u001b[0m\n\u001b[1;32m    491\u001b[0m             \u001b[0mhook_result\u001b[0m \u001b[0;34m=\u001b[0m \u001b[0mhook\u001b[0m\u001b[0;34m(\u001b[0m\u001b[0mself\u001b[0m\u001b[0;34m,\u001b[0m \u001b[0minput\u001b[0m\u001b[0;34m,\u001b[0m \u001b[0mresult\u001b[0m\u001b[0;34m)\u001b[0m\u001b[0;34m\u001b[0m\u001b[0;34m\u001b[0m\u001b[0m\n",
      "\u001b[0;32m~/anaconda3/lib/python3.7/site-packages/torch/nn/modules/container.py\u001b[0m in \u001b[0;36mforward\u001b[0;34m(self, input)\u001b[0m\n\u001b[1;32m     90\u001b[0m     \u001b[0;32mdef\u001b[0m \u001b[0mforward\u001b[0m\u001b[0;34m(\u001b[0m\u001b[0mself\u001b[0m\u001b[0;34m,\u001b[0m \u001b[0minput\u001b[0m\u001b[0;34m)\u001b[0m\u001b[0;34m:\u001b[0m\u001b[0;34m\u001b[0m\u001b[0;34m\u001b[0m\u001b[0m\n\u001b[1;32m     91\u001b[0m         \u001b[0;32mfor\u001b[0m \u001b[0mmodule\u001b[0m \u001b[0;32min\u001b[0m \u001b[0mself\u001b[0m\u001b[0;34m.\u001b[0m\u001b[0m_modules\u001b[0m\u001b[0;34m.\u001b[0m\u001b[0mvalues\u001b[0m\u001b[0;34m(\u001b[0m\u001b[0;34m)\u001b[0m\u001b[0;34m:\u001b[0m\u001b[0;34m\u001b[0m\u001b[0;34m\u001b[0m\u001b[0m\n\u001b[0;32m---> 92\u001b[0;31m             \u001b[0minput\u001b[0m \u001b[0;34m=\u001b[0m \u001b[0mmodule\u001b[0m\u001b[0;34m(\u001b[0m\u001b[0minput\u001b[0m\u001b[0;34m)\u001b[0m\u001b[0;34m\u001b[0m\u001b[0;34m\u001b[0m\u001b[0m\n\u001b[0m\u001b[1;32m     93\u001b[0m         \u001b[0;32mreturn\u001b[0m \u001b[0minput\u001b[0m\u001b[0;34m\u001b[0m\u001b[0;34m\u001b[0m\u001b[0m\n\u001b[1;32m     94\u001b[0m \u001b[0;34m\u001b[0m\u001b[0m\n",
      "\u001b[0;32m~/anaconda3/lib/python3.7/site-packages/torch/nn/modules/module.py\u001b[0m in \u001b[0;36m__call__\u001b[0;34m(self, *input, **kwargs)\u001b[0m\n\u001b[1;32m    487\u001b[0m             \u001b[0mresult\u001b[0m \u001b[0;34m=\u001b[0m \u001b[0mself\u001b[0m\u001b[0;34m.\u001b[0m\u001b[0m_slow_forward\u001b[0m\u001b[0;34m(\u001b[0m\u001b[0;34m*\u001b[0m\u001b[0minput\u001b[0m\u001b[0;34m,\u001b[0m \u001b[0;34m**\u001b[0m\u001b[0mkwargs\u001b[0m\u001b[0;34m)\u001b[0m\u001b[0;34m\u001b[0m\u001b[0;34m\u001b[0m\u001b[0m\n\u001b[1;32m    488\u001b[0m         \u001b[0;32melse\u001b[0m\u001b[0;34m:\u001b[0m\u001b[0;34m\u001b[0m\u001b[0;34m\u001b[0m\u001b[0m\n\u001b[0;32m--> 489\u001b[0;31m             \u001b[0mresult\u001b[0m \u001b[0;34m=\u001b[0m \u001b[0mself\u001b[0m\u001b[0;34m.\u001b[0m\u001b[0mforward\u001b[0m\u001b[0;34m(\u001b[0m\u001b[0;34m*\u001b[0m\u001b[0minput\u001b[0m\u001b[0;34m,\u001b[0m \u001b[0;34m**\u001b[0m\u001b[0mkwargs\u001b[0m\u001b[0;34m)\u001b[0m\u001b[0;34m\u001b[0m\u001b[0;34m\u001b[0m\u001b[0m\n\u001b[0m\u001b[1;32m    490\u001b[0m         \u001b[0;32mfor\u001b[0m \u001b[0mhook\u001b[0m \u001b[0;32min\u001b[0m \u001b[0mself\u001b[0m\u001b[0;34m.\u001b[0m\u001b[0m_forward_hooks\u001b[0m\u001b[0;34m.\u001b[0m\u001b[0mvalues\u001b[0m\u001b[0;34m(\u001b[0m\u001b[0;34m)\u001b[0m\u001b[0;34m:\u001b[0m\u001b[0;34m\u001b[0m\u001b[0;34m\u001b[0m\u001b[0m\n\u001b[1;32m    491\u001b[0m             \u001b[0mhook_result\u001b[0m \u001b[0;34m=\u001b[0m \u001b[0mhook\u001b[0m\u001b[0;34m(\u001b[0m\u001b[0mself\u001b[0m\u001b[0;34m,\u001b[0m \u001b[0minput\u001b[0m\u001b[0;34m,\u001b[0m \u001b[0mresult\u001b[0m\u001b[0;34m)\u001b[0m\u001b[0;34m\u001b[0m\u001b[0;34m\u001b[0m\u001b[0m\n",
      "\u001b[0;32m~/anaconda3/lib/python3.7/site-packages/torch/nn/modules/batchnorm.py\u001b[0m in \u001b[0;36mforward\u001b[0;34m(self, input)\u001b[0m\n\u001b[1;32m     74\u001b[0m             \u001b[0minput\u001b[0m\u001b[0;34m,\u001b[0m \u001b[0mself\u001b[0m\u001b[0;34m.\u001b[0m\u001b[0mrunning_mean\u001b[0m\u001b[0;34m,\u001b[0m \u001b[0mself\u001b[0m\u001b[0;34m.\u001b[0m\u001b[0mrunning_var\u001b[0m\u001b[0;34m,\u001b[0m \u001b[0mself\u001b[0m\u001b[0;34m.\u001b[0m\u001b[0mweight\u001b[0m\u001b[0;34m,\u001b[0m \u001b[0mself\u001b[0m\u001b[0;34m.\u001b[0m\u001b[0mbias\u001b[0m\u001b[0;34m,\u001b[0m\u001b[0;34m\u001b[0m\u001b[0;34m\u001b[0m\u001b[0m\n\u001b[1;32m     75\u001b[0m             \u001b[0mself\u001b[0m\u001b[0;34m.\u001b[0m\u001b[0mtraining\u001b[0m \u001b[0;32mor\u001b[0m \u001b[0;32mnot\u001b[0m \u001b[0mself\u001b[0m\u001b[0;34m.\u001b[0m\u001b[0mtrack_running_stats\u001b[0m\u001b[0;34m,\u001b[0m\u001b[0;34m\u001b[0m\u001b[0;34m\u001b[0m\u001b[0m\n\u001b[0;32m---> 76\u001b[0;31m             exponential_average_factor, self.eps)\n\u001b[0m\u001b[1;32m     77\u001b[0m \u001b[0;34m\u001b[0m\u001b[0m\n\u001b[1;32m     78\u001b[0m     \u001b[0;32mdef\u001b[0m \u001b[0mextra_repr\u001b[0m\u001b[0;34m(\u001b[0m\u001b[0mself\u001b[0m\u001b[0;34m)\u001b[0m\u001b[0;34m:\u001b[0m\u001b[0;34m\u001b[0m\u001b[0;34m\u001b[0m\u001b[0m\n",
      "\u001b[0;32m~/anaconda3/lib/python3.7/site-packages/torch/nn/functional.py\u001b[0m in \u001b[0;36mbatch_norm\u001b[0;34m(input, running_mean, running_var, weight, bias, training, momentum, eps)\u001b[0m\n\u001b[1;32m   1621\u001b[0m     return torch.batch_norm(\n\u001b[1;32m   1622\u001b[0m         \u001b[0minput\u001b[0m\u001b[0;34m,\u001b[0m \u001b[0mweight\u001b[0m\u001b[0;34m,\u001b[0m \u001b[0mbias\u001b[0m\u001b[0;34m,\u001b[0m \u001b[0mrunning_mean\u001b[0m\u001b[0;34m,\u001b[0m \u001b[0mrunning_var\u001b[0m\u001b[0;34m,\u001b[0m\u001b[0;34m\u001b[0m\u001b[0;34m\u001b[0m\u001b[0m\n\u001b[0;32m-> 1623\u001b[0;31m         \u001b[0mtraining\u001b[0m\u001b[0;34m,\u001b[0m \u001b[0mmomentum\u001b[0m\u001b[0;34m,\u001b[0m \u001b[0meps\u001b[0m\u001b[0;34m,\u001b[0m \u001b[0mtorch\u001b[0m\u001b[0;34m.\u001b[0m\u001b[0mbackends\u001b[0m\u001b[0;34m.\u001b[0m\u001b[0mcudnn\u001b[0m\u001b[0;34m.\u001b[0m\u001b[0menabled\u001b[0m\u001b[0;34m\u001b[0m\u001b[0;34m\u001b[0m\u001b[0m\n\u001b[0m\u001b[1;32m   1624\u001b[0m     )\n\u001b[1;32m   1625\u001b[0m \u001b[0;34m\u001b[0m\u001b[0m\n",
      "\u001b[0;31mKeyboardInterrupt\u001b[0m: "
     ]
    }
   ],
   "source": [
    "features_extractor.eval()\n",
    "train_features = []\n",
    "train_target = []\n",
    "with torch.no_grad():\n",
    "    loop = tqdm(dloader.train_loader)\n",
    "    for j, (data,target) in enumerate(loop):\n",
    "        data, target = data.to(device), target.to(device)\n",
    "        output = features_extractor(data)\n",
    "        #output = F.avg_pool2d(output, 4)\n",
    "        #output = data\n",
    "        output = output.view(output.size(0), -1)\n",
    "        train_features.append(output.detach().cpu().numpy)\n",
    "        train_target.append(target.detach().cpu().numpy)\n",
    "train_features = torch.cat(train_features)\n",
    "train_target = torch.cat(train_target)"
   ]
  },
  {
   "cell_type": "code",
   "execution_count": 26,
   "metadata": {},
   "outputs": [],
   "source": [
    "trust_model = trust_scores.TrustScore(num_workers=config_args['data']['num_classes'])\n",
    "trust_model.fit(train_features, train_target)"
   ]
  },
  {
   "cell_type": "markdown",
   "metadata": {},
   "source": [
    "## Compute predictions to get scores"
   ]
  },
  {
   "cell_type": "code",
   "execution_count": 8,
   "metadata": {},
   "outputs": [],
   "source": [
    "def predict_test_set(model, mode='normal', verbose=True):\n",
    "    loss, accuracy = 0,0\n",
    "    model.eval()\n",
    "    accurate, errors, proba_pred = [], [], []\n",
    "    test_features, test_pred = [], []\n",
    "    \n",
    "    with torch.no_grad():\n",
    "        loop = tqdm(dloader.test_loader, disable=not verbose)\n",
    "        for j, (data,target) in enumerate(loop):\n",
    "            data, target = data.to(device), target.to(device)\n",
    "            if mode=='normal':\n",
    "                output = model(data)\n",
    "                if isinstance(output,tuple):\n",
    "                    output = output[0]\n",
    "                confidence, pred = F.softmax(output, dim=1).max(dim=1, keepdim=True)\n",
    "            elif mode=='gt':\n",
    "                output = model(data)\n",
    "                if isinstance(output,tuple):\n",
    "                    output = output[0]\n",
    "                output = F.softmax(output, dim=1)\n",
    "                pred = output.argmax(dim=1, keepdim=True)\n",
    "                labels_hot = utils.one_hot_embedding(target,config_args['data']['num_classes']).to(device)\n",
    "                #labels_hot = labels_hot.squeeze(dim=1).permute(0,3,1,2)\n",
    "                confidence, _ = (labels_hot*output).max(dim=1, keepdim=True)\n",
    "            elif mode=='trust_score':\n",
    "                output = model(data)\n",
    "                #if isinstance(output,tuple):\n",
    "                #    output = output[0]\n",
    "                #output = F.softmax(output, dim=1)\n",
    "                pred = output.argmax(dim=1, keepdim=True)\n",
    "                features = features_extractor(data)\n",
    "                #features = F.avg_pool2d(features, 4)\n",
    "                #features = data\n",
    "                features = features.view(features.size(0), -1)\n",
    "                test_features.append(features)\n",
    "                test_pred.append(pred)\n",
    "            elif mode=='mc_dropout':\n",
    "                outputs = torch.zeros(50, data.shape[0], config_args['data']['num_classes']).to(device)\n",
    "                for i in range(50):\n",
    "                    outputs[i] = model(data)\n",
    "                output = outputs.mean(0)\n",
    "                probs = F.softmax(output, dim=1)\n",
    "                confidence = ((probs*torch.log(probs+1e-9)).sum(dim=1))\n",
    "                pred = probs.max(dim=1, keepdim=True)[1]\n",
    "                \n",
    "            elif mode=='self_confid':\n",
    "                output, confidence = model(data)\n",
    "                pred = output.argmax(dim=1, keepdim=True)\n",
    "                confidence = torch.sigmoid(confidence)\n",
    "            accuracy += pred.eq(target.view_as(pred)).sum()\n",
    "            accurate.extend(pred.eq(target.view_as(pred)))\n",
    "            errors.extend(pred!=target.view_as(pred))\n",
    "            if not mode=='trust_score':\n",
    "                proba_pred.extend(confidence)  \n",
    "\n",
    "    if mode=='trust_score':\n",
    "        test_features = torch.cat(test_features).detach().to('cpu').numpy()\n",
    "        test_pred = torch.cat(test_pred).squeeze().detach().to('cpu').numpy()\n",
    "        proba_pred = trust_model.get_score(test_features, test_pred)\n",
    "    else:\n",
    "        proba_pred = torch.stack(proba_pred).detach().to('cpu').numpy()   \n",
    "    accurate = torch.cat(accurate).detach().to('cpu').numpy()\n",
    "    errors = torch.cat(errors).detach().to('cpu').numpy()\n",
    "    \n",
    "    #len_test_set = len(dloader.test_loader.dataset) * dloader.test_loader.dataset[0][0].shape[1] *  dloader.test_loader.dataset[0][0].shape[2]\n",
    "    len_test_set = len(dloader.test_loader.dataset)\n",
    "    accuracy = accuracy.item() / float(len_test_set)\n",
    "    print('Test set: Accuracy: {}/{} ({:.2f}%)'.format(\n",
    "        int(accuracy*len_test_set), len_test_set, 100*accuracy))\n",
    "        \n",
    "    return accuracy, accurate, errors, proba_pred"
   ]
  },
  {
   "cell_type": "code",
   "execution_count": 9,
   "metadata": {},
   "outputs": [
    {
     "name": "stdout",
     "output_type": "stream",
     "text": [
      "MODEL 0: cifar10_baseline\n"
     ]
    },
    {
     "data": {
      "application/vnd.jupyter.widget-view+json": {
       "model_id": "1119855bfc954a179d1c871cf603ed21",
       "version_major": 2,
       "version_minor": 0
      },
      "text/plain": [
       "HBox(children=(IntProgress(value=0, max=79), HTML(value='')))"
      ]
     },
     "metadata": {},
     "output_type": "display_data"
    },
    {
     "name": "stdout",
     "output_type": "stream",
     "text": [
      "Test set: Accuracy: 9219/10000 (92.19%)\n",
      "-----------------------------------------\n"
     ]
    }
   ],
   "source": [
    "for i,m in enumerate(MODELS):\n",
    "    print('MODEL {}: {}'.format(i,m))\n",
    "    if 'self_confid' in MODELS[m]['mode']:\n",
    "        MODELS[m]['accuracy'], MODELS[m]['accurate_pred'], MODELS[m]['errors_pred'], MODELS[m]['confidence_pred'] = predict_test_set(MODELS[m]['model'], mode='self_confid')\n",
    "    elif 'bayesian' in MODELS[m]['mode']:\n",
    "        MODELS[m]['accuracy'], MODELS[m]['accurate_pred'], MODELS[m]['errors_pred'], MODELS[m]['confidence_pred'] = predict_test_set(MODELS[m]['model'], mode='bayesian')\n",
    "    elif 'heter' in MODELS[m]['mode']:\n",
    "        MODELS[m]['accuracy'], MODELS[m]['accurate_pred'], MODELS[m]['errors_pred'], MODELS[m]['confidence_pred'] = predict_test_set(MODELS[m]['model'], mode='heter')\n",
    "    else:\n",
    "        MODELS[m]['accuracy'], MODELS[m]['accurate_pred'], MODELS[m]['errors_pred'], MODELS[m]['confidence_pred'] = predict_test_set(MODELS[m]['model'], mode='normal')\n",
    "    MODELS[m]['accurate_pred'] = MODELS[m]['accurate_pred'].flatten()\n",
    "    MODELS[m]['errors_pred'] = MODELS[m]['errors_pred'].flatten()\n",
    "    MODELS[m]['confidence_pred'] = MODELS[m]['confidence_pred'].flatten()\n",
    "    MODELS[m]['auc'] = roc_auc_score(MODELS[m]['accurate_pred'], MODELS[m]['confidence_pred'])\n",
    "    MODELS[m]['ap_success'] = average_precision_score(MODELS[m]['accurate_pred'], MODELS[m]['confidence_pred'])\n",
    "    MODELS[m]['ap_errors'] = average_precision_score(MODELS[m]['errors_pred'], -MODELS[m]['confidence_pred'])\n",
    "    print('-----------------------------------------')"
   ]
  },
  {
   "cell_type": "code",
   "execution_count": 10,
   "metadata": {},
   "outputs": [
    {
     "name": "stdout",
     "output_type": "stream",
     "text": [
      "MODEL 0: cifar10_baseline\n"
     ]
    },
    {
     "data": {
      "application/vnd.jupyter.widget-view+json": {
       "model_id": "3ddd92b0aea54625b85139535953b3f5",
       "version_major": 2,
       "version_minor": 0
      },
      "text/plain": [
       "HBox(children=(IntProgress(value=0, max=79), HTML(value='')))"
      ]
     },
     "metadata": {},
     "output_type": "display_data"
    },
    {
     "name": "stdout",
     "output_type": "stream",
     "text": [
      "Test set: Accuracy: 9219/10000 (92.19%)\n"
     ]
    }
   ],
   "source": [
    "for i,m in enumerate(MODELS):\n",
    "    if MODELS[m]['mode']==[]:\n",
    "        print('MODEL {}: {}'.format(i,m))\n",
    "        MODELS[m]['accuracy'], MODELS[m]['accurate_gt'], MODELS[m]['errors_gt'], MODELS[m]['confidence_gt'] = predict_test_set(MODELS[m]['model'], mode='gt')\n",
    "        MODELS[m]['accurate_gt'] = MODELS[m]['accurate_gt'].flatten()\n",
    "        MODELS[m]['errors_gt'] = MODELS[m]['errors_gt'].flatten()\n",
    "        MODELS[m]['confidence_gt'] = MODELS[m]['confidence_gt'].flatten()\n",
    "        MODELS[m]['auc_gt'] = roc_auc_score(MODELS[m]['accurate_gt'], MODELS[m]['confidence_gt'])\n",
    "        MODELS[m]['ap_success_gt'] = average_precision_score(MODELS[m]['accurate_gt'], MODELS[m]['confidence_gt'])\n",
    "        MODELS[m]['ap_errors_gt'] = average_precision_score(MODELS[m]['errors_gt'], -MODELS[m]['confidence_gt'])"
   ]
  },
  {
   "cell_type": "code",
   "execution_count": 105,
   "metadata": {
    "scrolled": false
   },
   "outputs": [
    {
     "data": {
      "application/vnd.jupyter.widget-view+json": {
       "model_id": "b07bc1400be549f68506d01c3b8a3679",
       "version_major": 2,
       "version_minor": 0
      },
      "text/plain": [
       "HBox(children=(IntProgress(value=0, max=79), HTML(value='')))"
      ]
     },
     "metadata": {},
     "output_type": "display_data"
    },
    {
     "name": "stdout",
     "output_type": "stream",
     "text": [
      "Test set: Accuracy: 9908/10000 (99.08%)\n",
      "MCDropout comparison: mnist_baseline \n",
      " AP_success=99.98%, AP_errors=40.92%, AUC=98.54%\n"
     ]
    },
    {
     "data": {
      "application/vnd.jupyter.widget-view+json": {
       "model_id": "eb82b9cb9ba643979b3147dd3595eb54",
       "version_major": 2,
       "version_minor": 0
      },
      "text/plain": [
       "HBox(children=(IntProgress(value=0, max=79), HTML(value='')))"
      ]
     },
     "metadata": {},
     "output_type": "display_data"
    },
    {
     "name": "stdout",
     "output_type": "stream",
     "text": [
      "Test set: Accuracy: 9905/10000 (99.05%)\n",
      "MCDropout comparison: mnist_baseline \n",
      " AP_success=99.98%, AP_errors=41.76%, AUC=98.59%\n"
     ]
    },
    {
     "data": {
      "application/vnd.jupyter.widget-view+json": {
       "model_id": "e41de658906e447f807abc29aec0d250",
       "version_major": 2,
       "version_minor": 0
      },
      "text/plain": [
       "HBox(children=(IntProgress(value=0, max=79), HTML(value='')))"
      ]
     },
     "metadata": {},
     "output_type": "display_data"
    },
    {
     "name": "stdout",
     "output_type": "stream",
     "text": [
      "Test set: Accuracy: 9905/10000 (99.05%)\n",
      "MCDropout comparison: mnist_baseline \n",
      " AP_success=99.98%, AP_errors=41.19%, AUC=98.50%\n"
     ]
    },
    {
     "data": {
      "application/vnd.jupyter.widget-view+json": {
       "model_id": "134d364e86fc42c3bdecf10c16a6f6c3",
       "version_major": 2,
       "version_minor": 0
      },
      "text/plain": [
       "HBox(children=(IntProgress(value=0, max=79), HTML(value='')))"
      ]
     },
     "metadata": {},
     "output_type": "display_data"
    },
    {
     "name": "stdout",
     "output_type": "stream",
     "text": [
      "Test set: Accuracy: 9909/10000 (99.09%)\n",
      "MCDropout comparison: mnist_baseline \n",
      " AP_success=99.98%, AP_errors=42.80%, AUC=98.53%\n"
     ]
    },
    {
     "data": {
      "application/vnd.jupyter.widget-view+json": {
       "model_id": "5fa1b1448e6c40f8afdc85b0e0fb45ed",
       "version_major": 2,
       "version_minor": 0
      },
      "text/plain": [
       "HBox(children=(IntProgress(value=0, max=79), HTML(value='')))"
      ]
     },
     "metadata": {},
     "output_type": "display_data"
    },
    {
     "name": "stdout",
     "output_type": "stream",
     "text": [
      "Test set: Accuracy: 9905/10000 (99.05%)\n",
      "MCDropout comparison: mnist_baseline \n",
      " AP_success=99.98%, AP_errors=45.17%, AUC=98.61%\n"
     ]
    },
    {
     "data": {
      "application/vnd.jupyter.widget-view+json": {
       "model_id": "0a6ae8c3b583490da1444bc018626f40",
       "version_major": 2,
       "version_minor": 0
      },
      "text/plain": [
       "HBox(children=(IntProgress(value=0, max=79), HTML(value='')))"
      ]
     },
     "metadata": {},
     "output_type": "display_data"
    },
    {
     "name": "stdout",
     "output_type": "stream",
     "text": [
      "Test set: Accuracy: 9906/10000 (99.06%)\n",
      "MCDropout comparison: mnist_baseline \n",
      " AP_success=99.98%, AP_errors=40.88%, AUC=98.52%\n"
     ]
    },
    {
     "data": {
      "application/vnd.jupyter.widget-view+json": {
       "model_id": "25a9064355024002bedb350654054cc6",
       "version_major": 2,
       "version_minor": 0
      },
      "text/plain": [
       "HBox(children=(IntProgress(value=0, max=79), HTML(value='')))"
      ]
     },
     "metadata": {},
     "output_type": "display_data"
    },
    {
     "name": "stdout",
     "output_type": "stream",
     "text": [
      "Test set: Accuracy: 9909/10000 (99.09%)\n",
      "MCDropout comparison: mnist_baseline \n",
      " AP_success=99.98%, AP_errors=38.97%, AUC=98.50%\n"
     ]
    },
    {
     "data": {
      "application/vnd.jupyter.widget-view+json": {
       "model_id": "796d201ac869406491257dd858a83425",
       "version_major": 2,
       "version_minor": 0
      },
      "text/plain": [
       "HBox(children=(IntProgress(value=0, max=79), HTML(value='')))"
      ]
     },
     "metadata": {},
     "output_type": "display_data"
    },
    {
     "name": "stdout",
     "output_type": "stream",
     "text": [
      "Test set: Accuracy: 9900/10000 (99.00%)\n",
      "MCDropout comparison: mnist_baseline \n",
      " AP_success=99.98%, AP_errors=44.88%, AUC=98.58%\n"
     ]
    },
    {
     "data": {
      "application/vnd.jupyter.widget-view+json": {
       "model_id": "4f9decfa86b84c34b5e9c0b6722203b0",
       "version_major": 2,
       "version_minor": 0
      },
      "text/plain": [
       "HBox(children=(IntProgress(value=0, max=79), HTML(value='')))"
      ]
     },
     "metadata": {},
     "output_type": "display_data"
    },
    {
     "name": "stdout",
     "output_type": "stream",
     "text": [
      "Test set: Accuracy: 9895/10000 (98.95%)\n",
      "MCDropout comparison: mnist_baseline \n",
      " AP_success=99.98%, AP_errors=48.96%, AUC=98.74%\n"
     ]
    },
    {
     "data": {
      "application/vnd.jupyter.widget-view+json": {
       "model_id": "f3c4368d7c374a2faad9b85c3c83b732",
       "version_major": 2,
       "version_minor": 0
      },
      "text/plain": [
       "HBox(children=(IntProgress(value=0, max=79), HTML(value='')))"
      ]
     },
     "metadata": {},
     "output_type": "display_data"
    },
    {
     "name": "stdout",
     "output_type": "stream",
     "text": [
      "Test set: Accuracy: 9903/10000 (99.03%)\n",
      "MCDropout comparison: mnist_baseline \n",
      " AP_success=99.98%, AP_errors=49.07%, AUC=98.65%\n"
     ]
    }
   ],
   "source": [
    "avg = []\n",
    "for i,m in enumerate(MODELS):\n",
    "    if MODELS[m]['mode']==[]:\n",
    "        for j in range(10):\n",
    "            MODELS[m]['accuracy'], MODELS[m]['accurate_mc'], MODELS[m]['errors_mc'], MODELS[m]['confidence_mc'] = predict_test_set(mcdropout_model, mode='mc_dropout')\n",
    "            MODELS[m]['accurate_mc'] = MODELS[m]['accurate_mc'].flatten()\n",
    "            MODELS[m]['errors_mc'] = MODELS[m]['errors_mc'].flatten()\n",
    "            MODELS[m]['confidence_mc'] = MODELS[m]['confidence_mc'].flatten()\n",
    "            MODELS[m]['auc_mc'] = roc_auc_score(MODELS[m]['accurate_mc'], MODELS[m]['confidence_mc'])\n",
    "            MODELS[m]['ap_success_mc'] = average_precision_score(MODELS[m]['accurate_mc'], MODELS[m]['confidence_mc'])\n",
    "            MODELS[m]['ap_errors_mc'] = average_precision_score(MODELS[m]['errors_mc'], -MODELS[m]['confidence_mc'])\n",
    "            avg.append(MODELS[m]['ap_errors_mc'])\n",
    "            print('MCDropout comparison: {} \\n AP_success={:05.2%}, AP_errors={:05.2%}, AUC={:05.2%}'.format(m, MODELS[m]['ap_success_ts'], MODELS[m]['ap_errors_mc'], MODELS[m]['auc_mc']))"
   ]
  },
  {
   "cell_type": "code",
   "execution_count": 30,
   "metadata": {
    "scrolled": true
   },
   "outputs": [
    {
     "name": "stdout",
     "output_type": "stream",
     "text": [
      "MODEL 0: mnist_baseline\n"
     ]
    },
    {
     "data": {
      "application/vnd.jupyter.widget-view+json": {
       "model_id": "ff038605fce94a2fa979a5ed572bffcf",
       "version_major": 2,
       "version_minor": 0
      },
      "text/plain": [
       "HBox(children=(IntProgress(value=0, max=79), HTML(value='')))"
      ]
     },
     "metadata": {},
     "output_type": "display_data"
    },
    {
     "name": "stderr",
     "output_type": "stream",
     "text": [
      "2019-04-17 10:42:50,616 gpuserver4 utils.trust_scores[31979] WARNING Enabling multiprocessing with 10 workers for computing trust scores\n"
     ]
    },
    {
     "name": "stdout",
     "output_type": "stream",
     "text": [
      "KDTree for label 0 run in 33.67958736419678 secondes\n",
      "KDTree for label 3 run in 33.22660160064697 secondes\n",
      "KDTree for label 6 run in 32.670188665390015 secondes\n",
      "KDTree for label 2 run in 33.918392181396484 secondes\n",
      "KDTree for label 1 run in 35.001474142074585 secondes\n",
      "KDTree for label 9 run in 33.2185583114624 secondes\n",
      "KDTree for label 7 run in 35.04642462730408 secondes\n",
      "KDTree for label 4 run in 36.12913131713867 secondes\n",
      "KDTree for label 5 run in 36.79692053794861 secondes\n",
      "KDTree for label 8 run in 39.64143633842468 secondes\n",
      "Test set: Accuracy: 9911/10000 (99.11%)\n"
     ]
    },
    {
     "name": "stderr",
     "output_type": "stream",
     "text": [
      "Process ForkPoolWorker-69:\n",
      "Process ForkPoolWorker-63:\n",
      "Process ForkPoolWorker-67:\n",
      "Process ForkPoolWorker-70:\n",
      "Process ForkPoolWorker-66:\n",
      "Process ForkPoolWorker-68:\n",
      "Process ForkPoolWorker-64:\n",
      "Process ForkPoolWorker-65:\n",
      "Process ForkPoolWorker-62:\n",
      "Process ForkPoolWorker-71:\n",
      "Traceback (most recent call last):\n",
      "Traceback (most recent call last):\n",
      "Traceback (most recent call last):\n",
      "Traceback (most recent call last):\n",
      "Traceback (most recent call last):\n",
      "Traceback (most recent call last):\n",
      "Traceback (most recent call last):\n",
      "  File \"/etudiants/siscol/c/corbi_c2/anaconda3/lib/python3.7/multiprocessing/process.py\", line 297, in _bootstrap\n",
      "    self.run()\n",
      "  File \"/etudiants/siscol/c/corbi_c2/anaconda3/lib/python3.7/multiprocessing/process.py\", line 297, in _bootstrap\n",
      "    self.run()\n",
      "  File \"/etudiants/siscol/c/corbi_c2/anaconda3/lib/python3.7/multiprocessing/process.py\", line 297, in _bootstrap\n",
      "    self.run()\n",
      "  File \"/etudiants/siscol/c/corbi_c2/anaconda3/lib/python3.7/multiprocessing/process.py\", line 297, in _bootstrap\n",
      "    self.run()\n",
      "Traceback (most recent call last):\n",
      "  File \"/etudiants/siscol/c/corbi_c2/anaconda3/lib/python3.7/multiprocessing/process.py\", line 297, in _bootstrap\n",
      "    self.run()\n",
      "  File \"/etudiants/siscol/c/corbi_c2/anaconda3/lib/python3.7/multiprocessing/process.py\", line 297, in _bootstrap\n",
      "    self.run()\n",
      "  File \"/etudiants/siscol/c/corbi_c2/anaconda3/lib/python3.7/multiprocessing/process.py\", line 297, in _bootstrap\n",
      "    self.run()\n",
      "  File \"/etudiants/siscol/c/corbi_c2/anaconda3/lib/python3.7/multiprocessing/process.py\", line 99, in run\n",
      "    self._target(*self._args, **self._kwargs)\n",
      "  File \"/etudiants/siscol/c/corbi_c2/anaconda3/lib/python3.7/multiprocessing/process.py\", line 99, in run\n",
      "    self._target(*self._args, **self._kwargs)\n",
      "  File \"/etudiants/siscol/c/corbi_c2/anaconda3/lib/python3.7/multiprocessing/process.py\", line 99, in run\n",
      "    self._target(*self._args, **self._kwargs)\n",
      "  File \"/etudiants/siscol/c/corbi_c2/anaconda3/lib/python3.7/multiprocessing/process.py\", line 99, in run\n",
      "    self._target(*self._args, **self._kwargs)\n",
      "  File \"/etudiants/siscol/c/corbi_c2/anaconda3/lib/python3.7/multiprocessing/process.py\", line 99, in run\n",
      "    self._target(*self._args, **self._kwargs)\n",
      "  File \"/etudiants/siscol/c/corbi_c2/anaconda3/lib/python3.7/multiprocessing/process.py\", line 297, in _bootstrap\n",
      "    self.run()\n",
      "  File \"/etudiants/siscol/c/corbi_c2/anaconda3/lib/python3.7/multiprocessing/process.py\", line 99, in run\n",
      "    self._target(*self._args, **self._kwargs)\n",
      "Traceback (most recent call last):\n",
      "  File \"/etudiants/siscol/c/corbi_c2/anaconda3/lib/python3.7/multiprocessing/process.py\", line 99, in run\n",
      "    self._target(*self._args, **self._kwargs)\n",
      "  File \"/etudiants/siscol/c/corbi_c2/anaconda3/lib/python3.7/multiprocessing/pool.py\", line 110, in worker\n",
      "    task = get()\n",
      "  File \"/etudiants/siscol/c/corbi_c2/anaconda3/lib/python3.7/multiprocessing/pool.py\", line 110, in worker\n",
      "    task = get()\n",
      "  File \"/etudiants/siscol/c/corbi_c2/anaconda3/lib/python3.7/multiprocessing/pool.py\", line 110, in worker\n",
      "    task = get()\n",
      "  File \"/etudiants/siscol/c/corbi_c2/anaconda3/lib/python3.7/multiprocessing/pool.py\", line 110, in worker\n",
      "    task = get()\n",
      "  File \"/etudiants/siscol/c/corbi_c2/anaconda3/lib/python3.7/multiprocessing/pool.py\", line 110, in worker\n",
      "    task = get()\n",
      "  File \"/etudiants/siscol/c/corbi_c2/anaconda3/lib/python3.7/multiprocessing/process.py\", line 99, in run\n",
      "    self._target(*self._args, **self._kwargs)\n",
      "  File \"/etudiants/siscol/c/corbi_c2/anaconda3/lib/python3.7/multiprocessing/pool.py\", line 110, in worker\n",
      "    task = get()\n",
      "  File \"/etudiants/siscol/c/corbi_c2/anaconda3/lib/python3.7/multiprocessing/pool.py\", line 110, in worker\n",
      "    task = get()\n",
      "Traceback (most recent call last):\n",
      "  File \"/etudiants/siscol/c/corbi_c2/anaconda3/lib/python3.7/multiprocessing/process.py\", line 297, in _bootstrap\n",
      "    self.run()\n",
      "  File \"/etudiants/siscol/c/corbi_c2/anaconda3/lib/python3.7/multiprocessing/queues.py\", line 351, in get\n",
      "    with self._rlock:\n",
      "  File \"/etudiants/siscol/c/corbi_c2/anaconda3/lib/python3.7/multiprocessing/queues.py\", line 351, in get\n",
      "    with self._rlock:\n",
      "  File \"/etudiants/siscol/c/corbi_c2/anaconda3/lib/python3.7/multiprocessing/queues.py\", line 351, in get\n",
      "    with self._rlock:\n",
      "  File \"/etudiants/siscol/c/corbi_c2/anaconda3/lib/python3.7/multiprocessing/queues.py\", line 351, in get\n",
      "    with self._rlock:\n",
      "  File \"/etudiants/siscol/c/corbi_c2/anaconda3/lib/python3.7/multiprocessing/queues.py\", line 351, in get\n",
      "    with self._rlock:\n",
      "  File \"/etudiants/siscol/c/corbi_c2/anaconda3/lib/python3.7/multiprocessing/pool.py\", line 110, in worker\n",
      "    task = get()\n",
      "  File \"/etudiants/siscol/c/corbi_c2/anaconda3/lib/python3.7/multiprocessing/queues.py\", line 351, in get\n",
      "    with self._rlock:\n",
      "  File \"/etudiants/siscol/c/corbi_c2/anaconda3/lib/python3.7/multiprocessing/queues.py\", line 352, in get\n",
      "    res = self._reader.recv_bytes()\n",
      "  File \"/etudiants/siscol/c/corbi_c2/anaconda3/lib/python3.7/multiprocessing/process.py\", line 297, in _bootstrap\n",
      "    self.run()\n",
      "  File \"/etudiants/siscol/c/corbi_c2/anaconda3/lib/python3.7/multiprocessing/process.py\", line 99, in run\n",
      "    self._target(*self._args, **self._kwargs)\n",
      "  File \"/etudiants/siscol/c/corbi_c2/anaconda3/lib/python3.7/multiprocessing/synchronize.py\", line 95, in __enter__\n",
      "    return self._semlock.__enter__()\n",
      "  File \"/etudiants/siscol/c/corbi_c2/anaconda3/lib/python3.7/multiprocessing/synchronize.py\", line 95, in __enter__\n",
      "    return self._semlock.__enter__()\n",
      "  File \"/etudiants/siscol/c/corbi_c2/anaconda3/lib/python3.7/multiprocessing/synchronize.py\", line 95, in __enter__\n",
      "    return self._semlock.__enter__()\n",
      "  File \"/etudiants/siscol/c/corbi_c2/anaconda3/lib/python3.7/multiprocessing/synchronize.py\", line 95, in __enter__\n",
      "    return self._semlock.__enter__()\n",
      "  File \"/etudiants/siscol/c/corbi_c2/anaconda3/lib/python3.7/multiprocessing/queues.py\", line 351, in get\n",
      "    with self._rlock:\n",
      "  File \"/etudiants/siscol/c/corbi_c2/anaconda3/lib/python3.7/multiprocessing/synchronize.py\", line 95, in __enter__\n",
      "    return self._semlock.__enter__()\n",
      "  File \"/etudiants/siscol/c/corbi_c2/anaconda3/lib/python3.7/multiprocessing/synchronize.py\", line 95, in __enter__\n",
      "    return self._semlock.__enter__()\n",
      "  File \"/etudiants/siscol/c/corbi_c2/anaconda3/lib/python3.7/multiprocessing/connection.py\", line 216, in recv_bytes\n",
      "    buf = self._recv_bytes(maxlength)\n",
      "  File \"/etudiants/siscol/c/corbi_c2/anaconda3/lib/python3.7/multiprocessing/pool.py\", line 110, in worker\n",
      "    task = get()\n",
      "KeyboardInterrupt\n",
      "  File \"/etudiants/siscol/c/corbi_c2/anaconda3/lib/python3.7/multiprocessing/process.py\", line 99, in run\n",
      "    self._target(*self._args, **self._kwargs)\n",
      "KeyboardInterrupt\n",
      "KeyboardInterrupt\n",
      "KeyboardInterrupt\n",
      "  File \"/etudiants/siscol/c/corbi_c2/anaconda3/lib/python3.7/multiprocessing/synchronize.py\", line 95, in __enter__\n",
      "    return self._semlock.__enter__()\n",
      "KeyboardInterrupt\n",
      "KeyboardInterrupt\n",
      "  File \"/etudiants/siscol/c/corbi_c2/anaconda3/lib/python3.7/multiprocessing/queues.py\", line 351, in get\n",
      "    with self._rlock:\n",
      "  File \"/etudiants/siscol/c/corbi_c2/anaconda3/lib/python3.7/multiprocessing/pool.py\", line 110, in worker\n",
      "    task = get()\n",
      "KeyboardInterrupt\n",
      "  File \"/etudiants/siscol/c/corbi_c2/anaconda3/lib/python3.7/multiprocessing/synchronize.py\", line 95, in __enter__\n",
      "    return self._semlock.__enter__()\n",
      "  File \"/etudiants/siscol/c/corbi_c2/anaconda3/lib/python3.7/multiprocessing/queues.py\", line 351, in get\n",
      "    with self._rlock:\n",
      "KeyboardInterrupt\n",
      "  File \"/etudiants/siscol/c/corbi_c2/anaconda3/lib/python3.7/multiprocessing/synchronize.py\", line 95, in __enter__\n",
      "    return self._semlock.__enter__()\n",
      "KeyboardInterrupt\n",
      "  File \"/etudiants/siscol/c/corbi_c2/anaconda3/lib/python3.7/multiprocessing/connection.py\", line 407, in _recv_bytes\n",
      "    buf = self._recv(4)\n",
      "  File \"/etudiants/siscol/c/corbi_c2/anaconda3/lib/python3.7/multiprocessing/connection.py\", line 379, in _recv\n",
      "    chunk = read(handle, remaining)\n",
      "KeyboardInterrupt\n"
     ]
    }
   ],
   "source": [
    "for i,m in enumerate(MODELS):\n",
    "    if MODELS[m]['mode']==[]:\n",
    "        print('MODEL {}: {}'.format(i,m))\n",
    "        MODELS[m]['accuracy'], MODELS[m]['accurate_ts'], MODELS[m]['errors_ts'], MODELS[m]['confidence_ts'] = predict_test_set(MODELS[m]['model'], mode='trust_score')\n",
    "        MODELS[m]['auc_ts'] = roc_auc_score(MODELS[m]['accurate_ts'], MODELS[m]['confidence_ts'])\n",
    "        MODELS[m]['ap_success_ts'] = average_precision_score(MODELS[m]['accurate_ts'], MODELS[m]['confidence_ts'])\n",
    "        MODELS[m]['ap_errors_ts'] = average_precision_score(MODELS[m]['errors_ts'], -MODELS[m]['confidence_ts'])"
   ]
  },
  {
   "cell_type": "code",
   "execution_count": 10,
   "metadata": {},
   "outputs": [],
   "source": [
    "DATASETS_RESULTS = []"
   ]
  },
  {
   "cell_type": "code",
   "execution_count": 74,
   "metadata": {},
   "outputs": [],
   "source": [
    "cifar10 = {'dataset':'cifar10', \n",
    "          'confidence_pred':MODELS[m]['confidence_pred'], \n",
    "          'accurate_pred':MODELS[m]['accurate_pred'],\n",
    "          'confidence_gt':MODELS[m]['confidence_gt'],\n",
    "          'accurate_gt':MODELS[m]['accurate_gt'], \n",
    "           'ap_success': MODELS[m]['ap_success'], \n",
    "           'ap_errors': MODELS[m]['ap_errors'], \n",
    "           'auc': MODELS[m]['auc'],\n",
    "           'ap_success_gt': MODELS[m]['ap_success_gt'], \n",
    "           'ap_errors_gt': MODELS[m]['ap_errors_gt'], \n",
    "           'auc_gt': MODELS[m]['auc_gt']}"
   ]
  },
  {
   "cell_type": "code",
   "execution_count": 97,
   "metadata": {},
   "outputs": [],
   "source": [
    "cifar100 = {'dataset':'cifar100', \n",
    "          'confidence_pred':MODELS[m]['confidence_pred'], \n",
    "          'accurate_pred':MODELS[m]['accurate_pred'],\n",
    "          'confidence_gt':MODELS[m]['confidence_gt'],\n",
    "          'accurate_gt':MODELS[m]['accurate_gt'], \n",
    "           'ap_success': MODELS[m]['ap_success'], \n",
    "           'ap_errors': MODELS[m]['ap_errors'], \n",
    "           'auc': MODELS[m]['auc'],\n",
    "           'ap_success_gt': MODELS[m]['ap_success_gt'], \n",
    "           'ap_errors_gt': MODELS[m]['ap_errors_gt'], \n",
    "           'auc_gt': MODELS[m]['auc_gt']}"
   ]
  },
  {
   "cell_type": "code",
   "execution_count": 112,
   "metadata": {},
   "outputs": [],
   "source": [
    "svhn = {'dataset':'svhn', \n",
    "          'confidence_pred':MODELS[m]['confidence_pred'], \n",
    "          'accurate_pred':MODELS[m]['accurate_pred'],\n",
    "          'confidence_gt':MODELS[m]['confidence_gt'],\n",
    "          'accurate_gt':MODELS[m]['accurate_gt'], \n",
    "           'ap_success': MODELS[m]['ap_success'], \n",
    "           'ap_errors': MODELS[m]['ap_errors'], \n",
    "           'auc': MODELS[m]['auc'],\n",
    "           'ap_success_gt': MODELS[m]['ap_success_gt'], \n",
    "           'ap_errors_gt': MODELS[m]['ap_errors_gt'], \n",
    "           'auc_gt': MODELS[m]['auc_gt']}"
   ]
  },
  {
   "cell_type": "code",
   "execution_count": 129,
   "metadata": {},
   "outputs": [],
   "source": [
    "mlp = {'dataset':'mlp', \n",
    "          'confidence_pred':MODELS[m]['confidence_pred'], \n",
    "          'accurate_pred':MODELS[m]['accurate_pred'],\n",
    "          'confidence_gt':MODELS[m]['confidence_gt'],\n",
    "          'accurate_gt':MODELS[m]['accurate_gt'], \n",
    "           'ap_success': MODELS[m]['ap_success'], \n",
    "           'ap_errors': MODELS[m]['ap_errors'], \n",
    "           'auc': MODELS[m]['auc'],\n",
    "           'ap_success_gt': MODELS[m]['ap_success_gt'], \n",
    "           'ap_errors_gt': MODELS[m]['ap_errors_gt'], \n",
    "           'auc_gt': MODELS[m]['auc_gt']}"
   ]
  },
  {
   "cell_type": "code",
   "execution_count": 120,
   "metadata": {},
   "outputs": [],
   "source": [
    "mnist = {'dataset':'mnist', \n",
    "          'confidence_pred':MODELS[m]['confidence_pred'], \n",
    "          'accurate_pred':MODELS[m]['accurate_pred'],\n",
    "          'confidence_gt':MODELS[m]['confidence_gt'],\n",
    "          'accurate_gt':MODELS[m]['accurate_gt'], \n",
    "           'ap_success': MODELS[m]['ap_success'], \n",
    "           'ap_errors': MODELS[m]['ap_errors'], \n",
    "           'auc': MODELS[m]['auc'],\n",
    "           'ap_success_gt': MODELS[m]['ap_success_gt'], \n",
    "           'ap_errors_gt': MODELS[m]['ap_errors_gt'], \n",
    "           'auc_gt': MODELS[m]['auc_gt']}"
   ]
  },
  {
   "cell_type": "code",
   "execution_count": 9,
   "metadata": {},
   "outputs": [],
   "source": [
    "camvid = {'dataset':'camvid', \n",
    "          'confidence_pred':MODELS[m]['confidence_pred'], \n",
    "          'accurate_pred':MODELS[m]['accurate_pred'],\n",
    "          'confidence_gt':MODELS[m]['confidence_gt'],\n",
    "          'accurate_gt':MODELS[m]['accurate_gt'], \n",
    "           'ap_success': MODELS[m]['ap_success'], \n",
    "           'ap_errors': MODELS[m]['ap_errors'], \n",
    "           'auc': MODELS[m]['auc'],\n",
    "           'ap_success_gt': MODELS[m]['ap_success_gt'], \n",
    "           'ap_errors_gt': MODELS[m]['ap_errors_gt'], \n",
    "           'auc_gt': MODELS[m]['auc_gt']}"
   ]
  },
  {
   "cell_type": "code",
   "execution_count": 12,
   "metadata": {},
   "outputs": [],
   "source": [
    "DATASETS_RESULTS.append(camvid)"
   ]
  },
  {
   "cell_type": "code",
   "execution_count": 13,
   "metadata": {},
   "outputs": [
    {
     "name": "stdout",
     "output_type": "stream",
     "text": [
      "#####################################################\n",
      "camvid\n",
      "--------------------------------\n",
      "Baseline\n",
      "AP_success=96.37%, AP_errors=48.53%, AUC=84.42%\n",
      "Nb errors inférieur à 1/10 : 0\n",
      "Nb errors entre 1/10 et 1/2 : 401573\n",
      "Nb errors supérieur à 1/2 : 5506172\n",
      "Nb success inférieur à 1/10 : 0\n",
      "Nb success entre 1/10 et 1/2 : 188128\n",
      "Nb success supérieur à 1/2 : 34166526\n",
      "--------------------------------\n",
      "TCP\n",
      "AP_success=100.00%, AP_errors=99.92%, AUC=99.99%\n",
      "Nb errors inférieur à 1/10 : 4184875\n",
      "Nb errors entre 1/10 et 1/2 : 1722871\n",
      "Nb errors supérieur à 1/2 : 0\n",
      "Nb success inférieur à 1/10 : 0\n",
      "Nb success entre 1/10 et 1/2 : 188128\n",
      "Nb success supérieur à 1/2 : 34166526\n",
      "\n",
      "\n"
     ]
    }
   ],
   "source": [
    "for m in DATASETS_RESULTS:\n",
    "    print('#####################################################')\n",
    "    print(m['dataset'])\n",
    "\n",
    "    print('--------------------------------')\n",
    "    print('Baseline')\n",
    "    print('AP_success={:05.2%}, AP_errors={:05.2%}, AUC={:05.2%}'.format(m['ap_success'],\n",
    "                                                                         m['ap_errors'], \n",
    "                                                                         m['auc']))\n",
    "    print('Nb errors inférieur à 1/10 :', len(np.where((m['accurate_pred']==0) \n",
    "                 & (m['confidence_pred']<1/10))[0]))\n",
    "    print('Nb errors entre 1/10 et 1/2 :', len(np.where((m['accurate_pred']==0) \n",
    "                 & (m['confidence_pred']>1/10) \n",
    "                 & (m['confidence_pred']<1/2))[0]))\n",
    "    print('Nb errors supérieur à 1/2 :', len(np.where((m['accurate_pred']==0) \n",
    "                 & (m['confidence_pred']>1/2))[0]))\n",
    "    print('Nb success inférieur à 1/10 :', len(np.where((m['accurate_pred']==1) \n",
    "             & (m['confidence_pred']<1/10))[0]))\n",
    "    print('Nb success entre 1/10 et 1/2 :', len(np.where((m['accurate_pred']==1) \n",
    "                 & (m['confidence_pred']>1/10) \n",
    "                 & (m['confidence_pred']<1/2))[0]))\n",
    "    print('Nb success supérieur à 1/2 :', len(np.where((m['accurate_pred']==1) \n",
    "                 & (m['confidence_pred']>1/2))[0]))\n",
    "    \n",
    "    print('--------------------------------')\n",
    "    print('TCP')\n",
    "    print('AP_success={:05.2%}, AP_errors={:05.2%}, AUC={:05.2%}'.format(m['ap_success_gt'],\n",
    "                                                                         m['ap_errors_gt'], \n",
    "                                                                         m['auc_gt']))\n",
    "    print('Nb errors inférieur à 1/10 :', len(np.where((m['accurate_gt']==0) \n",
    "                 & (m['confidence_gt']<1/10))[0]))\n",
    "    print('Nb errors entre 1/10 et 1/2 :', len(np.where((m['accurate_gt']==0) \n",
    "                 & (m['confidence_gt']>1/10) \n",
    "                 & (m['confidence_gt']<1/2))[0]))\n",
    "    print('Nb errors supérieur à 1/2 :', len(np.where((m['accurate_gt']==0) \n",
    "                 & (m['confidence_gt']>1/2))[0]))\n",
    "    print('Nb success inférieur à 1/10 :', len(np.where((m['accurate_gt']==1) \n",
    "             & (m['confidence_gt']<1/10))[0]))\n",
    "    print('Nb success entre 1/10 et 1/2 :', len(np.where((m['accurate_gt']==1) \n",
    "                 & (m['confidence_gt']>1/10) \n",
    "                 & (m['confidence_gt']<1/2))[0]))\n",
    "    print('Nb success supérieur à 1/2 :', len(np.where((m['accurate_gt']==1) \n",
    "                 & (m['confidence_gt']>1/2))[0]))\n",
    "    print('\\n')"
   ]
  },
  {
   "cell_type": "code",
   "execution_count": null,
   "metadata": {},
   "outputs": [],
   "source": []
  },
  {
   "cell_type": "code",
   "execution_count": null,
   "metadata": {},
   "outputs": [],
   "source": []
  },
  {
   "cell_type": "code",
   "execution_count": 11,
   "metadata": {},
   "outputs": [
    {
     "data": {
      "image/png": "[encoded data removed]",
      "text/plain": [
       "<Figure size 1080x360 with 2 Axes>"
      ]
     },
     "metadata": {},
     "output_type": "display_data"
    }
   ],
   "source": [
    "plt.figure(figsize=(15,5))\n",
    "plt.subplot(121)\n",
    "#plt.title(r'$\\bf{{(a)\\ Maximum\\ Class\\ Probability}}$', y=-0.2)\n",
    "plt.title('(a) Maximum Class Probability', y=-0.2, fontsize=14)\n",
    "plt.hist(MODELS[m]['confidence_pred'][np.where(MODELS[m]['accurate_pred']==1)], \n",
    "         bins=np.linspace(0, 1,num=21), density=True, color='green',label='Successes')\n",
    "plt.hist(MODELS[m]['confidence_pred'][np.where(MODELS[m]['accurate_pred']==0)], \n",
    "         bins=np.linspace(0, 1,num=21), density=True, alpha=0.5, color='red',label='Errors')\n",
    "plt.xlabel('Confidence')\n",
    "plt.ylabel('Relative density')\n",
    "plt.xlim(left=0, right=1)\n",
    "plt.legend()\n",
    "plt.subplot(122)\n",
    "#plt.title(r'$\\bf{{(b)\\ Our\\ Proposal\\ (True\\ Class\\ Probability)}}$', y=-0.2)\n",
    "plt.title('(b) Our Proposal (True Class Probability)', y=-0.2, fontsize=14)\n",
    "plt.hist(MODELS[m]['confidence_gt'][np.where(MODELS[m]['accurate_gt']==1)], \n",
    "         bins=np.linspace(0, 1,num=21), density=True, color='green',label='Successes')\n",
    "plt.hist(MODELS[m]['confidence_gt'][np.where(MODELS[m]['accurate_gt']==0)], \n",
    "         bins=np.linspace(0, 1,num=21), density=True, alpha=0.5, color='red',label='Errors')\n",
    "plt.xlabel('Confidence')\n",
    "plt.ylabel('Relative density')\n",
    "plt.xlim(left=0, right=1)\n",
    "plt.legend()\n",
    "plt.show()"
   ]
  },
  {
   "cell_type": "code",
   "execution_count": 89,
   "metadata": {},
   "outputs": [
    {
     "name": "stdout",
     "output_type": "stream",
     "text": [
      "Nb success inférieur à 1/10 : 0\n",
      "Nb errors inférieur à 1/10 : 0\n",
      "Nb success entre 1/10 et 1/2 : 33\n",
      "Nb errors entre 1/10 et 1/2 : 52\n",
      "Nb success supérieur à 1/2 : 9186\n",
      "Nb errors supérieur à 1/2 : 729\n"
     ]
    }
   ],
   "source": [
    "print('Nb success inférieur à 1/10 :', len(np.where((MODELS[m]['accurate_pred']==1) \n",
    "             & (MODELS[m]['confidence_pred']<1/10))[0]))\n",
    "print('Nb errors inférieur à 1/10 :', len(np.where((MODELS[m]['accurate_pred']==0) \n",
    "             & (MODELS[m]['confidence_pred']<1/10))[0]))\n",
    "print('Nb success entre 1/10 et 1/2 :', len(np.where((MODELS[m]['accurate_pred']==1) \n",
    "             & (MODELS[m]['confidence_pred']>1/10) \n",
    "             & (MODELS[m]['confidence_pred']<1/2))[0]))\n",
    "print('Nb errors entre 1/10 et 1/2 :', len(np.where((MODELS[m]['accurate_pred']==0) \n",
    "             & (MODELS[m]['confidence_pred']>1/10) \n",
    "             & (MODELS[m]['confidence_pred']<1/2))[0]))\n",
    "print('Nb success supérieur à 1/2 :', len(np.where((MODELS[m]['accurate_pred']==1) \n",
    "             & (MODELS[m]['confidence_pred']>1/2))[0]))\n",
    "print('Nb errors supérieur à 1/2 :', len(np.where((MODELS[m]['accurate_pred']==0) \n",
    "             & (MODELS[m]['confidence_pred']>1/2))[0]))"
   ]
  },
  {
   "cell_type": "code",
   "execution_count": 118,
   "metadata": {},
   "outputs": [
    {
     "name": "stdout",
     "output_type": "stream",
     "text": [
      "Nb success inférieur à 1/10 : 0\n",
      "Nb errors inférieur à 1/10 : 469\n",
      "Nb success entre 1/10 et 1/2 : 33\n",
      "Nb success entre 1/3 et 1/2 : 30\n",
      "Nb errors entre 1/10 et 1/2 : 312\n",
      "Nb errors entre 1/10 et 1/3 : 209\n",
      "Nb success supérieur à 1/2 : 9186\n",
      "Nb errors supérieur à 1/2 : 0\n"
     ]
    }
   ],
   "source": [
    "print('Nb success inférieur à 1/10 :', len(np.where((MODELS[m]['accurate_gt']==1) \n",
    "             & (MODELS[m]['confidence_gt']<1/10))[0]))\n",
    "print('Nb errors inférieur à 1/10 :', len(np.where((MODELS[m]['accurate_gt']==0) \n",
    "             & (MODELS[m]['confidence_gt']<1/10))[0]))\n",
    "print('Nb success entre 1/10 et 1/2 :', len(np.where((MODELS[m]['accurate_gt']==1) \n",
    "             & (MODELS[m]['confidence_gt']>1/10) \n",
    "             & (MODELS[m]['confidence_gt']<1/2))[0]))\n",
    "print('Nb success entre 1/3 et 1/2 :', len(np.where((MODELS[m]['accurate_gt']==1) \n",
    "             & (MODELS[m]['confidence_gt']>1/3) \n",
    "             & (MODELS[m]['confidence_gt']<1/2))[0]))\n",
    "print('Nb errors entre 1/10 et 1/2 :', len(np.where((MODELS[m]['accurate_gt']==0) \n",
    "             & (MODELS[m]['confidence_gt']>1/10) \n",
    "             & (MODELS[m]['confidence_gt']<1/2))[0]))\n",
    "print('Nb errors entre 1/10 et 1/3 :', len(np.where((MODELS[m]['accurate_gt']==0) \n",
    "             & (MODELS[m]['confidence_gt']>1/10) \n",
    "             & (MODELS[m]['confidence_gt']<1/3))[0]))\n",
    "print('Nb success supérieur à 1/2 :', len(np.where((MODELS[m]['accurate_gt']==1) \n",
    "             & (MODELS[m]['confidence_gt']>1/2))[0]))\n",
    "print('Nb errors supérieur à 1/2 :', len(np.where((MODELS[m]['accurate_gt']==0) \n",
    "             & (MODELS[m]['confidence_gt']>1/2))[0]))"
   ]
  },
  {
   "cell_type": "code",
   "execution_count": null,
   "metadata": {},
   "outputs": [],
   "source": []
  },
  {
   "cell_type": "code",
   "execution_count": 45,
   "metadata": {
    "scrolled": false
   },
   "outputs": [
    {
     "data": {
      "image/png": "[encoded data removed]",
      "text/plain": [
       "<Figure size 1080x360 with 2 Axes>"
      ]
     },
     "metadata": {},
     "output_type": "display_data"
    },
    {
     "data": {
      "image/png": "[encoded data removed]",
      "text/plain": [
       "<Figure size 1080x360 with 2 Axes>"
      ]
     },
     "metadata": {},
     "output_type": "display_data"
    }
   ],
   "source": [
    "for i,m in enumerate(MODELS):\n",
    "    plt.figure(figsize=(15,5))\n",
    "    plt.suptitle('MODEL {}: {} \\n AP_success={:05.2%}, AP_errors={:05.2%}, AUC={:05.2%}'.format(i,m, MODELS[m]['ap_success'], MODELS[m]['ap_errors'], MODELS[m]['auc']))\n",
    "    plt.subplot(121)\n",
    "    plt.hist(MODELS[m]['confidence_pred'][np.where(MODELS[m]['accurate_pred']==1)], bins=np.linspace(0, 1,num=31), density=True, color='green',label='Success')\n",
    "    plt.hist(MODELS[m]['confidence_pred'][np.where(MODELS[m]['accurate_pred']==0)], bins=np.linspace(0, 1,num=31), density=True, alpha=0.5, color='red',label='Errors')\n",
    "    plt.xlabel('Confidence')\n",
    "    plt.ylabel('Relative density')\n",
    "    plt.xlim(left=0, right=1)\n",
    "    plt.subplot(122)\n",
    "    plt.hist(MODELS[m]['confidence_pred'][np.where(MODELS[m]['accurate_pred']==1)], bins=np.linspace(0, 1,num=31), cumulative=1, density=True, color='green',label='Success')\n",
    "    plt.hist(MODELS[m]['confidence_pred'][np.where(MODELS[m]['accurate_pred']==0)], bins=np.linspace(0, 1,num=31), cumulative=-1, density=True, alpha=0.5, color='red',label='Errors')\n",
    "    plt.axvline(x=1-MODELS[m]['accuracy'], color='r', linestyle='--', label='Test error')\n",
    "    plt.axvline(x=MODELS[m]['accuracy'], color='g', linestyle='--', label='Accuracy')\n",
    "    plt.xlabel('Confidence')\n",
    "    plt.ylabel('Cumulative density')\n",
    "    plt.xlim(left=0, right=1)\n",
    "    plt.legend()\n",
    "    plt.show()\n",
    "    \n",
    "    if MODELS[m]['mode']==[]:\n",
    "        plt.figure(figsize=(15,5))\n",
    "        plt.suptitle('GT comparison: {} \\n AP_success={:05.2%}, AP_errors={:05.2%}, AUC={:05.2%}'.format(m, MODELS[m]['ap_success_gt'], MODELS[m]['ap_errors_gt'], MODELS[m]['auc_gt']))\n",
    "        plt.subplot(121)\n",
    "        plt.hist(MODELS[m]['confidence_gt'][np.where(MODELS[m]['accurate_gt']==1)], bins=np.linspace(0, 1,num=31), density=True, color='green',label='Success')\n",
    "        plt.hist(MODELS[m]['confidence_gt'][np.where(MODELS[m]['accurate_gt']==0)], bins=np.linspace(0, 1,num=31), density=True, alpha=0.5, color='red',label='Errors')\n",
    "        plt.xlabel('Confidence')\n",
    "        plt.ylabel('Relative density')\n",
    "        plt.xlim(left=0, right=1)\n",
    "        plt.subplot(122)\n",
    "        plt.hist(MODELS[m]['confidence_gt'][np.where(MODELS[m]['accurate_gt']==1)], bins=np.linspace(0, 1,num=31), cumulative=1, density=True, color='green',label='Success')\n",
    "        plt.hist(MODELS[m]['confidence_gt'][np.where(MODELS[m]['accurate_gt']==0)], bins=np.linspace(0, 1,num=31), cumulative=-1, density=True, alpha=0.5, color='red',label='Errors')\n",
    "        plt.axvline(x=1-MODELS[m]['accuracy'], color='r', linestyle='--', label='Test error')\n",
    "        plt.axvline(x=MODELS[m]['accuracy'], color='g', linestyle='--', label='Accuracy')\n",
    "        plt.xlabel('Confidence')\n",
    "        plt.ylabel('Cumulative density')\n",
    "        plt.xlim(left=0, right=1)\n",
    "        plt.legend()\n",
    "        plt.show() \n",
    "        \n",
    "        '''        \n",
    "        plt.figure(figsize=(15,5))\n",
    "        plt.suptitle('TrustScore comparison: {} \\n AP_success={:05.2%}, AP_errors={:05.2%}, AUC={:05.2%}'.format(m, MODELS[m]['ap_success_ts'], MODELS[m]['ap_errors_ts'], MODELS[m]['auc_ts']))\n",
    "        plt.subplot(121)\n",
    "        xmin, xmax = MODELS[m]['confidence_ts'].min(), MODELS[m]['confidence_ts'].max()\n",
    "        plt.hist(MODELS[m]['confidence_ts'][np.where(MODELS[m]['accurate_ts']==1)][:,np.newaxis], bins=np.linspace(xmin, xmax,num=30), density=True, color='green',label='Success')\n",
    "        plt.hist(MODELS[m]['confidence_ts'][np.where(MODELS[m]['accurate_ts']==0)][:,np.newaxis], bins=np.linspace(xmin, xmax,num=30), density=True, alpha=0.5, color='red',label='Errors')\n",
    "        plt.xlabel('Confidence')\n",
    "        plt.ylabel('Relative density')\n",
    "        plt.xlim(left=xmin, right=xmax)\n",
    "        plt.subplot(122)\n",
    "        plt.hist(MODELS[m]['confidence_ts'][np.where(MODELS[m]['accurate_ts']==1)][:,np.newaxis], bins=np.linspace(xmin, xmax,num=30), cumulative=1, density=True, color='green',label='Success')\n",
    "        plt.hist(MODELS[m]['confidence_ts'][np.where(MODELS[m]['accurate_ts']==0)][:,np.newaxis], bins=np.linspace(xmin, xmax,num=30), cumulative=-1, density=True, alpha=0.5, color='red',label='Errors')\n",
    "        plt.axvline(x=1-MODELS[m]['accuracy'], color='r', linestyle='--', label='Test error')\n",
    "        plt.axvline(x=MODELS[m]['accuracy'], color='g', linestyle='--', label='Accuracy')\n",
    "        plt.xlabel('Confidence')\n",
    "        plt.ylabel('Cumulative density')\n",
    "        plt.xlim(left=xmin, right=xmax)\n",
    "        plt.legend()\n",
    "        plt.show() \n",
    "        \n",
    "\n",
    "        plt.figure(figsize=(15,5))\n",
    "        plt.suptitle('MCDropout comparison: {} \\n AP_success={:05.2%}, AP_errors={:05.2%}, AUC={:05.2%}'.format(m, MODELS[m]['ap_success_ts'], MODELS[m]['ap_errors_mc'], MODELS[m]['auc_mc']))\n",
    "        plt.subplot(121)\n",
    "        xmin, xmax = MODELS[m]['confidence_mc'].min(), MODELS[m]['confidence_mc'].max()\n",
    "        plt.hist(MODELS[m]['confidence_mc'][np.where(MODELS[m]['accurate_mc']==1)][:,np.newaxis], bins=np.linspace(xmin, xmax,num=30), density=True, color='green',label='Success')\n",
    "        plt.hist(MODELS[m]['confidence_mc'][np.where(MODELS[m]['accurate_mc']==0)][:,np.newaxis], bins=np.linspace(xmin, xmax,num=30), density=True, alpha=0.5, color='red',label='Errors')\n",
    "        plt.xlabel('Confidence')\n",
    "        plt.ylabel('Relative density')\n",
    "        plt.xlim(left=xmin, right=xmax)\n",
    "        plt.subplot(122)\n",
    "        plt.hist(MODELS[m]['confidence_mc'][np.where(MODELS[m]['accurate_mc']==1)][:,np.newaxis], bins=np.linspace(xmin, xmax,num=30), cumulative=1, density=True, color='green',label='Success')\n",
    "        plt.hist(MODELS[m]['confidence_mc'][np.where(MODELS[m]['accurate_mc']==0)][:,np.newaxis], bins=np.linspace(xmin, xmax,num=30), cumulative=-1, density=True, alpha=0.5, color='red',label='Errors')\n",
    "        plt.axvline(x=1-MODELS[m]['accuracy'], color='r', linestyle='--', label='Test error')\n",
    "        plt.axvline(x=MODELS[m]['accuracy'], color='g', linestyle='--', label='Accuracy')\n",
    "        plt.xlabel('Confidence')\n",
    "        plt.ylabel('Cumulative density')\n",
    "        plt.xlim(left=xmin, right=xmax)\n",
    "        plt.legend()\n",
    "        plt.show() \n",
    "        '''"
   ]
  },
  {
   "cell_type": "code",
   "execution_count": 148,
   "metadata": {},
   "outputs": [
    {
     "name": "stderr",
     "output_type": "stream",
     "text": [
      "/home/docker_user/miniconda/lib/python3.6/site-packages/ipykernel_launcher.py:6: RuntimeWarning: Mean of empty slice.\n",
      "  \n",
      "/home/docker_user/miniconda/lib/python3.6/site-packages/ipykernel_launcher.py:4: RuntimeWarning: Mean of empty slice.\n",
      "  after removing the cwd from sys.path.\n"
     ]
    }
   ],
   "source": [
    "level_bins = np.linspace(0,1,101)\n",
    "\n",
    "precision_lvl_success, precision_lvl_error = [], []\n",
    "for lvl in level_bins:\n",
    "    confidence_above_level = np.where(MODELS['lenet_baseline']['confidence_pred']>lvl)[0]\n",
    "    precision_lvl_success.append(MODELS['lenet_baseline']['accurate_pred'][confidence_above_level].mean())\n",
    "    confidence_above_level = np.where(MODELS['lenet_baseline']['confidence_pred']<lvl)[0]\n",
    "    precision_lvl_error.append(MODELS['lenet_baseline']['errors_pred'][confidence_above_level].mean())"
   ]
  },
  {
   "cell_type": "code",
   "execution_count": 147,
   "metadata": {},
   "outputs": [
    {
     "data": {
      "image/png": "[encoded data removed]",
      "text/plain": [
       "<Figure size 1080x360 with 2 Axes>"
      ]
     },
     "metadata": {
      "needs_background": "light"
     },
     "output_type": "display_data"
    }
   ],
   "source": [
    "from sklearn.metrics import precision_recall_curve\n",
    "\n",
    "plt.figure(figsize=(15,5))\n",
    "plt.suptitle('Detecting Trustworthy')\n",
    "plt.subplot(121)\n",
    "precision, recall, _ = precision_recall_curve(MODELS[m]['accurate_pred'], MODELS[m]['confidence_pred'])\n",
    "plt.plot(recall*100 ,precision[::-1], label='pred')\n",
    "#precision, recall, _ = precision_recall_curve(MODELS[m]['accurate_gt'], MODELS[m]['confidence_gt'])\n",
    "#plt.plot(recall*100 ,precision[::-1], label='gt')\n",
    "precision, recall, _ = precision_recall_curve(MODELS[m]['accurate_ts'], MODELS[m]['confidence_ts'])\n",
    "plt.plot(recall*100 ,precision[::-1], label='ts')\n",
    "\n",
    "plt.subplot(122)\n",
    "plt.suptitle('Detecting Suspicious')\n",
    "plt.xlim(80,100)\n",
    "precision, recall, _ = precision_recall_curve(MODELS[m]['errors_pred'], -MODELS[m]['confidence_pred'])\n",
    "plt.plot(recall[:-4]*100 ,precision[:-4][::-1], label='pred')\n",
    "#precision, recall, _ = precision_recall_curve(MODELS[m]['errors_gt'], -MODELS[m]['confidence_gt'])\n",
    "#plt.plot(recall[:-4]*100 ,precision[:-4][::-1], label='gt')\n",
    "precision, recall, _ = precision_recall_curve(MODELS[m]['errors_ts'], -MODELS[m]['confidence_ts'])\n",
    "plt.plot(recall[:-4]*100 ,precision[:-4][::-1], label='ts')\n",
    "plt.legend()\n",
    "\n",
    "plt.show()"
   ]
  },
  {
   "cell_type": "markdown",
   "metadata": {},
   "source": [
    "## Metrics per accuracy value \n",
    "\n",
    "We train a LeNet model and select model during training at specific epochs to analyze how the improvement on AP deals with accuracy"
   ]
  },
  {
   "cell_type": "code",
   "execution_count": 2,
   "metadata": {},
   "outputs": [],
   "source": [
    "import matplotlib.pyplot as plt\n",
    "import numpy as np\n",
    "%matplotlib inline"
   ]
  },
  {
   "cell_type": "code",
   "execution_count": 15,
   "metadata": {},
   "outputs": [],
   "source": [
    "epoch = np.array([10,20,50,100,200,300,443])\n",
    "accuracy = np.array([45.08,53.38,63.17, 68.83, 72.32, 74.44, 75.34])\n",
    "ap_original = np.array([66.25,76.29, 85.62, 90.36, 92.93, 93.22, 93.60])\n",
    "ap_ours = np.array([73.06,79.19,87.45,91.32,93.32, 93.73,93.96])"
   ]
  },
  {
   "cell_type": "code",
   "execution_count": 22,
   "metadata": {},
   "outputs": [
    {
     "data": {
      "image/png": "[encoded data removed]",
      "text/plain": [
       "<Figure size 1080x360 with 2 Axes>"
      ]
     },
     "metadata": {
      "needs_background": "light"
     },
     "output_type": "display_data"
    }
   ],
   "source": [
    "plt.figure(figsize=(15,5))\n",
    "\n",
    "plt.subplot(121)\n",
    "plt.title('Visualizing AP per epoch')\n",
    "plt.plot(epoch, ap_original, marker='o', label='Original training')\n",
    "plt.plot(epoch, ap_ours, marker='o', label='Confidence FT')\n",
    "plt.xlabel('Epoch')\n",
    "plt.ylabel('AP')\n",
    "plt.legend()\n",
    "\n",
    "plt.subplot(122)\n",
    "plt.title('Visualizing AP per accuracy ')\n",
    "plt.plot(accuracy, ap_original, marker='o', label='Original training')\n",
    "plt.plot(accuracy, ap_ours, marker='o', label='Confidence FT')\n",
    "plt.xlabel('Accuracy')\n",
    "plt.ylabel('AP')\n",
    "plt.legend()\n",
    "\n",
    "plt.show()"
   ]
  },
  {
   "cell_type": "code",
   "execution_count": 21,
   "metadata": {},
   "outputs": [
    {
     "data": {
      "image/png": "[encoded data removed]",
      "text/plain": [
       "<Figure size 720x360 with 1 Axes>"
      ]
     },
     "metadata": {
      "needs_background": "light"
     },
     "output_type": "display_data"
    }
   ],
   "source": [
    "plt.figure(figsize=(10,5))\n",
    "plt.title('Visualizing AP difference per accuracy')\n",
    "plt.plot(accuracy, ap_ours-ap_original, marker='o')\n",
    "plt.xlabel('Accuracy')\n",
    "plt.ylabel('AP Difference in %')\n",
    "plt.show()"
   ]
  },
  {
   "cell_type": "code",
   "execution_count": 4,
   "metadata": {},
   "outputs": [
    {
     "data": {
      "image/png": "[encoded data removed]",
      "text/plain": [
       "<Figure size 1080x360 with 2 Axes>"
      ]
     },
     "metadata": {},
     "output_type": "display_data"
    }
   ],
   "source": [
    "a = [1,2,3,4,5,6,7]\n",
    "b = [27.28, 47.30, 50.56, 49.84, 50.43, 50.50, 50.17]\n",
    "\n",
    "c = [16, 32, 64, 128, 256, 512, 1024]\n",
    "d = [39.44, 40.74, 42.79, 41.53, 41.04, 43.32, 43.70]\n",
    "e = [44.33, 46.60, 45.57, 46.27, 43.76, 48.18, 45.20]\n",
    "f = [44.13, 46.28, 46.29, 47.45, 45.59, 50.43, 48.38]\n",
    "\n",
    "plt.figure(figsize=(15,5))\n",
    "plt.subplot(121)\n",
    "plt.plot(a, b, marker='o', color='b', label='SelfConfid')\n",
    "plt.xlabel('Number of layers')\n",
    "plt.ylabel('AP Error (%)')\n",
    "plt.axhline(y=48.18, color='r', linestyle='--', label='MaxProb')\n",
    "plt.axhline(y=43.32, color='g', linestyle='--', label='TrustScore')\n",
    "plt.legend()\n",
    "plt.subplot(122)\n",
    "plt.plot(c, f, marker='o', color='b', label='SelfConfid')\n",
    "plt.plot(c, d, marker='o', color='g', label='TrustScore')\n",
    "plt.plot(c, e, marker='o', color='r', label='MaxProb')\n",
    "plt.xlabel('Output dimension from last feature space')\n",
    "plt.ylabel('AP Error (%)')\n",
    "plt.xscale('log')\n",
    "plt.xticks(c, c)\n",
    "plt.legend()\n",
    "plt.show()"
   ]
  },
  {
   "cell_type": "code",
   "execution_count": 5,
   "metadata": {},
   "outputs": [
    {
     "data": {
      "image/png": "[encoded data removed]",
      "text/plain": [
       "<Figure size 1080x360 with 1 Axes>"
      ]
     },
     "metadata": {},
     "output_type": "display_data"
    }
   ],
   "source": [
    "plt.figure(figsize=(15,5))\n",
    "plt.plot(a, b, marker='o', color='b', label='SelfConfid')\n",
    "plt.xlabel('Number of layers')\n",
    "plt.ylabel('AP Error (%)')\n",
    "plt.axhline(y=48.18, color='r', linestyle='--', label='MaxProb')\n",
    "plt.axhline(y=43.32, color='g', linestyle='--', label='TrustScore')\n",
    "plt.legend()\n",
    "plt.show()"
   ]
  },
  {
   "cell_type": "code",
   "execution_count": null,
   "metadata": {},
   "outputs": [],
   "source": []
  }
 ],
 "metadata": {
  "kernelspec": {
   "display_name": "Python 3",
   "language": "python",
   "name": "python3"
  },
  "language_info": {
   "codemirror_mode": {
    "name": "ipython",
    "version": 3
   },
   "file_extension": ".py",
   "mimetype": "text/x-python",
   "name": "python",
   "nbconvert_exporter": "python",
   "pygments_lexer": "ipython3",
   "version": "3.6.5"
  }
 },
 "nbformat": 4,
 "nbformat_minor": 2
}
