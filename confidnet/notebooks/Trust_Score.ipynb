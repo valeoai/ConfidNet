{
 "cells": [
  {
   "cell_type": "code",
   "execution_count": 1,
   "metadata": {},
   "outputs": [],
   "source": [
    "from sklearn import datasets\n",
    "iris = datasets.load_iris()\n",
    "X_iris = iris.data\n",
    "y_iris = iris.target\n",
    "digits = datasets.load_digits()\n",
    "X_digits = digits.data\n",
    "y_digits = digits.target\n",
    "datasets = [(X_iris, y_iris), (X_digits, y_digits)]\n",
    "dataset_names = [\"Iris\", \"Digits\"]"
   ]
  },
  {
   "cell_type": "code",
   "execution_count": 2,
   "metadata": {},
   "outputs": [
    {
     "name": "stderr",
     "output_type": "stream",
     "text": [
      "/home/docker_user/miniconda/lib/python3.6/site-packages/sklearn/linear_model/logistic.py:433: FutureWarning: Default solver will be changed to 'lbfgs' in 0.22. Specify a solver to silence this warning.\n",
      "  FutureWarning)\n",
      "/home/docker_user/miniconda/lib/python3.6/site-packages/sklearn/linear_model/logistic.py:460: FutureWarning: Default multi_class will be changed to 'auto' in 0.22. Specify the multi_class option to silence this warning.\n",
      "  \"this warning.\", FutureWarning)\n"
     ]
    },
    {
     "name": "stdout",
     "output_type": "stream",
     "text": [
      "Starting\n",
      "Run in 0.09359526634216309 secondes\n",
      "Run in 0.015978336334228516 secondes\n",
      "Run in 0.009139776229858398 secondes\n",
      "Run in 0.0069239139556884766 secondes\n",
      "Run in 0.006909370422363281 secondes\n",
      "Run in 0.006665706634521484 secondes\n",
      "Run in 0.006805419921875 secondes\n",
      "Run in 0.006699323654174805 secondes\n",
      "Run in 0.006638765335083008 secondes\n",
      "Run in 0.007005929946899414 secondes\n",
      "(497, 10)\n",
      "(497,)\n",
      "(497,)\n"
     ]
    }
   ],
   "source": [
    "from sklearn.linear_model import LogisticRegression\n",
    "import sys\n",
    "sys.path.insert(0, '../')\n",
    "from utils import trust_scores\n",
    "\n",
    "# Train logistic regression on digits.\n",
    "model = LogisticRegression()\n",
    "model.fit(X_digits[:1300], y_digits[:1300])\n",
    "# Get outputs on testing set.\n",
    "y_pred = model.predict(X_digits[1300:])\n",
    "# Initialize trust score.\n",
    "trust_model = trust_scores.TrustScore()\n",
    "trust_model.fit(X_digits[:1300], y_digits[:1300])\n",
    "# Compute trusts score, given (unlabeled) testing examples and (hard) model predictions.\n",
    "trust_score = trust_model.get_score(X_digits[1300:], y_pred)"
   ]
  },
  {
   "cell_type": "code",
   "execution_count": 3,
   "metadata": {},
   "outputs": [
    {
     "data": {
      "text/plain": [
       "(497,)"
      ]
     },
     "execution_count": 3,
     "metadata": {},
     "output_type": "execute_result"
    }
   ],
   "source": [
    "trust_score.shape"
   ]
  },
  {
   "cell_type": "code",
   "execution_count": 3,
   "metadata": {},
   "outputs": [
    {
     "data": {
      "text/plain": [
       "(497,)"
      ]
     },
     "execution_count": 3,
     "metadata": {},
     "output_type": "execute_result"
    }
   ],
   "source": [
    "y_pred.shape"
   ]
  },
  {
   "cell_type": "code",
   "execution_count": 7,
   "metadata": {},
   "outputs": [
    {
     "data": {
      "text/plain": [
       "(1797, 64)"
      ]
     },
     "execution_count": 7,
     "metadata": {},
     "output_type": "execute_result"
    }
   ],
   "source": [
    "X_digits.shape"
   ]
  },
  {
   "cell_type": "code",
   "execution_count": 4,
   "metadata": {},
   "outputs": [
    {
     "data": {
      "text/plain": [
       "range(0, 1797)"
      ]
     },
     "execution_count": 4,
     "metadata": {},
     "output_type": "execute_result"
    }
   ],
   "source": [
    "range(X_digits.shape[0])"
   ]
  },
  {
   "cell_type": "code",
   "execution_count": null,
   "metadata": {},
   "outputs": [],
   "source": []
  }
 ],
 "metadata": {
  "kernelspec": {
   "display_name": "Python 3",
   "language": "python",
   "name": "python3"
  },
  "language_info": {
   "codemirror_mode": {
    "name": "ipython",
    "version": 3
   },
   "file_extension": ".py",
   "mimetype": "text/x-python",
   "name": "python",
   "nbconvert_exporter": "python",
   "pygments_lexer": "ipython3",
   "version": "3.6.6"
  }
 },
 "nbformat": 4,
 "nbformat_minor": 2
}
